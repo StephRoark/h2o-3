{
 "cells": [
  {
   "cell_type": "code",
   "execution_count": null,
   "metadata": {
    "collapsed": true
   },
   "outputs": [],
   "source": [
    "import h2o"
   ]
  },
  {
   "cell_type": "code",
   "execution_count": null,
   "metadata": {
    "collapsed": false,
    "scrolled": true
   },
   "outputs": [],
   "source": [
    "# Connect to a cluster\n",
    "h2o.init()"
   ]
  },
  {
   "cell_type": "code",
   "execution_count": null,
   "metadata": {
    "collapsed": false
   },
   "outputs": [],
   "source": [
    "weather_path = h2o.locate(\"smalldata/chicago/chicagoAllWeather.csv\")\n",
    "census_path = h2o.locate(\"smalldata/chicago/chicagoCensus.csv\")\n",
    "crimes_path = h2o.locate(\"smalldata/chicago/chicagoCrimes10k.csv.zip\")\n",
    "\n",
    "print \"Import and Parse weather data\"\n",
    "weather = h2o.import_file(path=weather_path, col_types = [\"time\"] + [\"numeric\"]*6)\n",
    "weather.drop(\"date\")\n",
    "weather.describe()\n",
    "\n",
    "print \"Import and Parse census data\"\n",
    "census = h2o.import_file(path=census_path, col_types = [\"numeric\", \"enum\"] + [\"numeric\"]*7)\n",
    "census.describe()\n",
    "\n",
    "print \"Import and Parse crimes data\"\n",
    "crimes = h2o.import_file(path=crimes_path)\n",
    "crimes.describe()"
   ]
  },
  {
   "cell_type": "code",
   "execution_count": null,
   "metadata": {
    "collapsed": false
   },
   "outputs": [],
   "source": [
    "def refine_date_col(data, col, pattern):\n",
    "    data[col]         = data[col].as_date(pattern)\n",
    "    data[\"Day\"]       = data[col].day()\n",
    "    data[\"Month\"]     = data[col].month() + 1     # Since H2O indexes from 0\n",
    "    data[\"Year\"]      = data[col].year() + 1900   # Start of epoch is 1900\n",
    "    data[\"WeekNum\"]   = data[col].week()\n",
    "    data[\"WeekDay\"]   = data[col].dayOfWeek()\n",
    "    data[\"HourOfDay\"] = data[col].hour()\n",
    "    \n",
    "    data.describe()  # HACK: Force evaluation before ifelse and cut. See PUBDEV-1425.\n",
    "    \n",
    "    # Create weekend and season cols\n",
    "    # Spring = Mar, Apr, May. Summer = Jun, Jul, Aug. Autumn = Sep, Oct. Winter = Nov, Dec, Jan, Feb.\n",
    "    # data[\"Weekend\"]   = [1 if x in (\"Sun\", \"Sat\") else 0 for x in data[\"WeekDay\"]]\n",
    "    data[\"Weekend\"] = h2o.ifelse(data[\"WeekDay\"] == \"Sun\" or data[\"WeekDay\"] == \"Sat\", 1, 0)[0]\n",
    "    data[\"Season\"] = data[\"Month\"].cut([0, 2, 5, 7, 10, 12], [\"Winter\", \"Spring\", \"Summer\", \"Autumn\", \"Winter\"])\n",
    "    \n",
    "refine_date_col(crimes, \"Date\", \"%m/%d/%Y %I:%M:%S %p\")\n",
    "crimes = crimes.drop(\"Date\")\n",
    "crimes.describe()"
   ]
  },
  {
   "cell_type": "code",
   "execution_count": null,
   "metadata": {
    "collapsed": false
   },
   "outputs": [],
   "source": [
    "# Merge crimes data with weather and census\n",
    "census.set_name(0,\"Community Area\")\n",
    "weather.set_name(1,\"Month\")\n",
    "weather.set_name(2,\"Day\")\n",
    "weather.set_name(3,\"Year\")\n",
    "crimes.merge(census, allLeft=True, allRite=False)\n",
    "crimes.merge(weather, allLeft=True, allRite=False)\n",
    "crimes.describe()"
   ]
  },
  {
   "cell_type": "code",
   "execution_count": null,
   "metadata": {
    "collapsed": false
   },
   "outputs": [],
   "source": [
    "# Create test/train split\n",
    "r = crimes[\"Arrest\"].runif()\n",
    "train = crimes[r < 0.8]\n",
    "test = crimes[r >= 0.8]\n",
    "\n",
    "# Simple GBM - Predict Arrest\n",
    "data_gbm = h2o.gbm(x              =train.drop(\"Arrest\"),\n",
    "                   y              =train     [\"Arrest\"],\n",
    "                   validation_x   =test .drop(\"Arrest\"),\n",
    "                   validation_y   =test      [\"Arrest\"],\n",
    "                   ntrees         =10,\n",
    "                   max_depth      =6,\n",
    "                   distribution   =\"bernoulli\")\n",
    "\n",
    "# Simple Deep Learning - Predict Arrest\n",
    "data_dl = h2o.deeplearning(x                   =train.drop(\"Arrest\"),\n",
    "                           y                   =train     [\"Arrest\"],\n",
    "                           validation_x        =test .drop(\"Arrest\"),\n",
    "                           validation_y        =test      [\"Arrest\"],\n",
    "                           variable_importances=True,\n",
    "                           loss                =\"Automatic\")"
   ]
  },
  {
   "cell_type": "code",
   "execution_count": null,
   "metadata": {
    "collapsed": false
   },
   "outputs": [],
   "source": [
    "# GBM performance on train/test data\n",
    "train_auc_gbm = data_gbm.model_performance(train).auc()\n",
    "test_auc_gbm  = data_gbm.model_performance(test) .auc()\n",
    "\n",
    "# Deep Learning performance on train/test data\n",
    "train_auc_dl = data_dl.model_performance(train).auc()\n",
    "test_auc_dl  = data_dl.model_performance(test) .auc()\n",
    "\n",
    "# Make a pretty HTML table printout of the results\n",
    "header = [\"Model\", \"AUC Train\", \"AUC Test\"]\n",
    "table  = [\n",
    "           [\"GBM\", train_auc_gbm, test_auc_gbm],\n",
    "           [\"DL \", train_auc_dl,  test_auc_dl]\n",
    "         ]\n",
    "h2o.H2ODisplay(table, header)"
   ]
  },
  {
   "cell_type": "code",
   "execution_count": null,
   "metadata": {
    "collapsed": false
   },
   "outputs": [],
   "source": [
    "# Create new H2OFrame of crime observations\n",
    "examples = {\n",
    "            \"Date\":                 [\"02/08/2015 11:43:58 PM\", \"02/08/2015 11:00:39 PM\"],\n",
    "            \"IUCR\":                 [1811, 1150],\n",
    "            \"Primary.Type\":         [\"NARCOTICS\", \"DECEPTIVE PRACTICE\"],\n",
    "            \"Location.Description\": [\"STREET\", \"RESIDENCE\"],\n",
    "            \"Domestic\":             [\"false\", \"false\"],\n",
    "            \"Beat\":                 [422, 923],\n",
    "            \"District\":             [4, 9],\n",
    "            \"Ward\":                 [7, 14],\n",
    "            \"Community.Area\":       [46, 63],\n",
    "            \"FBI.Code\":             [18, 11]\n",
    "            }\n",
    "\n",
    "crime_examples = h2o.H2OFrame(python_obj = examples)\n",
    "\n",
    "# Refine date column and merge with census data\n",
    "refine_date_col(crime_examples, \"Date\", \"%m/%d/%Y %I:%M:%S %p\")\n",
    "crime_examples.drop(\"Date\")\n",
    "census.set_name(0,\"Community.Area\")\n",
    "crime_examples.merge(census, allLeft=True, allRite=False)\n",
    "crime_examples.describe()"
   ]
  },
  {
   "cell_type": "code",
   "execution_count": null,
   "metadata": {
    "collapsed": false
   },
   "outputs": [],
   "source": [
    "# Predict probability of arrest from new observations\n",
    "gbm_pred = data_gbm.predict(crime_examples)\n",
    "dl_pred  = data_dl .predict(crime_examples)\n",
    "\n",
    "# Make a pretty HTML table printout of the results\n",
    "header = [\"FBI Code\", \"GBM Arrest Prob\", \"DL Arrest Prob\"]\n",
    "table  = [\n",
    "           [examples[\"FBI.Code\"][0], gbm_pred[0,\"true\"], dl_pred[0,\"true\"]],\n",
    "           [examples[\"FBI.Code\"][1], gbm_pred[1,\"true\"], dl_pred[1,\"true\"]]\n",
    "         ]\n",
    "h2o.H2ODisplay(table, header)"
   ]
  },
  {
   "cell_type": "code",
   "execution_count": null,
   "metadata": {
    "collapsed": true
   },
   "outputs": [],
   "source": []
  }
 ],
 "metadata": {
  "kernelspec": {
   "display_name": "Python 2",
   "language": "python",
   "name": "python2"
  },
  "language_info": {
   "codemirror_mode": {
    "name": "ipython",
    "version": 2
   },
   "file_extension": ".py",
   "mimetype": "text/x-python",
   "name": "python",
   "nbconvert_exporter": "python",
   "pygments_lexer": "ipython2",
   "version": "2.7.10"
  }
 },
 "nbformat": 4,
 "nbformat_minor": 0
}

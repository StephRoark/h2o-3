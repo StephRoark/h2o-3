{
 "metadata": {
  "kernelspec": {
   "display_name": "Python 2",
   "language": "python",
   "name": "python2"
  },
  "language_info": {
   "codemirror_mode": {
    "name": "ipython",
    "version": 2
   },
   "file_extension": ".py",
   "mimetype": "text/x-python",
   "name": "python",
   "nbconvert_exporter": "python",
   "pygments_lexer": "ipython2",
   "version": "2.7.10"
  },
  "name": "",
  "signature": "sha256:764c2ca18c8b4e612289e44b04b0c879a3573d567c779e153d5c882fa20fa27f"
 },
 "nbformat": 3,
 "nbformat_minor": 0,
 "worksheets": [
  {
   "cells": [
    {
     "cell_type": "code",
     "collapsed": true,
     "input": [
      "import h2o"
     ],
     "language": "python",
     "metadata": {},
     "outputs": [],
     "prompt_number": 7
    },
    {
     "cell_type": "code",
     "collapsed": false,
     "input": [
      "# Connect to a cluster\n",
      "h2o.init()"
     ],
     "language": "python",
     "metadata": {
      "scrolled": true
     },
     "outputs": [
      {
       "html": [
        "<div style=\"overflow:auto\"><table style=\"width:50%\"><tr><td>H2O cluster uptime: </td>\n",
        "<td>4 minutes 13 seconds 228 milliseconds </td></tr>\n",
        "<tr><td>H2O cluster version: </td>\n",
        "<td>3.5.0.99999</td></tr>\n",
        "<tr><td>H2O cluster name: </td>\n",
        "<td>ece</td></tr>\n",
        "<tr><td>H2O cluster total nodes: </td>\n",
        "<td>1</td></tr>\n",
        "<tr><td>H2O cluster total memory: </td>\n",
        "<td>3.56 GB</td></tr>\n",
        "<tr><td>H2O cluster total cores: </td>\n",
        "<td>8</td></tr>\n",
        "<tr><td>H2O cluster allowed cores: </td>\n",
        "<td>8</td></tr>\n",
        "<tr><td>H2O cluster healthy: </td>\n",
        "<td>True</td></tr>\n",
        "<tr><td>H2O Connection ip: </td>\n",
        "<td>127.0.0.1</td></tr>\n",
        "<tr><td>H2O Connection port: </td>\n",
        "<td>54321</td></tr></table></div>"
       ],
       "metadata": {},
       "output_type": "display_data",
       "text": [
        "--------------------------  -------------------------------------\n",
        "H2O cluster uptime:         4 minutes 13 seconds 228 milliseconds\n",
        "H2O cluster version:        3.5.0.99999\n",
        "H2O cluster name:           ece\n",
        "H2O cluster total nodes:    1\n",
        "H2O cluster total memory:   3.56 GB\n",
        "H2O cluster total cores:    8\n",
        "H2O cluster allowed cores:  8\n",
        "H2O cluster healthy:        True\n",
        "H2O Connection ip:          127.0.0.1\n",
        "H2O Connection port:        54321\n",
        "--------------------------  -------------------------------------"
       ]
      }
     ],
     "prompt_number": 8
    },
    {
     "cell_type": "code",
     "collapsed": false,
     "input": [
      "from h2o.h2o import _locate # private function. used to find files within h2o git project directory.\n",
      "weather_path = _locate(\"smalldata/chicago/chicagoAllWeather.csv\")\n",
      "census_path = _locate(\"smalldata/chicago/chicagoCensus.csv\")\n",
      "crimes_path = _locate(\"smalldata/chicago/chicagoCrimes10k.csv.zip\")\n",
      "\n",
      "print \"Import and Parse weather data\"\n",
      "weather = h2o.import_file(path=weather_path, col_types = [\"time\"] + [\"numeric\"]*6)\n",
      "weather.drop(\"date\")\n",
      "weather.describe()\n",
      "\n",
      "print \"Import and Parse census data\"\n",
      "census = h2o.import_file(path=census_path, col_types = [\"numeric\", \"enum\"] + [\"numeric\"]*7)\n",
      "census.describe()\n",
      "\n",
      "print \"Import and Parse crimes data\"\n",
      "crimes = h2o.import_file(path=crimes_path)\n",
      "crimes.describe()"
     ],
     "language": "python",
     "metadata": {},
     "outputs": [
      {
       "output_type": "stream",
       "stream": "stdout",
       "text": [
        "Import and Parse weather data\n",
        "\n"
       ]
      },
      {
       "output_type": "stream",
       "stream": "stdout",
       "text": [
        "\r",
        "Parse Progress: [                                                  ] 00%"
       ]
      },
      {
       "output_type": "stream",
       "stream": "stdout",
       "text": [
        "\r",
        "Parse Progress: [##################################################] 100%"
       ]
      },
      {
       "output_type": "stream",
       "stream": "stdout",
       "text": [
        "\n",
        "Imported /Users/ece/0xdata/h2o-dev/smalldata/chicago/chicagoAllWeather.csv. Parsed 5,162 rows and 7 cols\n",
        "Rows: 5,162 Cols: 7\n",
        "\n",
        "Chunk compression summary:\n"
       ]
      },
      {
       "html": [
        "<div style=\"overflow:auto\"><table style=\"width:50%\"><tr><td>chunk_type</td>\n",
        "<td>chunk_name</td>\n",
        "<td>count</td>\n",
        "<td>count_percentage</td>\n",
        "<td>size</td>\n",
        "<td>size_percentage</td></tr>\n",
        "<tr><td>C0D</td>\n",
        "<td>Constant Reals</td>\n",
        "<td>1</td>\n",
        "<td>14.285715</td>\n",
        "<td>     80  B</td>\n",
        "<td>0.2537749</td></tr>\n",
        "<tr><td>C1N</td>\n",
        "<td>1-Byte Integers (w/o NAs)</td>\n",
        "<td>2</td>\n",
        "<td>28.57143</td>\n",
        "<td>   10.2 KB</td>\n",
        "<td>33.18107</td></tr>\n",
        "<tr><td>C1S</td>\n",
        "<td>1-Byte Fractions</td>\n",
        "<td>4</td>\n",
        "<td>57.14286</td>\n",
        "<td>   20.5 KB</td>\n",
        "<td>66.565155</td></tr></table></div>"
       ],
       "metadata": {},
       "output_type": "display_data",
       "text": [
        "chunk_type    chunk_name                 count    count_percentage    size     size_percentage\n",
        "------------  -------------------------  -------  ------------------  -------  -----------------\n",
        "C0D           Constant Reals             1        14.2857             80  B    0.253775\n",
        "C1N           1-Byte Integers (w/o NAs)  2        28.5714             10.2 KB  33.1811\n",
        "C1S           1-Byte Fractions           4        57.1429             20.5 KB  66.5652"
       ]
      },
      {
       "output_type": "stream",
       "stream": "stdout",
       "text": [
        "\n",
        "Frame distribution summary:\n"
       ]
      },
      {
       "html": [
        "<div style=\"overflow:auto\"><table style=\"width:50%\"><tr><td></td>\n",
        "<td>size</td>\n",
        "<td>number_of_rows</td>\n",
        "<td>number_of_chunks_per_column</td>\n",
        "<td>number_of_chunks</td></tr>\n",
        "<tr><td>10.0.0.24:54321</td>\n",
        "<td>   30.8 KB</td>\n",
        "<td>5162.0</td>\n",
        "<td>1.0</td>\n",
        "<td>7.0</td></tr>\n",
        "<tr><td>mean</td>\n",
        "<td>   30.8 KB</td>\n",
        "<td>5162.0</td>\n",
        "<td>1.0</td>\n",
        "<td>7.0</td></tr>\n",
        "<tr><td>min</td>\n",
        "<td>   30.8 KB</td>\n",
        "<td>5162.0</td>\n",
        "<td>1.0</td>\n",
        "<td>7.0</td></tr>\n",
        "<tr><td>max</td>\n",
        "<td>   30.8 KB</td>\n",
        "<td>5162.0</td>\n",
        "<td>1.0</td>\n",
        "<td>7.0</td></tr>\n",
        "<tr><td>stddev</td>\n",
        "<td>      0  B</td>\n",
        "<td>0.0</td>\n",
        "<td>0.0</td>\n",
        "<td>0.0</td></tr>\n",
        "<tr><td>total</td>\n",
        "<td>   30.8 KB</td>\n",
        "<td>5162.0</td>\n",
        "<td>1.0</td>\n",
        "<td>7.0</td></tr></table></div>"
       ],
       "metadata": {},
       "output_type": "display_data",
       "text": [
        "                 size     number_of_rows    number_of_chunks_per_column    number_of_chunks\n",
        "---------------  -------  ----------------  -----------------------------  ------------------\n",
        "10.0.0.24:54321  30.8 KB  5162              1                              7\n",
        "mean             30.8 KB  5162              1                              7\n",
        "min              30.8 KB  5162              1                              7\n",
        "max              30.8 KB  5162              1                              7\n",
        "stddev           0  B     0                 0                              0\n",
        "total            30.8 KB  5162              1                              7"
       ]
      },
      {
       "output_type": "stream",
       "stream": "stdout",
       "text": [
        "\n",
        "Column-by-Column Summary:\n",
        "\n"
       ]
      },
      {
       "html": [
        "<div style=\"overflow:auto\"><table style=\"width:50%\"><tr><td></td>\n",
        "<td>date</td>\n",
        "<td>month</td>\n",
        "<td>day</td>\n",
        "<td>year</td>\n",
        "<td>maxTemp</td>\n",
        "<td>meanTemp</td>\n",
        "<td>minTemp</td></tr>\n",
        "<tr><td>type</td>\n",
        "<td>time</td>\n",
        "<td>int</td>\n",
        "<td>int</td>\n",
        "<td>int</td>\n",
        "<td>int</td>\n",
        "<td>int</td>\n",
        "<td>int</td></tr>\n",
        "<tr><td>mins</td>\n",
        "<td>NaN</td>\n",
        "<td>1.0</td>\n",
        "<td>1.0</td>\n",
        "<td>2001.0</td>\n",
        "<td>-2.0</td>\n",
        "<td>-9.0</td>\n",
        "<td>-18.0</td></tr>\n",
        "<tr><td>maxs</td>\n",
        "<td>NaN</td>\n",
        "<td>12.0</td>\n",
        "<td>31.0</td>\n",
        "<td>2015.0</td>\n",
        "<td>103.0</td>\n",
        "<td>93.0</td>\n",
        "<td>82.0</td></tr>\n",
        "<tr><td>mean</td>\n",
        "<td>0.0</td>\n",
        "<td>6.47442851608</td>\n",
        "<td>15.7082526153</td>\n",
        "<td>2007.57148392</td>\n",
        "<td>58.871042921</td>\n",
        "<td>50.3103515246</td>\n",
        "<td>41.4812584968</td></tr>\n",
        "<tr><td>sigma</td>\n",
        "<td>-0.0</td>\n",
        "<td>3.46905171694</td>\n",
        "<td>8.79895173997</td>\n",
        "<td>4.0773409057</td>\n",
        "<td>21.4829777237</td>\n",
        "<td>19.9302399266</td>\n",
        "<td>19.0207297123</td></tr>\n",
        "<tr><td>zero_count</td>\n",
        "<td>-5162</td>\n",
        "<td>0</td>\n",
        "<td>0</td>\n",
        "<td>0</td>\n",
        "<td>0</td>\n",
        "<td>2</td>\n",
        "<td>16</td></tr>\n",
        "<tr><td>missing_count</td>\n",
        "<td>5162</td>\n",
        "<td>0</td>\n",
        "<td>0</td>\n",
        "<td>0</td>\n",
        "<td>13</td>\n",
        "<td>13</td>\n",
        "<td>13</td></tr></table></div>"
       ],
       "metadata": {},
       "output_type": "display_data",
       "text": [
        "               date    month          day            year           maxTemp        meanTemp       minTemp\n",
        "-------------  ------  -------------  -------------  -------------  -------------  -------------  -------------\n",
        "type           time    int            int            int            int            int            int\n",
        "mins           NaN     1.0            1.0            2001.0         -2.0           -9.0           -18.0\n",
        "maxs           NaN     12.0           31.0           2015.0         103.0          93.0           82.0\n",
        "mean           0.0     6.47442851608  15.7082526153  2007.57148392  58.871042921   50.3103515246  41.4812584968\n",
        "sigma          -0.0    3.46905171694  8.79895173997  4.0773409057   21.4829777237  19.9302399266  19.0207297123\n",
        "zero_count     -5162   0              0              0              0              2              16\n",
        "missing_count  5162    0              0              0              13             13             13"
       ]
      },
      {
       "output_type": "stream",
       "stream": "stdout",
       "text": [
        "Import and Parse census data\n",
        "\n",
        "\r",
        "Parse Progress: [                                                  ] 00%"
       ]
      },
      {
       "output_type": "stream",
       "stream": "stdout",
       "text": [
        "\r",
        "Parse Progress: [##################################################] 100%"
       ]
      },
      {
       "output_type": "stream",
       "stream": "stdout",
       "text": [
        "\n",
        "Imported /Users/ece/0xdata/h2o-dev/smalldata/chicago/chicagoCensus.csv. Parsed 79 rows and 9 cols\n",
        "Rows: 79 Cols: 9\n",
        "\n",
        "Chunk compression summary:\n"
       ]
      },
      {
       "html": [
        "<div style=\"overflow:auto\"><table style=\"width:50%\"><tr><td>chunk_type</td>\n",
        "<td>chunk_name</td>\n",
        "<td>count</td>\n",
        "<td>count_percentage</td>\n",
        "<td>size</td>\n",
        "<td>size_percentage</td></tr>\n",
        "<tr><td>C1</td>\n",
        "<td>1-Byte Integers</td>\n",
        "<td>3</td>\n",
        "<td>33.333336</td>\n",
        "<td>    441  B</td>\n",
        "<td>22.546013</td></tr>\n",
        "<tr><td>C1S</td>\n",
        "<td>1-Byte Fractions</td>\n",
        "<td>1</td>\n",
        "<td>11.111112</td>\n",
        "<td>    163  B</td>\n",
        "<td>8.333334</td></tr>\n",
        "<tr><td>C2S</td>\n",
        "<td>2-Byte Fractions</td>\n",
        "<td>4</td>\n",
        "<td>44.444447</td>\n",
        "<td>    968  B</td>\n",
        "<td>49.488754</td></tr>\n",
        "<tr><td>C4</td>\n",
        "<td>4-Byte Integers</td>\n",
        "<td>1</td>\n",
        "<td>11.111112</td>\n",
        "<td>    384  B</td>\n",
        "<td>19.6319</td></tr></table></div>"
       ],
       "metadata": {},
       "output_type": "display_data",
       "text": [
        "chunk_type    chunk_name        count    count_percentage    size    size_percentage\n",
        "------------  ----------------  -------  ------------------  ------  -----------------\n",
        "C1            1-Byte Integers   3        33.3333             441  B  22.546\n",
        "C1S           1-Byte Fractions  1        11.1111             163  B  8.33333\n",
        "C2S           2-Byte Fractions  4        44.4444             968  B  49.4888\n",
        "C4            4-Byte Integers   1        11.1111             384  B  19.6319"
       ]
      },
      {
       "output_type": "stream",
       "stream": "stdout",
       "text": [
        "\n",
        "Frame distribution summary:\n"
       ]
      },
      {
       "html": [
        "<div style=\"overflow:auto\"><table style=\"width:50%\"><tr><td></td>\n",
        "<td>size</td>\n",
        "<td>number_of_rows</td>\n",
        "<td>number_of_chunks_per_column</td>\n",
        "<td>number_of_chunks</td></tr>\n",
        "<tr><td>10.0.0.24:54321</td>\n",
        "<td>    1.9 KB</td>\n",
        "<td>79.0</td>\n",
        "<td>1.0</td>\n",
        "<td>9.0</td></tr>\n",
        "<tr><td>mean</td>\n",
        "<td>    1.9 KB</td>\n",
        "<td>79.0</td>\n",
        "<td>1.0</td>\n",
        "<td>9.0</td></tr>\n",
        "<tr><td>min</td>\n",
        "<td>    1.9 KB</td>\n",
        "<td>79.0</td>\n",
        "<td>1.0</td>\n",
        "<td>9.0</td></tr>\n",
        "<tr><td>max</td>\n",
        "<td>    1.9 KB</td>\n",
        "<td>79.0</td>\n",
        "<td>1.0</td>\n",
        "<td>9.0</td></tr>\n",
        "<tr><td>stddev</td>\n",
        "<td>      0  B</td>\n",
        "<td>0.0</td>\n",
        "<td>0.0</td>\n",
        "<td>0.0</td></tr>\n",
        "<tr><td>total</td>\n",
        "<td>    1.9 KB</td>\n",
        "<td>79.0</td>\n",
        "<td>1.0</td>\n",
        "<td>9.0</td></tr></table></div>"
       ],
       "metadata": {},
       "output_type": "display_data",
       "text": [
        "                 size    number_of_rows    number_of_chunks_per_column    number_of_chunks\n",
        "---------------  ------  ----------------  -----------------------------  ------------------\n",
        "10.0.0.24:54321  1.9 KB  79                1                              9\n",
        "mean             1.9 KB  79                1                              9\n",
        "min              1.9 KB  79                1                              9\n",
        "max              1.9 KB  79                1                              9\n",
        "stddev           0  B    0                 0                              0\n",
        "total            1.9 KB  79                1                              9"
       ]
      },
      {
       "output_type": "stream",
       "stream": "stdout",
       "text": [
        "\n",
        "Column-by-Column Summary:\n",
        "\n"
       ]
      },
      {
       "html": [
        "<div style=\"overflow:auto\"><table style=\"width:50%\"><tr><td></td>\n",
        "<td>Community Area Number</td>\n",
        "<td>COMMUNITY AREA NAME</td>\n",
        "<td>PERCENT OF HOUSING CROWDED</td>\n",
        "<td>PERCENT HOUSEHOLDS BELOW POVERTY</td>\n",
        "<td>PERCENT AGED 16  UNEMPLOYED</td>\n",
        "<td>PERCENT AGED 25  WITHOUT HIGH SCHOOL DIPLOMA</td>\n",
        "<td>PERCENT AGED UNDER 18 OR OVER 64</td>\n",
        "<td>PER CAPITA INCOME </td>\n",
        "<td>HARDSHIP INDEX</td></tr>\n",
        "<tr><td>type</td>\n",
        "<td>int</td>\n",
        "<td>enum</td>\n",
        "<td>real</td>\n",
        "<td>real</td>\n",
        "<td>real</td>\n",
        "<td>real</td>\n",
        "<td>real</td>\n",
        "<td>int</td>\n",
        "<td>int</td></tr>\n",
        "<tr><td>mins</td>\n",
        "<td>1.0</td>\n",
        "<td>0.0</td>\n",
        "<td>0.3</td>\n",
        "<td>3.3</td>\n",
        "<td>4.7</td>\n",
        "<td>2.5</td>\n",
        "<td>13.5</td>\n",
        "<td>8201.0</td>\n",
        "<td>1.0</td></tr>\n",
        "<tr><td>maxs</td>\n",
        "<td>77.0</td>\n",
        "<td>78.0</td>\n",
        "<td>15.8</td>\n",
        "<td>56.5</td>\n",
        "<td>35.9</td>\n",
        "<td>54.8</td>\n",
        "<td>51.5</td>\n",
        "<td>88669.0</td>\n",
        "<td>98.0</td></tr>\n",
        "<tr><td>mean</td>\n",
        "<td>39.0</td>\n",
        "<td>NaN</td>\n",
        "<td>4.92051282051</td>\n",
        "<td>21.7397435897</td>\n",
        "<td>15.341025641</td>\n",
        "<td>20.3307692308</td>\n",
        "<td>35.7179487179</td>\n",
        "<td>25597.0</td>\n",
        "<td>49.5064935065</td></tr>\n",
        "<tr><td>sigma</td>\n",
        "<td>22.3718573212</td>\n",
        "<td>NaN</td>\n",
        "<td>3.65898144135</td>\n",
        "<td>11.457230913</td>\n",
        "<td>7.49949670861</td>\n",
        "<td>11.7465143511</td>\n",
        "<td>7.28442108494</td>\n",
        "<td>15196.4055413</td>\n",
        "<td>28.6905556516</td></tr>\n",
        "<tr><td>zero_count</td>\n",
        "<td>0</td>\n",
        "<td>1</td>\n",
        "<td>0</td>\n",
        "<td>0</td>\n",
        "<td>0</td>\n",
        "<td>0</td>\n",
        "<td>0</td>\n",
        "<td>0</td>\n",
        "<td>0</td></tr>\n",
        "<tr><td>missing_count</td>\n",
        "<td>2</td>\n",
        "<td>0</td>\n",
        "<td>1</td>\n",
        "<td>1</td>\n",
        "<td>1</td>\n",
        "<td>1</td>\n",
        "<td>1</td>\n",
        "<td>1</td>\n",
        "<td>2</td></tr></table></div>"
       ],
       "metadata": {},
       "output_type": "display_data",
       "text": [
        "               Community Area Number    COMMUNITY AREA NAME    PERCENT OF HOUSING CROWDED    PERCENT HOUSEHOLDS BELOW POVERTY    PERCENT AGED 16  UNEMPLOYED    PERCENT AGED 25  WITHOUT HIGH SCHOOL DIPLOMA    PERCENT AGED UNDER 18 OR OVER 64    PER CAPITA INCOME     HARDSHIP INDEX\n",
        "-------------  -----------------------  ---------------------  ----------------------------  ----------------------------------  -----------------------------  ----------------------------------------------  ----------------------------------  --------------------  ----------------\n",
        "type           int                      enum                   real                          real                                real                           real                                            real                                int                   int\n",
        "mins           1.0                      0.0                    0.3                           3.3                                 4.7                            2.5                                             13.5                                8201.0                1.0\n",
        "maxs           77.0                     78.0                   15.8                          56.5                                35.9                           54.8                                            51.5                                88669.0               98.0\n",
        "mean           39.0                     NaN                    4.92051282051                 21.7397435897                       15.341025641                   20.3307692308                                   35.7179487179                       25597.0               49.5064935065\n",
        "sigma          22.3718573212            NaN                    3.65898144135                 11.457230913                        7.49949670861                  11.7465143511                                   7.28442108494                       15196.4055413         28.6905556516\n",
        "zero_count     0                        1                      0                             0                                   0                              0                                               0                                   0                     0\n",
        "missing_count  2                        0                      1                             1                                   1                              1                                               1                                   1                     2"
       ]
      },
      {
       "output_type": "stream",
       "stream": "stdout",
       "text": [
        "Import and Parse crimes data\n",
        "\n"
       ]
      },
      {
       "output_type": "stream",
       "stream": "stdout",
       "text": [
        "\r",
        "Parse Progress: [                                                  ] 00%"
       ]
      },
      {
       "output_type": "stream",
       "stream": "stdout",
       "text": [
        "\r",
        "Parse Progress: [                                                  ] 00%"
       ]
      },
      {
       "output_type": "stream",
       "stream": "stdout",
       "text": [
        "\r",
        "Parse Progress: [                                                  ] 00%"
       ]
      },
      {
       "output_type": "stream",
       "stream": "stdout",
       "text": [
        "\r",
        "Parse Progress: [                                                  ] 00%"
       ]
      },
      {
       "output_type": "stream",
       "stream": "stdout",
       "text": [
        "\r",
        "Parse Progress: [                                                  ] 00%"
       ]
      },
      {
       "output_type": "stream",
       "stream": "stdout",
       "text": [
        "\r",
        "Parse Progress: [##################################################] 100%"
       ]
      },
      {
       "output_type": "stream",
       "stream": "stdout",
       "text": [
        "\n",
        "Imported /Users/ece/0xdata/h2o-dev/smalldata/chicago/chicagoCrimes10k.csv.zip. Parsed 9,999 rows and 22 cols\n",
        "Rows: 9,999 Cols: 22\n",
        "\n"
       ]
      },
      {
       "output_type": "stream",
       "stream": "stdout",
       "text": [
        "Chunk compression summary:\n"
       ]
      },
      {
       "html": [
        "<div style=\"overflow:auto\"><table style=\"width:50%\"><tr><td>chunk_type</td>\n",
        "<td>chunk_name</td>\n",
        "<td>count</td>\n",
        "<td>count_percentage</td>\n",
        "<td>size</td>\n",
        "<td>size_percentage</td></tr>\n",
        "<tr><td>C0L</td>\n",
        "<td>Constant Integers</td>\n",
        "<td>4</td>\n",
        "<td>4.5454545</td>\n",
        "<td>    320  B</td>\n",
        "<td>0.036952097</td></tr>\n",
        "<tr><td>C1</td>\n",
        "<td>1-Byte Integers</td>\n",
        "<td>32</td>\n",
        "<td>36.363636</td>\n",
        "<td>   80.2 KB</td>\n",
        "<td>9.488375</td></tr>\n",
        "<tr><td>C1N</td>\n",
        "<td>1-Byte Integers (w/o NAs)</td>\n",
        "<td>8</td>\n",
        "<td>9.090909</td>\n",
        "<td>   20.1 KB</td>\n",
        "<td>2.3720937</td></tr>\n",
        "<tr><td>C2</td>\n",
        "<td>2-Byte Integers</td>\n",
        "<td>16</td>\n",
        "<td>18.181818</td>\n",
        "<td>   79.2 KB</td>\n",
        "<td>9.362738</td></tr>\n",
        "<tr><td>C4</td>\n",
        "<td>4-Byte Integers</td>\n",
        "<td>12</td>\n",
        "<td>13.636364</td>\n",
        "<td>  118.0 KB</td>\n",
        "<td>13.949879</td></tr>\n",
        "<tr><td>CStr</td>\n",
        "<td>String</td>\n",
        "<td>8</td>\n",
        "<td>9.090909</td>\n",
        "<td>  391.2 KB</td>\n",
        "<td>46.25294</td></tr>\n",
        "<tr><td>C8D</td>\n",
        "<td>64-bit Reals</td>\n",
        "<td>8</td>\n",
        "<td>9.090909</td>\n",
        "<td>  156.8 KB</td>\n",
        "<td>18.53702</td></tr></table></div>"
       ],
       "metadata": {},
       "output_type": "display_data",
       "text": [
        "chunk_type    chunk_name                 count    count_percentage    size      size_percentage\n",
        "------------  -------------------------  -------  ------------------  --------  -----------------\n",
        "C0L           Constant Integers          4        4.54545             320  B    0.0369521\n",
        "C1            1-Byte Integers            32       36.3636             80.2 KB   9.48837\n",
        "C1N           1-Byte Integers (w/o NAs)  8        9.09091             20.1 KB   2.37209\n",
        "C2            2-Byte Integers            16       18.1818             79.2 KB   9.36274\n",
        "C4            4-Byte Integers            12       13.6364             118.0 KB  13.9499\n",
        "CStr          String                     8        9.09091             391.2 KB  46.2529\n",
        "C8D           64-bit Reals               8        9.09091             156.8 KB  18.537"
       ]
      },
      {
       "output_type": "stream",
       "stream": "stdout",
       "text": [
        "\n",
        "Frame distribution summary:\n"
       ]
      },
      {
       "html": [
        "<div style=\"overflow:auto\"><table style=\"width:50%\"><tr><td></td>\n",
        "<td>size</td>\n",
        "<td>number_of_rows</td>\n",
        "<td>number_of_chunks_per_column</td>\n",
        "<td>number_of_chunks</td></tr>\n",
        "<tr><td>10.0.0.24:54321</td>\n",
        "<td>  845.7 KB</td>\n",
        "<td>9999.0</td>\n",
        "<td>4.0</td>\n",
        "<td>88.0</td></tr>\n",
        "<tr><td>mean</td>\n",
        "<td>  845.7 KB</td>\n",
        "<td>9999.0</td>\n",
        "<td>4.0</td>\n",
        "<td>88.0</td></tr>\n",
        "<tr><td>min</td>\n",
        "<td>  845.7 KB</td>\n",
        "<td>9999.0</td>\n",
        "<td>4.0</td>\n",
        "<td>88.0</td></tr>\n",
        "<tr><td>max</td>\n",
        "<td>  845.7 KB</td>\n",
        "<td>9999.0</td>\n",
        "<td>4.0</td>\n",
        "<td>88.0</td></tr>\n",
        "<tr><td>stddev</td>\n",
        "<td>      0  B</td>\n",
        "<td>0.0</td>\n",
        "<td>0.0</td>\n",
        "<td>0.0</td></tr>\n",
        "<tr><td>total</td>\n",
        "<td>  845.7 KB</td>\n",
        "<td>9999.0</td>\n",
        "<td>4.0</td>\n",
        "<td>88.0</td></tr></table></div>"
       ],
       "metadata": {},
       "output_type": "display_data",
       "text": [
        "                 size      number_of_rows    number_of_chunks_per_column    number_of_chunks\n",
        "---------------  --------  ----------------  -----------------------------  ------------------\n",
        "10.0.0.24:54321  845.7 KB  9999              4                              88\n",
        "mean             845.7 KB  9999              4                              88\n",
        "min              845.7 KB  9999              4                              88\n",
        "max              845.7 KB  9999              4                              88\n",
        "stddev           0  B      0                 0                              0\n",
        "total            845.7 KB  9999              4                              88"
       ]
      },
      {
       "output_type": "stream",
       "stream": "stdout",
       "text": [
        "\n",
        "Column-by-Column Summary:\n",
        "\n"
       ]
      },
      {
       "html": [
        "<div style=\"overflow:auto\"><table style=\"width:50%\"><tr><td></td>\n",
        "<td>ID</td>\n",
        "<td>Case Number</td>\n",
        "<td>Date</td>\n",
        "<td>Block</td>\n",
        "<td>IUCR</td>\n",
        "<td>Primary Type</td>\n",
        "<td>Description</td>\n",
        "<td>Location Description</td>\n",
        "<td>Arrest</td>\n",
        "<td>Domestic</td>\n",
        "<td>Beat</td>\n",
        "<td>District</td>\n",
        "<td>Ward</td>\n",
        "<td>Community Area</td>\n",
        "<td>FBI Code</td>\n",
        "<td>X Coordinate</td>\n",
        "<td>Y Coordinate</td>\n",
        "<td>Year</td>\n",
        "<td>Updated On</td>\n",
        "<td>Latitude</td>\n",
        "<td>Longitude</td>\n",
        "<td>Location</td></tr>\n",
        "<tr><td>type</td>\n",
        "<td>int</td>\n",
        "<td>string</td>\n",
        "<td>string</td>\n",
        "<td>enum</td>\n",
        "<td>int</td>\n",
        "<td>enum</td>\n",
        "<td>enum</td>\n",
        "<td>enum</td>\n",
        "<td>enum</td>\n",
        "<td>enum</td>\n",
        "<td>int</td>\n",
        "<td>int</td>\n",
        "<td>int</td>\n",
        "<td>int</td>\n",
        "<td>int</td>\n",
        "<td>int</td>\n",
        "<td>int</td>\n",
        "<td>int</td>\n",
        "<td>enum</td>\n",
        "<td>real</td>\n",
        "<td>real</td>\n",
        "<td>enum</td></tr>\n",
        "<tr><td>mins</td>\n",
        "<td>21735.0</td>\n",
        "<td>NaN</td>\n",
        "<td>NaN</td>\n",
        "<td>0.0</td>\n",
        "<td>110.0</td>\n",
        "<td>0.0</td>\n",
        "<td>0.0</td>\n",
        "<td>0.0</td>\n",
        "<td>0.0</td>\n",
        "<td>0.0</td>\n",
        "<td>111.0</td>\n",
        "<td>1.0</td>\n",
        "<td>1.0</td>\n",
        "<td>1.0</td>\n",
        "<td>2.0</td>\n",
        "<td>1100317.0</td>\n",
        "<td>1814255.0</td>\n",
        "<td>2015.0</td>\n",
        "<td>0.0</td>\n",
        "<td>41.64507243</td>\n",
        "<td>-87.906463888</td>\n",
        "<td>0.0</td></tr>\n",
        "<tr><td>maxs</td>\n",
        "<td>9962898.0</td>\n",
        "<td>NaN</td>\n",
        "<td>NaN</td>\n",
        "<td>6517.0</td>\n",
        "<td>5131.0</td>\n",
        "<td>26.0</td>\n",
        "<td>198.0</td>\n",
        "<td>90.0</td>\n",
        "<td>1.0</td>\n",
        "<td>1.0</td>\n",
        "<td>2535.0</td>\n",
        "<td>25.0</td>\n",
        "<td>50.0</td>\n",
        "<td>77.0</td>\n",
        "<td>26.0</td>\n",
        "<td>1205069.0</td>\n",
        "<td>1951533.0</td>\n",
        "<td>2015.0</td>\n",
        "<td>32.0</td>\n",
        "<td>42.022646183</td>\n",
        "<td>-87.524773286</td>\n",
        "<td>8603.0</td></tr>\n",
        "<tr><td>mean</td>\n",
        "<td>9931318.73737</td>\n",
        "<td>NaN</td>\n",
        "<td>NaN</td>\n",
        "<td>NaN</td>\n",
        "<td>1189.67651357</td>\n",
        "<td>NaN</td>\n",
        "<td>NaN</td>\n",
        "<td>NaN</td>\n",
        "<td>0.292829282928</td>\n",
        "<td>0.152315231523</td>\n",
        "<td>1159.61806181</td>\n",
        "<td>11.3489885128</td>\n",
        "<td>22.9540954095</td>\n",
        "<td>37.4476447645</td>\n",
        "<td>12.7401236227</td>\n",
        "<td>1163880.59815</td>\n",
        "<td>1885916.14984</td>\n",
        "<td>2015.0</td>\n",
        "<td>NaN</td>\n",
        "<td>41.8425652247</td>\n",
        "<td>-87.6741405221</td>\n",
        "<td>NaN</td></tr>\n",
        "<tr><td>sigma</td>\n",
        "<td>396787.564221</td>\n",
        "<td>NaN</td>\n",
        "<td>NaN</td>\n",
        "<td>NaN</td>\n",
        "<td>927.751435583</td>\n",
        "<td>NaN</td>\n",
        "<td>NaN</td>\n",
        "<td>NaN</td>\n",
        "<td>0.455083515588</td>\n",
        "<td>0.35934414686</td>\n",
        "<td>695.76029875</td>\n",
        "<td>6.94547493301</td>\n",
        "<td>13.6495661144</td>\n",
        "<td>21.2748762223</td>\n",
        "<td>7.57423857911</td>\n",
        "<td>16496.4493681</td>\n",
        "<td>31274.0163199</td>\n",
        "<td>0.0</td>\n",
        "<td>NaN</td>\n",
        "<td>0.0860186579358</td>\n",
        "<td>0.0600357970653</td>\n",
        "<td>NaN</td></tr>\n",
        "<tr><td>zero_count</td>\n",
        "<td>0</td>\n",
        "<td>0</td>\n",
        "<td>0</td>\n",
        "<td>3</td>\n",
        "<td>0</td>\n",
        "<td>11</td>\n",
        "<td>933</td>\n",
        "<td>19</td>\n",
        "<td>7071</td>\n",
        "<td>8476</td>\n",
        "<td>0</td>\n",
        "<td>0</td>\n",
        "<td>0</td>\n",
        "<td>0</td>\n",
        "<td>0</td>\n",
        "<td>0</td>\n",
        "<td>0</td>\n",
        "<td>0</td>\n",
        "<td>603</td>\n",
        "<td>0</td>\n",
        "<td>0</td>\n",
        "<td>1</td></tr>\n",
        "<tr><td>missing_count</td>\n",
        "<td>0</td>\n",
        "<td>0</td>\n",
        "<td>0</td>\n",
        "<td>0</td>\n",
        "<td>419</td>\n",
        "<td>0</td>\n",
        "<td>0</td>\n",
        "<td>6</td>\n",
        "<td>0</td>\n",
        "<td>0</td>\n",
        "<td>0</td>\n",
        "<td>162</td>\n",
        "<td>0</td>\n",
        "<td>0</td>\n",
        "<td>2557</td>\n",
        "<td>162</td>\n",
        "<td>162</td>\n",
        "<td>0</td>\n",
        "<td>0</td>\n",
        "<td>162</td>\n",
        "<td>162</td>\n",
        "<td>162</td></tr></table></div>"
       ],
       "metadata": {},
       "output_type": "display_data",
       "text": [
        "               ID             Case Number    Date    Block    IUCR           Primary Type    Description    Location Description    Arrest          Domestic        Beat           District       Ward           Community Area    FBI Code       X Coordinate    Y Coordinate    Year    Updated On    Latitude         Longitude        Location\n",
        "-------------  -------------  -------------  ------  -------  -------------  --------------  -------------  ----------------------  --------------  --------------  -------------  -------------  -------------  ----------------  -------------  --------------  --------------  ------  ------------  ---------------  ---------------  ----------\n",
        "type           int            string         string  enum     int            enum            enum           enum                    enum            enum            int            int            int            int               int            int             int             int     enum          real             real             enum\n",
        "mins           21735.0        NaN            NaN     0.0      110.0          0.0             0.0            0.0                     0.0             0.0             111.0          1.0            1.0            1.0               2.0            1100317.0       1814255.0       2015.0  0.0           41.64507243      -87.906463888    0.0\n",
        "maxs           9962898.0      NaN            NaN     6517.0   5131.0         26.0            198.0          90.0                    1.0             1.0             2535.0         25.0           50.0           77.0              26.0           1205069.0       1951533.0       2015.0  32.0          42.022646183     -87.524773286    8603.0\n",
        "mean           9931318.73737  NaN            NaN     NaN      1189.67651357  NaN             NaN            NaN                     0.292829282928  0.152315231523  1159.61806181  11.3489885128  22.9540954095  37.4476447645     12.7401236227  1163880.59815   1885916.14984   2015.0  NaN           41.8425652247    -87.6741405221   NaN\n",
        "sigma          396787.564221  NaN            NaN     NaN      927.751435583  NaN             NaN            NaN                     0.455083515588  0.35934414686   695.76029875   6.94547493301  13.6495661144  21.2748762223     7.57423857911  16496.4493681   31274.0163199   0.0     NaN           0.0860186579358  0.0600357970653  NaN\n",
        "zero_count     0              0              0       3        0              11              933            19                      7071            8476            0              0              0              0                 0              0               0               0       603           0                0                1\n",
        "missing_count  0              0              0       0        419            0               0              6                       0               0               0              162            0              0                 2557           162             162             0       0             162              162              162"
       ]
      }
     ],
     "prompt_number": 9
    },
    {
     "cell_type": "code",
     "collapsed": false,
     "input": [
      "def refine_date_col(data, col, pattern):\n",
      "    data[col]         = data[col].as_date(pattern)\n",
      "    data[\"Day\"]       = data[col].day()\n",
      "    data[\"Month\"]     = data[col].month() + 1     # Since H2O indexes from 0\n",
      "    data[\"Year\"]      = data[col].year() + 1900   # Start of epoch is 1900\n",
      "    data[\"WeekNum\"]   = data[col].week()\n",
      "    data[\"WeekDay\"]   = data[col].dayOfWeek()\n",
      "    data[\"HourOfDay\"] = data[col].hour()\n",
      "    \n",
      "    data.describe()  # HACK: Force evaluation before ifelse and cut. See PUBDEV-1425.\n",
      "    \n",
      "    # Create weekend and season cols\n",
      "    # Spring = Mar, Apr, May. Summer = Jun, Jul, Aug. Autumn = Sep, Oct. Winter = Nov, Dec, Jan, Feb.\n",
      "    # data[\"Weekend\"]   = [1 if x in (\"Sun\", \"Sat\") else 0 for x in data[\"WeekDay\"]]\n",
      "    data[\"Weekend\"] = h2o.ifelse(data[\"WeekDay\"] == \"Sun\" or data[\"WeekDay\"] == \"Sat\", 1, 0)[0]\n",
      "    data[\"Season\"] = data[\"Month\"].cut([0, 2, 5, 7, 10, 12], [\"Winter\", \"Spring\", \"Summer\", \"Autumn\", \"Winter\"])\n",
      "    \n",
      "refine_date_col(crimes, \"Date\", \"%m/%d/%Y %I:%M:%S %p\")\n",
      "crimes = crimes.drop(\"Date\")\n",
      "crimes.describe()"
     ],
     "language": "python",
     "metadata": {},
     "outputs": [
      {
       "output_type": "stream",
       "stream": "stdout",
       "text": [
        "Rows: 9,999 Cols: 27\n",
        "\n"
       ]
      },
      {
       "output_type": "stream",
       "stream": "stdout",
       "text": [
        "Chunk compression summary:\n"
       ]
      },
      {
       "html": [
        "<div style=\"overflow:auto\"><table style=\"width:50%\"><tr><td>chunk_type</td>\n",
        "<td>chunk_name</td>\n",
        "<td>count</td>\n",
        "<td>count_percentage</td>\n",
        "<td>size</td>\n",
        "<td>size_percentage</td></tr>\n",
        "<tr><td>C0L</td>\n",
        "<td>Constant Integers</td>\n",
        "<td>9</td>\n",
        "<td>8.333334</td>\n",
        "<td>    720  B</td>\n",
        "<td>0.10067409</td></tr>\n",
        "<tr><td>C1</td>\n",
        "<td>1-Byte Integers</td>\n",
        "<td>32</td>\n",
        "<td>29.62963</td>\n",
        "<td>   80.2 KB</td>\n",
        "<td>11.489151</td></tr>\n",
        "<tr><td>C1N</td>\n",
        "<td>1-Byte Integers (w/o NAs)</td>\n",
        "<td>23</td>\n",
        "<td>21.296297</td>\n",
        "<td>   57.9 KB</td>\n",
        "<td>8.296664</td></tr>\n",
        "<tr><td>C2</td>\n",
        "<td>2-Byte Integers</td>\n",
        "<td>16</td>\n",
        "<td>14.814815</td>\n",
        "<td>   79.2 KB</td>\n",
        "<td>11.337022</td></tr>\n",
        "<tr><td>C4</td>\n",
        "<td>4-Byte Integers</td>\n",
        "<td>12</td>\n",
        "<td>11.111112</td>\n",
        "<td>  118.0 KB</td>\n",
        "<td>16.891436</td></tr>\n",
        "<tr><td>C8</td>\n",
        "<td>64-bit Integers</td>\n",
        "<td>4</td>\n",
        "<td>3.7037036</td>\n",
        "<td>   78.4 KB</td>\n",
        "<td>11.222924</td></tr>\n",
        "<tr><td>CStr</td>\n",
        "<td>String</td>\n",
        "<td>4</td>\n",
        "<td>3.7037036</td>\n",
        "<td>  127.2 KB</td>\n",
        "<td>18.21628</td></tr>\n",
        "<tr><td>C8D</td>\n",
        "<td>64-bit Reals</td>\n",
        "<td>8</td>\n",
        "<td>7.4074073</td>\n",
        "<td>  156.8 KB</td>\n",
        "<td>22.445848</td></tr></table></div>"
       ],
       "metadata": {},
       "output_type": "display_data",
       "text": [
        "chunk_type    chunk_name                 count    count_percentage    size      size_percentage\n",
        "------------  -------------------------  -------  ------------------  --------  -----------------\n",
        "C0L           Constant Integers          9        8.33333             720  B    0.100674\n",
        "C1            1-Byte Integers            32       29.6296             80.2 KB   11.4892\n",
        "C1N           1-Byte Integers (w/o NAs)  23       21.2963             57.9 KB   8.29666\n",
        "C2            2-Byte Integers            16       14.8148             79.2 KB   11.337\n",
        "C4            4-Byte Integers            12       11.1111             118.0 KB  16.8914\n",
        "C8            64-bit Integers            4        3.7037              78.4 KB   11.2229\n",
        "CStr          String                     4        3.7037              127.2 KB  18.2163\n",
        "C8D           64-bit Reals               8        7.40741             156.8 KB  22.4458"
       ]
      },
      {
       "output_type": "stream",
       "stream": "stdout",
       "text": [
        "\n",
        "Frame distribution summary:\n"
       ]
      },
      {
       "html": [
        "<div style=\"overflow:auto\"><table style=\"width:50%\"><tr><td></td>\n",
        "<td>size</td>\n",
        "<td>number_of_rows</td>\n",
        "<td>number_of_chunks_per_column</td>\n",
        "<td>number_of_chunks</td></tr>\n",
        "<tr><td>10.0.0.24:54321</td>\n",
        "<td>  698.4 KB</td>\n",
        "<td>9999.0</td>\n",
        "<td>4.0</td>\n",
        "<td>108.0</td></tr>\n",
        "<tr><td>mean</td>\n",
        "<td>  698.4 KB</td>\n",
        "<td>9999.0</td>\n",
        "<td>4.0</td>\n",
        "<td>108.0</td></tr>\n",
        "<tr><td>min</td>\n",
        "<td>  698.4 KB</td>\n",
        "<td>9999.0</td>\n",
        "<td>4.0</td>\n",
        "<td>108.0</td></tr>\n",
        "<tr><td>max</td>\n",
        "<td>  698.4 KB</td>\n",
        "<td>9999.0</td>\n",
        "<td>4.0</td>\n",
        "<td>108.0</td></tr>\n",
        "<tr><td>stddev</td>\n",
        "<td>      0  B</td>\n",
        "<td>0.0</td>\n",
        "<td>0.0</td>\n",
        "<td>0.0</td></tr>\n",
        "<tr><td>total</td>\n",
        "<td>  698.4 KB</td>\n",
        "<td>9999.0</td>\n",
        "<td>4.0</td>\n",
        "<td>108.0</td></tr></table></div>"
       ],
       "metadata": {},
       "output_type": "display_data",
       "text": [
        "                 size      number_of_rows    number_of_chunks_per_column    number_of_chunks\n",
        "---------------  --------  ----------------  -----------------------------  ------------------\n",
        "10.0.0.24:54321  698.4 KB  9999              4                              108\n",
        "mean             698.4 KB  9999              4                              108\n",
        "min              698.4 KB  9999              4                              108\n",
        "max              698.4 KB  9999              4                              108\n",
        "stddev           0  B      0                 0                              0\n",
        "total            698.4 KB  9999              4                              108"
       ]
      },
      {
       "output_type": "stream",
       "stream": "stdout",
       "text": [
        "\n",
        "Column-by-Column Summary:\n",
        "\n"
       ]
      },
      {
       "html": [
        "<div style=\"overflow:auto\"><table style=\"width:50%\"><tr><td></td>\n",
        "<td>ID</td>\n",
        "<td>Case Number</td>\n",
        "<td>Date</td>\n",
        "<td>Block</td>\n",
        "<td>IUCR</td>\n",
        "<td>Primary Type</td>\n",
        "<td>Description</td>\n",
        "<td>Location Description</td>\n",
        "<td>Arrest</td>\n",
        "<td>Domestic</td>\n",
        "<td>Beat</td>\n",
        "<td>District</td>\n",
        "<td>Ward</td>\n",
        "<td>Community Area</td>\n",
        "<td>FBI Code</td>\n",
        "<td>X Coordinate</td>\n",
        "<td>Y Coordinate</td>\n",
        "<td>Year</td>\n",
        "<td>Updated On</td>\n",
        "<td>Latitude</td>\n",
        "<td>Longitude</td>\n",
        "<td>Location</td>\n",
        "<td>Day</td>\n",
        "<td>Month</td>\n",
        "<td>WeekNum</td>\n",
        "<td>WeekDay</td>\n",
        "<td>HourOfDay</td></tr>\n",
        "<tr><td>type</td>\n",
        "<td>int</td>\n",
        "<td>string</td>\n",
        "<td>int</td>\n",
        "<td>enum</td>\n",
        "<td>int</td>\n",
        "<td>enum</td>\n",
        "<td>enum</td>\n",
        "<td>enum</td>\n",
        "<td>enum</td>\n",
        "<td>enum</td>\n",
        "<td>int</td>\n",
        "<td>int</td>\n",
        "<td>int</td>\n",
        "<td>int</td>\n",
        "<td>int</td>\n",
        "<td>int</td>\n",
        "<td>int</td>\n",
        "<td>int</td>\n",
        "<td>enum</td>\n",
        "<td>real</td>\n",
        "<td>real</td>\n",
        "<td>enum</td>\n",
        "<td>int</td>\n",
        "<td>int</td>\n",
        "<td>int</td>\n",
        "<td>enum</td>\n",
        "<td>int</td></tr>\n",
        "<tr><td>mins</td>\n",
        "<td>21735.0</td>\n",
        "<td>NaN</td>\n",
        "<td>1.42203063e+12</td>\n",
        "<td>0.0</td>\n",
        "<td>110.0</td>\n",
        "<td>0.0</td>\n",
        "<td>0.0</td>\n",
        "<td>0.0</td>\n",
        "<td>0.0</td>\n",
        "<td>0.0</td>\n",
        "<td>111.0</td>\n",
        "<td>1.0</td>\n",
        "<td>1.0</td>\n",
        "<td>1.0</td>\n",
        "<td>2.0</td>\n",
        "<td>1100317.0</td>\n",
        "<td>1814255.0</td>\n",
        "<td>3915.0</td>\n",
        "<td>0.0</td>\n",
        "<td>41.64507243</td>\n",
        "<td>-87.906463888</td>\n",
        "<td>0.0</td>\n",
        "<td>1.0</td>\n",
        "<td>2.0</td>\n",
        "<td>4.0</td>\n",
        "<td>0.0</td>\n",
        "<td>0.0</td></tr>\n",
        "<tr><td>maxs</td>\n",
        "<td>9962898.0</td>\n",
        "<td>NaN</td>\n",
        "<td>1.42346782e+12</td>\n",
        "<td>6517.0</td>\n",
        "<td>5131.0</td>\n",
        "<td>26.0</td>\n",
        "<td>198.0</td>\n",
        "<td>90.0</td>\n",
        "<td>1.0</td>\n",
        "<td>1.0</td>\n",
        "<td>2535.0</td>\n",
        "<td>25.0</td>\n",
        "<td>50.0</td>\n",
        "<td>77.0</td>\n",
        "<td>26.0</td>\n",
        "<td>1205069.0</td>\n",
        "<td>1951533.0</td>\n",
        "<td>3915.0</td>\n",
        "<td>32.0</td>\n",
        "<td>42.022646183</td>\n",
        "<td>-87.524773286</td>\n",
        "<td>8603.0</td>\n",
        "<td>31.0</td>\n",
        "<td>3.0</td>\n",
        "<td>6.0</td>\n",
        "<td>6.0</td>\n",
        "<td>23.0</td></tr>\n",
        "<tr><td>mean</td>\n",
        "<td>9931318.73737</td>\n",
        "<td>NaN</td>\n",
        "<td>1.42271445081e+12</td>\n",
        "<td>NaN</td>\n",
        "<td>1189.67651357</td>\n",
        "<td>NaN</td>\n",
        "<td>NaN</td>\n",
        "<td>NaN</td>\n",
        "<td>0.292829282928</td>\n",
        "<td>0.152315231523</td>\n",
        "<td>1159.61806181</td>\n",
        "<td>11.3489885128</td>\n",
        "<td>22.9540954095</td>\n",
        "<td>37.4476447645</td>\n",
        "<td>12.7401236227</td>\n",
        "<td>1163880.59815</td>\n",
        "<td>1885916.14984</td>\n",
        "<td>3915.0</td>\n",
        "<td>NaN</td>\n",
        "<td>41.8425652247</td>\n",
        "<td>-87.6741405221</td>\n",
        "<td>NaN</td>\n",
        "<td>17.6839683968</td>\n",
        "<td>2.41944194419</td>\n",
        "<td>5.18081808181</td>\n",
        "<td>NaN</td>\n",
        "<td>13.6319631963</td></tr>\n",
        "<tr><td>sigma</td>\n",
        "<td>396787.564221</td>\n",
        "<td>NaN</td>\n",
        "<td>433879245.187</td>\n",
        "<td>NaN</td>\n",
        "<td>927.751435583</td>\n",
        "<td>NaN</td>\n",
        "<td>NaN</td>\n",
        "<td>NaN</td>\n",
        "<td>0.455083515588</td>\n",
        "<td>0.35934414686</td>\n",
        "<td>695.76029875</td>\n",
        "<td>6.94547493301</td>\n",
        "<td>13.6495661144</td>\n",
        "<td>21.2748762223</td>\n",
        "<td>7.57423857911</td>\n",
        "<td>16496.4493681</td>\n",
        "<td>31274.0163199</td>\n",
        "<td>0.0</td>\n",
        "<td>NaN</td>\n",
        "<td>0.0860186579358</td>\n",
        "<td>0.0600357970653</td>\n",
        "<td>NaN</td>\n",
        "<td>11.1801043358</td>\n",
        "<td>0.493492406787</td>\n",
        "<td>0.738929830409</td>\n",
        "<td>NaN</td>\n",
        "<td>6.47321735807</td></tr>\n",
        "<tr><td>zero_count</td>\n",
        "<td>0</td>\n",
        "<td>0</td>\n",
        "<td>0</td>\n",
        "<td>3</td>\n",
        "<td>0</td>\n",
        "<td>11</td>\n",
        "<td>933</td>\n",
        "<td>19</td>\n",
        "<td>7071</td>\n",
        "<td>8476</td>\n",
        "<td>0</td>\n",
        "<td>0</td>\n",
        "<td>0</td>\n",
        "<td>0</td>\n",
        "<td>0</td>\n",
        "<td>0</td>\n",
        "<td>0</td>\n",
        "<td>0</td>\n",
        "<td>603</td>\n",
        "<td>0</td>\n",
        "<td>0</td>\n",
        "<td>1</td>\n",
        "<td>0</td>\n",
        "<td>0</td>\n",
        "<td>0</td>\n",
        "<td>1038</td>\n",
        "<td>374</td></tr>\n",
        "<tr><td>missing_count</td>\n",
        "<td>0</td>\n",
        "<td>0</td>\n",
        "<td>0</td>\n",
        "<td>0</td>\n",
        "<td>419</td>\n",
        "<td>0</td>\n",
        "<td>0</td>\n",
        "<td>6</td>\n",
        "<td>0</td>\n",
        "<td>0</td>\n",
        "<td>0</td>\n",
        "<td>162</td>\n",
        "<td>0</td>\n",
        "<td>0</td>\n",
        "<td>2557</td>\n",
        "<td>162</td>\n",
        "<td>162</td>\n",
        "<td>0</td>\n",
        "<td>0</td>\n",
        "<td>162</td>\n",
        "<td>162</td>\n",
        "<td>162</td>\n",
        "<td>0</td>\n",
        "<td>0</td>\n",
        "<td>0</td>\n",
        "<td>0</td>\n",
        "<td>0</td></tr></table></div>"
       ],
       "metadata": {},
       "output_type": "display_data",
       "text": [
        "               ID             Case Number    Date               Block    IUCR           Primary Type    Description    Location Description    Arrest          Domestic        Beat           District       Ward           Community Area    FBI Code       X Coordinate    Y Coordinate    Year    Updated On    Latitude         Longitude        Location    Day            Month           WeekNum         WeekDay    HourOfDay\n",
        "-------------  -------------  -------------  -----------------  -------  -------------  --------------  -------------  ----------------------  --------------  --------------  -------------  -------------  -------------  ----------------  -------------  --------------  --------------  ------  ------------  ---------------  ---------------  ----------  -------------  --------------  --------------  ---------  -------------\n",
        "type           int            string         int                enum     int            enum            enum           enum                    enum            enum            int            int            int            int               int            int             int             int     enum          real             real             enum        int            int             int             enum       int\n",
        "mins           21735.0        NaN            1.42203063e+12     0.0      110.0          0.0             0.0            0.0                     0.0             0.0             111.0          1.0            1.0            1.0               2.0            1100317.0       1814255.0       3915.0  0.0           41.64507243      -87.906463888    0.0         1.0            2.0             4.0             0.0        0.0\n",
        "maxs           9962898.0      NaN            1.42346782e+12     6517.0   5131.0         26.0            198.0          90.0                    1.0             1.0             2535.0         25.0           50.0           77.0              26.0           1205069.0       1951533.0       3915.0  32.0          42.022646183     -87.524773286    8603.0      31.0           3.0             6.0             6.0        23.0\n",
        "mean           9931318.73737  NaN            1.42271445081e+12  NaN      1189.67651357  NaN             NaN            NaN                     0.292829282928  0.152315231523  1159.61806181  11.3489885128  22.9540954095  37.4476447645     12.7401236227  1163880.59815   1885916.14984   3915.0  NaN           41.8425652247    -87.6741405221   NaN         17.6839683968  2.41944194419   5.18081808181   NaN        13.6319631963\n",
        "sigma          396787.564221  NaN            433879245.187      NaN      927.751435583  NaN             NaN            NaN                     0.455083515588  0.35934414686   695.76029875   6.94547493301  13.6495661144  21.2748762223     7.57423857911  16496.4493681   31274.0163199   0.0     NaN           0.0860186579358  0.0600357970653  NaN         11.1801043358  0.493492406787  0.738929830409  NaN        6.47321735807\n",
        "zero_count     0              0              0                  3        0              11              933            19                      7071            8476            0              0              0              0                 0              0               0               0       603           0                0                1           0              0               0               1038       374\n",
        "missing_count  0              0              0                  0        419            0               0              6                       0               0               0              162            0              0                 2557           162             162             0       0             162              162              162         0              0               0               0          0"
       ]
      },
      {
       "output_type": "stream",
       "stream": "stdout",
       "text": [
        "Rows: 9,999 Cols: 28\n",
        "\n",
        "Chunk compression summary:\n"
       ]
      },
      {
       "html": [
        "<div style=\"overflow:auto\"><table style=\"width:50%\"><tr><td>chunk_type</td>\n",
        "<td>chunk_name</td>\n",
        "<td>count</td>\n",
        "<td>count_percentage</td>\n",
        "<td>size</td>\n",
        "<td>size_percentage</td></tr>\n",
        "<tr><td>C0L</td>\n",
        "<td>Constant Integers</td>\n",
        "<td>13</td>\n",
        "<td>11.607142</td>\n",
        "<td>    1.0 KB</td>\n",
        "<td>0.16332531</td></tr>\n",
        "<tr><td>CBS</td>\n",
        "<td>Bits</td>\n",
        "<td>4</td>\n",
        "<td>3.5714288</td>\n",
        "<td>    1.5 KB</td>\n",
        "<td>0.24043368</td></tr>\n",
        "<tr><td>C1</td>\n",
        "<td>1-Byte Integers</td>\n",
        "<td>32</td>\n",
        "<td>28.57143</td>\n",
        "<td>   80.2 KB</td>\n",
        "<td>12.903955</td></tr>\n",
        "<tr><td>C1N</td>\n",
        "<td>1-Byte Integers (w/o NAs)</td>\n",
        "<td>23</td>\n",
        "<td>20.535715</td>\n",
        "<td>   57.9 KB</td>\n",
        "<td>9.3183365</td></tr>\n",
        "<tr><td>C2</td>\n",
        "<td>2-Byte Integers</td>\n",
        "<td>16</td>\n",
        "<td>14.285715</td>\n",
        "<td>   79.2 KB</td>\n",
        "<td>12.733091</td></tr>\n",
        "<tr><td>C4</td>\n",
        "<td>4-Byte Integers</td>\n",
        "<td>12</td>\n",
        "<td>10.714286</td>\n",
        "<td>  118.0 KB</td>\n",
        "<td>18.97149</td></tr>\n",
        "<tr><td>CStr</td>\n",
        "<td>String</td>\n",
        "<td>4</td>\n",
        "<td>3.5714288</td>\n",
        "<td>  127.2 KB</td>\n",
        "<td>20.459478</td></tr>\n",
        "<tr><td>C8D</td>\n",
        "<td>64-bit Reals</td>\n",
        "<td>8</td>\n",
        "<td>7.1428576</td>\n",
        "<td>  156.8 KB</td>\n",
        "<td>25.209888</td></tr></table></div>"
       ],
       "metadata": {},
       "output_type": "display_data",
       "text": [
        "chunk_type    chunk_name                 count    count_percentage    size      size_percentage\n",
        "------------  -------------------------  -------  ------------------  --------  -----------------\n",
        "C0L           Constant Integers          13       11.6071             1.0 KB    0.163325\n",
        "CBS           Bits                       4        3.57143             1.5 KB    0.240434\n",
        "C1            1-Byte Integers            32       28.5714             80.2 KB   12.904\n",
        "C1N           1-Byte Integers (w/o NAs)  23       20.5357             57.9 KB   9.31834\n",
        "C2            2-Byte Integers            16       14.2857             79.2 KB   12.7331\n",
        "C4            4-Byte Integers            12       10.7143             118.0 KB  18.9715\n",
        "CStr          String                     4        3.57143             127.2 KB  20.4595\n",
        "C8D           64-bit Reals               8        7.14286             156.8 KB  25.2099"
       ]
      },
      {
       "output_type": "stream",
       "stream": "stdout",
       "text": [
        "\n",
        "Frame distribution summary:\n"
       ]
      },
      {
       "html": [
        "<div style=\"overflow:auto\"><table style=\"width:50%\"><tr><td></td>\n",
        "<td>size</td>\n",
        "<td>number_of_rows</td>\n",
        "<td>number_of_chunks_per_column</td>\n",
        "<td>number_of_chunks</td></tr>\n",
        "<tr><td>10.0.0.24:54321</td>\n",
        "<td>  621.8 KB</td>\n",
        "<td>9999.0</td>\n",
        "<td>4.0</td>\n",
        "<td>112.0</td></tr>\n",
        "<tr><td>mean</td>\n",
        "<td>  621.8 KB</td>\n",
        "<td>9999.0</td>\n",
        "<td>4.0</td>\n",
        "<td>112.0</td></tr>\n",
        "<tr><td>min</td>\n",
        "<td>  621.8 KB</td>\n",
        "<td>9999.0</td>\n",
        "<td>4.0</td>\n",
        "<td>112.0</td></tr>\n",
        "<tr><td>max</td>\n",
        "<td>  621.8 KB</td>\n",
        "<td>9999.0</td>\n",
        "<td>4.0</td>\n",
        "<td>112.0</td></tr>\n",
        "<tr><td>stddev</td>\n",
        "<td>      0  B</td>\n",
        "<td>0.0</td>\n",
        "<td>0.0</td>\n",
        "<td>0.0</td></tr>\n",
        "<tr><td>total</td>\n",
        "<td>  621.8 KB</td>\n",
        "<td>9999.0</td>\n",
        "<td>4.0</td>\n",
        "<td>112.0</td></tr></table></div>"
       ],
       "metadata": {},
       "output_type": "display_data",
       "text": [
        "                 size      number_of_rows    number_of_chunks_per_column    number_of_chunks\n",
        "---------------  --------  ----------------  -----------------------------  ------------------\n",
        "10.0.0.24:54321  621.8 KB  9999              4                              112\n",
        "mean             621.8 KB  9999              4                              112\n",
        "min              621.8 KB  9999              4                              112\n",
        "max              621.8 KB  9999              4                              112\n",
        "stddev           0  B      0                 0                              0\n",
        "total            621.8 KB  9999              4                              112"
       ]
      },
      {
       "output_type": "stream",
       "stream": "stdout",
       "text": [
        "\n",
        "Column-by-Column Summary:\n",
        "\n"
       ]
      },
      {
       "html": [
        "<div style=\"overflow:auto\"><table style=\"width:50%\"><tr><td></td>\n",
        "<td>ID</td>\n",
        "<td>Case Number</td>\n",
        "<td>Block</td>\n",
        "<td>IUCR</td>\n",
        "<td>Primary Type</td>\n",
        "<td>Description</td>\n",
        "<td>Location Description</td>\n",
        "<td>Arrest</td>\n",
        "<td>Domestic</td>\n",
        "<td>Beat</td>\n",
        "<td>District</td>\n",
        "<td>Ward</td>\n",
        "<td>Community Area</td>\n",
        "<td>FBI Code</td>\n",
        "<td>X Coordinate</td>\n",
        "<td>Y Coordinate</td>\n",
        "<td>Year</td>\n",
        "<td>Updated On</td>\n",
        "<td>Latitude</td>\n",
        "<td>Longitude</td>\n",
        "<td>Location</td>\n",
        "<td>Day</td>\n",
        "<td>Month</td>\n",
        "<td>WeekNum</td>\n",
        "<td>WeekDay</td>\n",
        "<td>HourOfDay</td>\n",
        "<td>Weekend</td>\n",
        "<td>Season</td></tr>\n",
        "<tr><td>type</td>\n",
        "<td>int</td>\n",
        "<td>string</td>\n",
        "<td>enum</td>\n",
        "<td>int</td>\n",
        "<td>enum</td>\n",
        "<td>enum</td>\n",
        "<td>enum</td>\n",
        "<td>enum</td>\n",
        "<td>enum</td>\n",
        "<td>int</td>\n",
        "<td>int</td>\n",
        "<td>int</td>\n",
        "<td>int</td>\n",
        "<td>int</td>\n",
        "<td>int</td>\n",
        "<td>int</td>\n",
        "<td>int</td>\n",
        "<td>enum</td>\n",
        "<td>real</td>\n",
        "<td>real</td>\n",
        "<td>enum</td>\n",
        "<td>int</td>\n",
        "<td>int</td>\n",
        "<td>int</td>\n",
        "<td>enum</td>\n",
        "<td>int</td>\n",
        "<td>int</td>\n",
        "<td>enum</td></tr>\n",
        "<tr><td>mins</td>\n",
        "<td>21735.0</td>\n",
        "<td>NaN</td>\n",
        "<td>0.0</td>\n",
        "<td>110.0</td>\n",
        "<td>0.0</td>\n",
        "<td>0.0</td>\n",
        "<td>0.0</td>\n",
        "<td>0.0</td>\n",
        "<td>0.0</td>\n",
        "<td>111.0</td>\n",
        "<td>1.0</td>\n",
        "<td>1.0</td>\n",
        "<td>1.0</td>\n",
        "<td>2.0</td>\n",
        "<td>1100317.0</td>\n",
        "<td>1814255.0</td>\n",
        "<td>3915.0</td>\n",
        "<td>0.0</td>\n",
        "<td>41.64507243</td>\n",
        "<td>-87.906463888</td>\n",
        "<td>0.0</td>\n",
        "<td>1.0</td>\n",
        "<td>2.0</td>\n",
        "<td>4.0</td>\n",
        "<td>0.0</td>\n",
        "<td>0.0</td>\n",
        "<td>0.0</td>\n",
        "<td>0.0</td></tr>\n",
        "<tr><td>maxs</td>\n",
        "<td>9962898.0</td>\n",
        "<td>NaN</td>\n",
        "<td>6517.0</td>\n",
        "<td>5131.0</td>\n",
        "<td>26.0</td>\n",
        "<td>198.0</td>\n",
        "<td>90.0</td>\n",
        "<td>1.0</td>\n",
        "<td>1.0</td>\n",
        "<td>2535.0</td>\n",
        "<td>25.0</td>\n",
        "<td>50.0</td>\n",
        "<td>77.0</td>\n",
        "<td>26.0</td>\n",
        "<td>1205069.0</td>\n",
        "<td>1951533.0</td>\n",
        "<td>3915.0</td>\n",
        "<td>32.0</td>\n",
        "<td>42.022646183</td>\n",
        "<td>-87.524773286</td>\n",
        "<td>8603.0</td>\n",
        "<td>31.0</td>\n",
        "<td>3.0</td>\n",
        "<td>6.0</td>\n",
        "<td>6.0</td>\n",
        "<td>23.0</td>\n",
        "<td>1.0</td>\n",
        "<td>1.0</td></tr>\n",
        "<tr><td>mean</td>\n",
        "<td>9931318.73737</td>\n",
        "<td>NaN</td>\n",
        "<td>NaN</td>\n",
        "<td>1189.67651357</td>\n",
        "<td>NaN</td>\n",
        "<td>NaN</td>\n",
        "<td>NaN</td>\n",
        "<td>0.292829282928</td>\n",
        "<td>0.152315231523</td>\n",
        "<td>1159.61806181</td>\n",
        "<td>11.3489885128</td>\n",
        "<td>22.9540954095</td>\n",
        "<td>37.4476447645</td>\n",
        "<td>12.7401236227</td>\n",
        "<td>1163880.59815</td>\n",
        "<td>1885916.14984</td>\n",
        "<td>3915.0</td>\n",
        "<td>NaN</td>\n",
        "<td>41.8425652247</td>\n",
        "<td>-87.6741405221</td>\n",
        "<td>NaN</td>\n",
        "<td>17.6839683968</td>\n",
        "<td>2.41944194419</td>\n",
        "<td>5.18081808181</td>\n",
        "<td>NaN</td>\n",
        "<td>13.6319631963</td>\n",
        "<td>0.159115911591</td>\n",
        "<td>NaN</td></tr>\n",
        "<tr><td>sigma</td>\n",
        "<td>396787.564221</td>\n",
        "<td>NaN</td>\n",
        "<td>NaN</td>\n",
        "<td>927.751435583</td>\n",
        "<td>NaN</td>\n",
        "<td>NaN</td>\n",
        "<td>NaN</td>\n",
        "<td>0.455083515588</td>\n",
        "<td>0.35934414686</td>\n",
        "<td>695.76029875</td>\n",
        "<td>6.94547493301</td>\n",
        "<td>13.6495661144</td>\n",
        "<td>21.2748762223</td>\n",
        "<td>7.57423857911</td>\n",
        "<td>16496.4493681</td>\n",
        "<td>31274.0163199</td>\n",
        "<td>0.0</td>\n",
        "<td>NaN</td>\n",
        "<td>0.0860186579358</td>\n",
        "<td>0.0600357970653</td>\n",
        "<td>NaN</td>\n",
        "<td>11.1801043358</td>\n",
        "<td>0.493492406787</td>\n",
        "<td>0.738929830409</td>\n",
        "<td>NaN</td>\n",
        "<td>6.47321735807</td>\n",
        "<td>0.365802434041</td>\n",
        "<td>NaN</td></tr>\n",
        "<tr><td>zero_count</td>\n",
        "<td>0</td>\n",
        "<td>0</td>\n",
        "<td>3</td>\n",
        "<td>0</td>\n",
        "<td>11</td>\n",
        "<td>933</td>\n",
        "<td>19</td>\n",
        "<td>7071</td>\n",
        "<td>8476</td>\n",
        "<td>0</td>\n",
        "<td>0</td>\n",
        "<td>0</td>\n",
        "<td>0</td>\n",
        "<td>0</td>\n",
        "<td>0</td>\n",
        "<td>0</td>\n",
        "<td>0</td>\n",
        "<td>603</td>\n",
        "<td>0</td>\n",
        "<td>0</td>\n",
        "<td>1</td>\n",
        "<td>0</td>\n",
        "<td>0</td>\n",
        "<td>0</td>\n",
        "<td>1038</td>\n",
        "<td>374</td>\n",
        "<td>8408</td>\n",
        "<td>5805</td></tr>\n",
        "<tr><td>missing_count</td>\n",
        "<td>0</td>\n",
        "<td>0</td>\n",
        "<td>0</td>\n",
        "<td>419</td>\n",
        "<td>0</td>\n",
        "<td>0</td>\n",
        "<td>6</td>\n",
        "<td>0</td>\n",
        "<td>0</td>\n",
        "<td>0</td>\n",
        "<td>162</td>\n",
        "<td>0</td>\n",
        "<td>0</td>\n",
        "<td>2557</td>\n",
        "<td>162</td>\n",
        "<td>162</td>\n",
        "<td>0</td>\n",
        "<td>0</td>\n",
        "<td>162</td>\n",
        "<td>162</td>\n",
        "<td>162</td>\n",
        "<td>0</td>\n",
        "<td>0</td>\n",
        "<td>0</td>\n",
        "<td>0</td>\n",
        "<td>0</td>\n",
        "<td>0</td>\n",
        "<td>0</td></tr></table></div>"
       ],
       "metadata": {},
       "output_type": "display_data",
       "text": [
        "               ID             Case Number    Block    IUCR           Primary Type    Description    Location Description    Arrest          Domestic        Beat           District       Ward           Community Area    FBI Code       X Coordinate    Y Coordinate    Year    Updated On    Latitude         Longitude        Location    Day            Month           WeekNum         WeekDay    HourOfDay      Weekend         Season\n",
        "-------------  -------------  -------------  -------  -------------  --------------  -------------  ----------------------  --------------  --------------  -------------  -------------  -------------  ----------------  -------------  --------------  --------------  ------  ------------  ---------------  ---------------  ----------  -------------  --------------  --------------  ---------  -------------  --------------  --------\n",
        "type           int            string         enum     int            enum            enum           enum                    enum            enum            int            int            int            int               int            int             int             int     enum          real             real             enum        int            int             int             enum       int            int             enum\n",
        "mins           21735.0        NaN            0.0      110.0          0.0             0.0            0.0                     0.0             0.0             111.0          1.0            1.0            1.0               2.0            1100317.0       1814255.0       3915.0  0.0           41.64507243      -87.906463888    0.0         1.0            2.0             4.0             0.0        0.0            0.0             0.0\n",
        "maxs           9962898.0      NaN            6517.0   5131.0         26.0            198.0          90.0                    1.0             1.0             2535.0         25.0           50.0           77.0              26.0           1205069.0       1951533.0       3915.0  32.0          42.022646183     -87.524773286    8603.0      31.0           3.0             6.0             6.0        23.0           1.0             1.0\n",
        "mean           9931318.73737  NaN            NaN      1189.67651357  NaN             NaN            NaN                     0.292829282928  0.152315231523  1159.61806181  11.3489885128  22.9540954095  37.4476447645     12.7401236227  1163880.59815   1885916.14984   3915.0  NaN           41.8425652247    -87.6741405221   NaN         17.6839683968  2.41944194419   5.18081808181   NaN        13.6319631963  0.159115911591  NaN\n",
        "sigma          396787.564221  NaN            NaN      927.751435583  NaN             NaN            NaN                     0.455083515588  0.35934414686   695.76029875   6.94547493301  13.6495661144  21.2748762223     7.57423857911  16496.4493681   31274.0163199   0.0     NaN           0.0860186579358  0.0600357970653  NaN         11.1801043358  0.493492406787  0.738929830409  NaN        6.47321735807  0.365802434041  NaN\n",
        "zero_count     0              0              3        0              11              933            19                      7071            8476            0              0              0              0                 0              0               0               0       603           0                0                1           0              0               0               1038       374            8408            5805\n",
        "missing_count  0              0              0        419            0               0              6                       0               0               0              162            0              0                 2557           162             162             0       0             162              162              162         0              0               0               0          0              0               0"
       ]
      }
     ],
     "prompt_number": 10
    },
    {
     "cell_type": "code",
     "collapsed": false,
     "input": [
      "# Merge crimes data with weather and census\n",
      "census.set_name(0,\"Community Area\")\n",
      "weather.set_name(1,\"Month\")\n",
      "weather.set_name(2,\"Day\")\n",
      "weather.set_name(3,\"Year\")\n",
      "crimes.merge(census, allLeft=True, allRite=False)\n",
      "crimes.merge(weather, allLeft=True, allRite=False)\n",
      "crimes.describe()"
     ],
     "language": "python",
     "metadata": {},
     "outputs": [
      {
       "output_type": "stream",
       "stream": "stdout",
       "text": [
        "Rows: 9,999 Cols: 28\n",
        "\n",
        "Chunk compression summary:\n"
       ]
      },
      {
       "html": [
        "<div style=\"overflow:auto\"><table style=\"width:50%\"><tr><td>chunk_type</td>\n",
        "<td>chunk_name</td>\n",
        "<td>count</td>\n",
        "<td>count_percentage</td>\n",
        "<td>size</td>\n",
        "<td>size_percentage</td></tr>\n",
        "<tr><td>C0L</td>\n",
        "<td>Constant Integers</td>\n",
        "<td>13</td>\n",
        "<td>11.607142</td>\n",
        "<td>    1.0 KB</td>\n",
        "<td>0.16332531</td></tr>\n",
        "<tr><td>CBS</td>\n",
        "<td>Bits</td>\n",
        "<td>4</td>\n",
        "<td>3.5714288</td>\n",
        "<td>    1.5 KB</td>\n",
        "<td>0.24043368</td></tr>\n",
        "<tr><td>C1</td>\n",
        "<td>1-Byte Integers</td>\n",
        "<td>32</td>\n",
        "<td>28.57143</td>\n",
        "<td>   80.2 KB</td>\n",
        "<td>12.903955</td></tr>\n",
        "<tr><td>C1N</td>\n",
        "<td>1-Byte Integers (w/o NAs)</td>\n",
        "<td>23</td>\n",
        "<td>20.535715</td>\n",
        "<td>   57.9 KB</td>\n",
        "<td>9.3183365</td></tr>\n",
        "<tr><td>C2</td>\n",
        "<td>2-Byte Integers</td>\n",
        "<td>16</td>\n",
        "<td>14.285715</td>\n",
        "<td>   79.2 KB</td>\n",
        "<td>12.733091</td></tr>\n",
        "<tr><td>C4</td>\n",
        "<td>4-Byte Integers</td>\n",
        "<td>12</td>\n",
        "<td>10.714286</td>\n",
        "<td>  118.0 KB</td>\n",
        "<td>18.97149</td></tr>\n",
        "<tr><td>CStr</td>\n",
        "<td>String</td>\n",
        "<td>4</td>\n",
        "<td>3.5714288</td>\n",
        "<td>  127.2 KB</td>\n",
        "<td>20.459478</td></tr>\n",
        "<tr><td>C8D</td>\n",
        "<td>64-bit Reals</td>\n",
        "<td>8</td>\n",
        "<td>7.1428576</td>\n",
        "<td>  156.8 KB</td>\n",
        "<td>25.209888</td></tr></table></div>"
       ],
       "metadata": {},
       "output_type": "display_data",
       "text": [
        "chunk_type    chunk_name                 count    count_percentage    size      size_percentage\n",
        "------------  -------------------------  -------  ------------------  --------  -----------------\n",
        "C0L           Constant Integers          13       11.6071             1.0 KB    0.163325\n",
        "CBS           Bits                       4        3.57143             1.5 KB    0.240434\n",
        "C1            1-Byte Integers            32       28.5714             80.2 KB   12.904\n",
        "C1N           1-Byte Integers (w/o NAs)  23       20.5357             57.9 KB   9.31834\n",
        "C2            2-Byte Integers            16       14.2857             79.2 KB   12.7331\n",
        "C4            4-Byte Integers            12       10.7143             118.0 KB  18.9715\n",
        "CStr          String                     4        3.57143             127.2 KB  20.4595\n",
        "C8D           64-bit Reals               8        7.14286             156.8 KB  25.2099"
       ]
      },
      {
       "output_type": "stream",
       "stream": "stdout",
       "text": [
        "\n",
        "Frame distribution summary:\n"
       ]
      },
      {
       "html": [
        "<div style=\"overflow:auto\"><table style=\"width:50%\"><tr><td></td>\n",
        "<td>size</td>\n",
        "<td>number_of_rows</td>\n",
        "<td>number_of_chunks_per_column</td>\n",
        "<td>number_of_chunks</td></tr>\n",
        "<tr><td>10.0.0.24:54321</td>\n",
        "<td>  621.8 KB</td>\n",
        "<td>9999.0</td>\n",
        "<td>4.0</td>\n",
        "<td>112.0</td></tr>\n",
        "<tr><td>mean</td>\n",
        "<td>  621.8 KB</td>\n",
        "<td>9999.0</td>\n",
        "<td>4.0</td>\n",
        "<td>112.0</td></tr>\n",
        "<tr><td>min</td>\n",
        "<td>  621.8 KB</td>\n",
        "<td>9999.0</td>\n",
        "<td>4.0</td>\n",
        "<td>112.0</td></tr>\n",
        "<tr><td>max</td>\n",
        "<td>  621.8 KB</td>\n",
        "<td>9999.0</td>\n",
        "<td>4.0</td>\n",
        "<td>112.0</td></tr>\n",
        "<tr><td>stddev</td>\n",
        "<td>      0  B</td>\n",
        "<td>0.0</td>\n",
        "<td>0.0</td>\n",
        "<td>0.0</td></tr>\n",
        "<tr><td>total</td>\n",
        "<td>  621.8 KB</td>\n",
        "<td>9999.0</td>\n",
        "<td>4.0</td>\n",
        "<td>112.0</td></tr></table></div>"
       ],
       "metadata": {},
       "output_type": "display_data",
       "text": [
        "                 size      number_of_rows    number_of_chunks_per_column    number_of_chunks\n",
        "---------------  --------  ----------------  -----------------------------  ------------------\n",
        "10.0.0.24:54321  621.8 KB  9999              4                              112\n",
        "mean             621.8 KB  9999              4                              112\n",
        "min              621.8 KB  9999              4                              112\n",
        "max              621.8 KB  9999              4                              112\n",
        "stddev           0  B      0                 0                              0\n",
        "total            621.8 KB  9999              4                              112"
       ]
      },
      {
       "output_type": "stream",
       "stream": "stdout",
       "text": [
        "\n",
        "Column-by-Column Summary:\n",
        "\n"
       ]
      },
      {
       "html": [
        "<div style=\"overflow:auto\"><table style=\"width:50%\"><tr><td></td>\n",
        "<td>ID</td>\n",
        "<td>Case Number</td>\n",
        "<td>Block</td>\n",
        "<td>IUCR</td>\n",
        "<td>Primary Type</td>\n",
        "<td>Description</td>\n",
        "<td>Location Description</td>\n",
        "<td>Arrest</td>\n",
        "<td>Domestic</td>\n",
        "<td>Beat</td>\n",
        "<td>District</td>\n",
        "<td>Ward</td>\n",
        "<td>Community Area</td>\n",
        "<td>FBI Code</td>\n",
        "<td>X Coordinate</td>\n",
        "<td>Y Coordinate</td>\n",
        "<td>Year</td>\n",
        "<td>Updated On</td>\n",
        "<td>Latitude</td>\n",
        "<td>Longitude</td>\n",
        "<td>Location</td>\n",
        "<td>Day</td>\n",
        "<td>Month</td>\n",
        "<td>WeekNum</td>\n",
        "<td>WeekDay</td>\n",
        "<td>HourOfDay</td>\n",
        "<td>Weekend</td>\n",
        "<td>Season</td></tr>\n",
        "<tr><td>type</td>\n",
        "<td>int</td>\n",
        "<td>int</td>\n",
        "<td>int</td>\n",
        "<td>int</td>\n",
        "<td>enum</td>\n",
        "<td>enum</td>\n",
        "<td>enum</td>\n",
        "<td>enum</td>\n",
        "<td>enum</td>\n",
        "<td>int</td>\n",
        "<td>int</td>\n",
        "<td>int</td>\n",
        "<td>int</td>\n",
        "<td>int</td>\n",
        "<td>int</td>\n",
        "<td>int</td>\n",
        "<td>int</td>\n",
        "<td>enum</td>\n",
        "<td>real</td>\n",
        "<td>real</td>\n",
        "<td>enum</td>\n",
        "<td>string</td>\n",
        "<td>enum</td>\n",
        "<td>int</td>\n",
        "<td>enum</td>\n",
        "<td>int</td>\n",
        "<td>int</td>\n",
        "<td>enum</td></tr>\n",
        "<tr><td>mins</td>\n",
        "<td>3915.0</td>\n",
        "<td>1.0</td>\n",
        "<td>2.0</td>\n",
        "<td>110.0</td>\n",
        "<td>0.0</td>\n",
        "<td>0.0</td>\n",
        "<td>0.0</td>\n",
        "<td>0.0</td>\n",
        "<td>0.0</td>\n",
        "<td>111.0</td>\n",
        "<td>1.0</td>\n",
        "<td>1.0</td>\n",
        "<td>21735.0</td>\n",
        "<td>2.0</td>\n",
        "<td>1100317.0</td>\n",
        "<td>1814255.0</td>\n",
        "<td>1.0</td>\n",
        "<td>0.0</td>\n",
        "<td>41.64507243</td>\n",
        "<td>-87.906463888</td>\n",
        "<td>0.0</td>\n",
        "<td>NaN</td>\n",
        "<td>0.0</td>\n",
        "<td>4.0</td>\n",
        "<td>0.0</td>\n",
        "<td>0.0</td>\n",
        "<td>0.0</td>\n",
        "<td>0.0</td></tr>\n",
        "<tr><td>maxs</td>\n",
        "<td>3915.0</td>\n",
        "<td>31.0</td>\n",
        "<td>3.0</td>\n",
        "<td>5131.0</td>\n",
        "<td>26.0</td>\n",
        "<td>198.0</td>\n",
        "<td>90.0</td>\n",
        "<td>1.0</td>\n",
        "<td>1.0</td>\n",
        "<td>2535.0</td>\n",
        "<td>25.0</td>\n",
        "<td>50.0</td>\n",
        "<td>9962898.0</td>\n",
        "<td>26.0</td>\n",
        "<td>1205069.0</td>\n",
        "<td>1951533.0</td>\n",
        "<td>77.0</td>\n",
        "<td>32.0</td>\n",
        "<td>42.022646183</td>\n",
        "<td>-87.524773286</td>\n",
        "<td>8603.0</td>\n",
        "<td>NaN</td>\n",
        "<td>6517.0</td>\n",
        "<td>6.0</td>\n",
        "<td>6.0</td>\n",
        "<td>23.0</td>\n",
        "<td>1.0</td>\n",
        "<td>1.0</td></tr>\n",
        "<tr><td>mean</td>\n",
        "<td>3915.0</td>\n",
        "<td>17.6839683968</td>\n",
        "<td>2.41944194419</td>\n",
        "<td>1189.67651357</td>\n",
        "<td>NaN</td>\n",
        "<td>NaN</td>\n",
        "<td>NaN</td>\n",
        "<td>0.292829282928</td>\n",
        "<td>0.152315231523</td>\n",
        "<td>1159.61806181</td>\n",
        "<td>11.3489885128</td>\n",
        "<td>22.9540954095</td>\n",
        "<td>9931318.73737</td>\n",
        "<td>12.7401236227</td>\n",
        "<td>1163880.59815</td>\n",
        "<td>1885916.14984</td>\n",
        "<td>37.4476447645</td>\n",
        "<td>NaN</td>\n",
        "<td>41.8425652247</td>\n",
        "<td>-87.6741405221</td>\n",
        "<td>NaN</td>\n",
        "<td>NaN</td>\n",
        "<td>NaN</td>\n",
        "<td>5.18081808181</td>\n",
        "<td>NaN</td>\n",
        "<td>13.6319631963</td>\n",
        "<td>0.159115911591</td>\n",
        "<td>NaN</td></tr>\n",
        "<tr><td>sigma</td>\n",
        "<td>0.0</td>\n",
        "<td>11.1801043358</td>\n",
        "<td>0.493492406787</td>\n",
        "<td>927.751435583</td>\n",
        "<td>NaN</td>\n",
        "<td>NaN</td>\n",
        "<td>NaN</td>\n",
        "<td>0.455083515588</td>\n",
        "<td>0.35934414686</td>\n",
        "<td>695.76029875</td>\n",
        "<td>6.94547493301</td>\n",
        "<td>13.6495661144</td>\n",
        "<td>396787.564221</td>\n",
        "<td>7.57423857911</td>\n",
        "<td>16496.4493681</td>\n",
        "<td>31274.0163199</td>\n",
        "<td>21.2748762223</td>\n",
        "<td>NaN</td>\n",
        "<td>0.0860186579358</td>\n",
        "<td>0.0600357970653</td>\n",
        "<td>NaN</td>\n",
        "<td>NaN</td>\n",
        "<td>NaN</td>\n",
        "<td>0.738929830409</td>\n",
        "<td>NaN</td>\n",
        "<td>6.47321735807</td>\n",
        "<td>0.365802434041</td>\n",
        "<td>NaN</td></tr>\n",
        "<tr><td>zero_count</td>\n",
        "<td>0</td>\n",
        "<td>0</td>\n",
        "<td>0</td>\n",
        "<td>0</td>\n",
        "<td>11</td>\n",
        "<td>933</td>\n",
        "<td>19</td>\n",
        "<td>7071</td>\n",
        "<td>8476</td>\n",
        "<td>0</td>\n",
        "<td>0</td>\n",
        "<td>0</td>\n",
        "<td>0</td>\n",
        "<td>0</td>\n",
        "<td>0</td>\n",
        "<td>0</td>\n",
        "<td>0</td>\n",
        "<td>603</td>\n",
        "<td>0</td>\n",
        "<td>0</td>\n",
        "<td>1</td>\n",
        "<td>0</td>\n",
        "<td>3</td>\n",
        "<td>0</td>\n",
        "<td>1038</td>\n",
        "<td>374</td>\n",
        "<td>8408</td>\n",
        "<td>5805</td></tr>\n",
        "<tr><td>missing_count</td>\n",
        "<td>0</td>\n",
        "<td>0</td>\n",
        "<td>0</td>\n",
        "<td>419</td>\n",
        "<td>0</td>\n",
        "<td>0</td>\n",
        "<td>6</td>\n",
        "<td>0</td>\n",
        "<td>0</td>\n",
        "<td>0</td>\n",
        "<td>162</td>\n",
        "<td>0</td>\n",
        "<td>0</td>\n",
        "<td>2557</td>\n",
        "<td>162</td>\n",
        "<td>162</td>\n",
        "<td>0</td>\n",
        "<td>0</td>\n",
        "<td>162</td>\n",
        "<td>162</td>\n",
        "<td>162</td>\n",
        "<td>0</td>\n",
        "<td>0</td>\n",
        "<td>0</td>\n",
        "<td>0</td>\n",
        "<td>0</td>\n",
        "<td>0</td>\n",
        "<td>0</td></tr></table></div>"
       ],
       "metadata": {},
       "output_type": "display_data",
       "text": [
        "               ID      Case Number    Block           IUCR           Primary Type    Description    Location Description    Arrest          Domestic        Beat           District       Ward           Community Area    FBI Code       X Coordinate    Y Coordinate    Year           Updated On    Latitude         Longitude        Location    Day     Month    WeekNum         WeekDay    HourOfDay      Weekend         Season\n",
        "-------------  ------  -------------  --------------  -------------  --------------  -------------  ----------------------  --------------  --------------  -------------  -------------  -------------  ----------------  -------------  --------------  --------------  -------------  ------------  ---------------  ---------------  ----------  ------  -------  --------------  ---------  -------------  --------------  --------\n",
        "type           int     int            int             int            enum            enum           enum                    enum            enum            int            int            int            int               int            int             int             int            enum          real             real             enum        string  enum     int             enum       int            int             enum\n",
        "mins           3915.0  1.0            2.0             110.0          0.0             0.0            0.0                     0.0             0.0             111.0          1.0            1.0            21735.0           2.0            1100317.0       1814255.0       1.0            0.0           41.64507243      -87.906463888    0.0         NaN     0.0      4.0             0.0        0.0            0.0             0.0\n",
        "maxs           3915.0  31.0           3.0             5131.0         26.0            198.0          90.0                    1.0             1.0             2535.0         25.0           50.0           9962898.0         26.0           1205069.0       1951533.0       77.0           32.0          42.022646183     -87.524773286    8603.0      NaN     6517.0   6.0             6.0        23.0           1.0             1.0\n",
        "mean           3915.0  17.6839683968  2.41944194419   1189.67651357  NaN             NaN            NaN                     0.292829282928  0.152315231523  1159.61806181  11.3489885128  22.9540954095  9931318.73737     12.7401236227  1163880.59815   1885916.14984   37.4476447645  NaN           41.8425652247    -87.6741405221   NaN         NaN     NaN      5.18081808181   NaN        13.6319631963  0.159115911591  NaN\n",
        "sigma          0.0     11.1801043358  0.493492406787  927.751435583  NaN             NaN            NaN                     0.455083515588  0.35934414686   695.76029875   6.94547493301  13.6495661144  396787.564221     7.57423857911  16496.4493681   31274.0163199   21.2748762223  NaN           0.0860186579358  0.0600357970653  NaN         NaN     NaN      0.738929830409  NaN        6.47321735807  0.365802434041  NaN\n",
        "zero_count     0       0              0               0              11              933            19                      7071            8476            0              0              0              0                 0              0               0               0              603           0                0                1           0       3        0               1038       374            8408            5805\n",
        "missing_count  0       0              0               419            0               0              6                       0               0               0              162            0              0                 2557           162             162             0              0             162              162              162         0       0        0               0          0              0               0"
       ]
      }
     ],
     "prompt_number": 11
    },
    {
     "cell_type": "code",
     "collapsed": false,
     "input": [
      "# Create test/train split\n",
      "r = crimes[\"Arrest\"].runif()\n",
      "train = crimes[r < 0.8]\n",
      "test = crimes[r >= 0.8]\n",
      "\n",
      "# Simple GBM - Predict Arrest\n",
      "data_gbm = h2o.gbm(x              =train.drop(\"Arrest\"),\n",
      "                   y              =train     [\"Arrest\"],\n",
      "                   validation_x   =test .drop(\"Arrest\"),\n",
      "                   validation_y   =test      [\"Arrest\"],\n",
      "                   ntrees         =10,\n",
      "                   max_depth      =6,\n",
      "                   distribution   =\"bernoulli\")\n",
      "\n",
      "# Simple Deep Learning - Predict Arrest\n",
      "data_dl = h2o.deeplearning(x                   =train.drop(\"Arrest\"),\n",
      "                           y                   =train     [\"Arrest\"],\n",
      "                           validation_x        =test .drop(\"Arrest\"),\n",
      "                           validation_y        =test      [\"Arrest\"],\n",
      "                           variable_importances=True,\n",
      "                           loss                =\"Automatic\")"
     ],
     "language": "python",
     "metadata": {},
     "outputs": [
      {
       "output_type": "stream",
       "stream": "stdout",
       "text": [
        "\n",
        "\r",
        "gbm Model Build Progress: [                                                  ] 00%"
       ]
      },
      {
       "output_type": "stream",
       "stream": "stdout",
       "text": [
        "\r",
        "gbm Model Build Progress: [###############                                   ] 30%"
       ]
      },
      {
       "output_type": "stream",
       "stream": "stdout",
       "text": [
        "\r",
        "gbm Model Build Progress: [###############                                   ] 30%"
       ]
      },
      {
       "output_type": "stream",
       "stream": "stdout",
       "text": [
        "\r",
        "gbm Model Build Progress: [###############                                   ] 30%"
       ]
      },
      {
       "output_type": "stream",
       "stream": "stdout",
       "text": [
        "\r",
        "gbm Model Build Progress: [###############                                   ] 30%"
       ]
      },
      {
       "output_type": "stream",
       "stream": "stdout",
       "text": [
        "\r",
        "gbm Model Build Progress: [###############                                   ] 30%"
       ]
      },
      {
       "output_type": "stream",
       "stream": "stdout",
       "text": [
        "\r",
        "gbm Model Build Progress: [###############                                   ] 30%"
       ]
      },
      {
       "output_type": "stream",
       "stream": "stdout",
       "text": [
        "\r",
        "gbm Model Build Progress: [###############                                   ] 30%"
       ]
      },
      {
       "output_type": "stream",
       "stream": "stdout",
       "text": [
        "\r",
        "gbm Model Build Progress: [###############                                   ] 30%"
       ]
      },
      {
       "output_type": "stream",
       "stream": "stdout",
       "text": [
        "\r",
        "gbm Model Build Progress: [###############                                   ] 30%"
       ]
      },
      {
       "output_type": "stream",
       "stream": "stdout",
       "text": [
        "\r",
        "gbm Model Build Progress: [###################################               ] 70%"
       ]
      },
      {
       "output_type": "stream",
       "stream": "stdout",
       "text": [
        "\r",
        "gbm Model Build Progress: [###################################               ] 70%"
       ]
      },
      {
       "output_type": "stream",
       "stream": "stdout",
       "text": [
        "\r",
        "gbm Model Build Progress: [##################################################] 100%"
       ]
      },
      {
       "output_type": "stream",
       "stream": "stdout",
       "text": [
        "\n",
        "\n"
       ]
      },
      {
       "output_type": "stream",
       "stream": "stdout",
       "text": [
        "\r",
        "deeplearning Model Build Progress: [                                                  ] 00%"
       ]
      },
      {
       "output_type": "stream",
       "stream": "stdout",
       "text": [
        "\r",
        "deeplearning Model Build Progress: [                                                  ] 00%"
       ]
      },
      {
       "output_type": "stream",
       "stream": "stdout",
       "text": [
        "\r",
        "deeplearning Model Build Progress: [                                                  ] 00%"
       ]
      },
      {
       "output_type": "stream",
       "stream": "stdout",
       "text": [
        "\r",
        "deeplearning Model Build Progress: [                                                  ] 00%"
       ]
      },
      {
       "output_type": "stream",
       "stream": "stdout",
       "text": [
        "\r",
        "deeplearning Model Build Progress: [                                                  ] 00%"
       ]
      },
      {
       "output_type": "stream",
       "stream": "stdout",
       "text": [
        "\r",
        "deeplearning Model Build Progress: [                                                  ] 00%"
       ]
      },
      {
       "output_type": "stream",
       "stream": "stdout",
       "text": [
        "\r",
        "deeplearning Model Build Progress: [                                                  ] 00%"
       ]
      },
      {
       "output_type": "stream",
       "stream": "stdout",
       "text": [
        "\r",
        "deeplearning Model Build Progress: [                                                  ] 00%"
       ]
      },
      {
       "output_type": "stream",
       "stream": "stdout",
       "text": [
        "\r",
        "deeplearning Model Build Progress: [                                                  ] 00%"
       ]
      },
      {
       "output_type": "stream",
       "stream": "stdout",
       "text": [
        "\r",
        "deeplearning Model Build Progress: [                                                  ] 00%"
       ]
      },
      {
       "output_type": "stream",
       "stream": "stdout",
       "text": [
        "\r",
        "deeplearning Model Build Progress: [                                                  ] 00%"
       ]
      },
      {
       "output_type": "stream",
       "stream": "stdout",
       "text": [
        "\r",
        "deeplearning Model Build Progress: [                                                  ] 00%"
       ]
      },
      {
       "output_type": "stream",
       "stream": "stdout",
       "text": [
        "\r",
        "deeplearning Model Build Progress: [                                                  ] 00%"
       ]
      },
      {
       "output_type": "stream",
       "stream": "stdout",
       "text": [
        "\r",
        "deeplearning Model Build Progress: [                                                  ] 00%"
       ]
      },
      {
       "output_type": "stream",
       "stream": "stdout",
       "text": [
        "\r",
        "deeplearning Model Build Progress: [#####                                             ] 10%"
       ]
      },
      {
       "output_type": "stream",
       "stream": "stdout",
       "text": [
        "\r",
        "deeplearning Model Build Progress: [#####                                             ] 10%"
       ]
      },
      {
       "output_type": "stream",
       "stream": "stdout",
       "text": [
        "\r",
        "deeplearning Model Build Progress: [#####                                             ] 10%"
       ]
      },
      {
       "output_type": "stream",
       "stream": "stdout",
       "text": [
        "\r",
        "deeplearning Model Build Progress: [#####                                             ] 10%"
       ]
      },
      {
       "output_type": "stream",
       "stream": "stdout",
       "text": [
        "\r",
        "deeplearning Model Build Progress: [#####                                             ] 10%"
       ]
      },
      {
       "output_type": "stream",
       "stream": "stdout",
       "text": [
        "\r",
        "deeplearning Model Build Progress: [#####                                             ] 10%"
       ]
      },
      {
       "output_type": "stream",
       "stream": "stdout",
       "text": [
        "\r",
        "deeplearning Model Build Progress: [#####                                             ] 10%"
       ]
      },
      {
       "output_type": "stream",
       "stream": "stdout",
       "text": [
        "\r",
        "deeplearning Model Build Progress: [#####                                             ] 10%"
       ]
      },
      {
       "output_type": "stream",
       "stream": "stdout",
       "text": [
        "\r",
        "deeplearning Model Build Progress: [#####                                             ] 10%"
       ]
      },
      {
       "output_type": "stream",
       "stream": "stdout",
       "text": [
        "\r",
        "deeplearning Model Build Progress: [#####                                             ] 10%"
       ]
      },
      {
       "output_type": "stream",
       "stream": "stdout",
       "text": [
        "\r",
        "deeplearning Model Build Progress: [#####                                             ] 10%"
       ]
      },
      {
       "output_type": "stream",
       "stream": "stdout",
       "text": [
        "\r",
        "deeplearning Model Build Progress: [#####                                             ] 10%"
       ]
      },
      {
       "output_type": "stream",
       "stream": "stdout",
       "text": [
        "\r",
        "deeplearning Model Build Progress: [##########                                        ] 20%"
       ]
      },
      {
       "output_type": "stream",
       "stream": "stdout",
       "text": [
        "\r",
        "deeplearning Model Build Progress: [##########                                        ] 20%"
       ]
      },
      {
       "output_type": "stream",
       "stream": "stdout",
       "text": [
        "\r",
        "deeplearning Model Build Progress: [##########                                        ] 20%"
       ]
      },
      {
       "output_type": "stream",
       "stream": "stdout",
       "text": [
        "\r",
        "deeplearning Model Build Progress: [##########                                        ] 20%"
       ]
      },
      {
       "output_type": "stream",
       "stream": "stdout",
       "text": [
        "\r",
        "deeplearning Model Build Progress: [##########                                        ] 20%"
       ]
      },
      {
       "output_type": "stream",
       "stream": "stdout",
       "text": [
        "\r",
        "deeplearning Model Build Progress: [##########                                        ] 20%"
       ]
      },
      {
       "output_type": "stream",
       "stream": "stdout",
       "text": [
        "\r",
        "deeplearning Model Build Progress: [###############                                   ] 30%"
       ]
      },
      {
       "output_type": "stream",
       "stream": "stdout",
       "text": [
        "\r",
        "deeplearning Model Build Progress: [###############                                   ] 30%"
       ]
      },
      {
       "output_type": "stream",
       "stream": "stdout",
       "text": [
        "\r",
        "deeplearning Model Build Progress: [###############                                   ] 30%"
       ]
      },
      {
       "output_type": "stream",
       "stream": "stdout",
       "text": [
        "\r",
        "deeplearning Model Build Progress: [###############                                   ] 30%"
       ]
      },
      {
       "output_type": "stream",
       "stream": "stdout",
       "text": [
        "\r",
        "deeplearning Model Build Progress: [###############                                   ] 30%"
       ]
      },
      {
       "output_type": "stream",
       "stream": "stdout",
       "text": [
        "\r",
        "deeplearning Model Build Progress: [###############                                   ] 30%"
       ]
      },
      {
       "output_type": "stream",
       "stream": "stdout",
       "text": [
        "\r",
        "deeplearning Model Build Progress: [####################                              ] 40%"
       ]
      },
      {
       "output_type": "stream",
       "stream": "stdout",
       "text": [
        "\r",
        "deeplearning Model Build Progress: [####################                              ] 40%"
       ]
      },
      {
       "output_type": "stream",
       "stream": "stdout",
       "text": [
        "\r",
        "deeplearning Model Build Progress: [####################                              ] 40%"
       ]
      },
      {
       "output_type": "stream",
       "stream": "stdout",
       "text": [
        "\r",
        "deeplearning Model Build Progress: [####################                              ] 40%"
       ]
      },
      {
       "output_type": "stream",
       "stream": "stdout",
       "text": [
        "\r",
        "deeplearning Model Build Progress: [####################                              ] 40%"
       ]
      },
      {
       "output_type": "stream",
       "stream": "stdout",
       "text": [
        "\r",
        "deeplearning Model Build Progress: [#########################                         ] 50%"
       ]
      },
      {
       "output_type": "stream",
       "stream": "stdout",
       "text": [
        "\r",
        "deeplearning Model Build Progress: [#########################                         ] 50%"
       ]
      },
      {
       "output_type": "stream",
       "stream": "stdout",
       "text": [
        "\r",
        "deeplearning Model Build Progress: [#########################                         ] 50%"
       ]
      },
      {
       "output_type": "stream",
       "stream": "stdout",
       "text": [
        "\r",
        "deeplearning Model Build Progress: [#########################                         ] 50%"
       ]
      },
      {
       "output_type": "stream",
       "stream": "stdout",
       "text": [
        "\r",
        "deeplearning Model Build Progress: [#########################                         ] 50%"
       ]
      },
      {
       "output_type": "stream",
       "stream": "stdout",
       "text": [
        "\r",
        "deeplearning Model Build Progress: [#########################                         ] 50%"
       ]
      },
      {
       "output_type": "stream",
       "stream": "stdout",
       "text": [
        "\r",
        "deeplearning Model Build Progress: [#########################                         ] 50%"
       ]
      },
      {
       "output_type": "stream",
       "stream": "stdout",
       "text": [
        "\r",
        "deeplearning Model Build Progress: [##############################                    ] 60%"
       ]
      },
      {
       "output_type": "stream",
       "stream": "stdout",
       "text": [
        "\r",
        "deeplearning Model Build Progress: [##############################                    ] 60%"
       ]
      },
      {
       "output_type": "stream",
       "stream": "stdout",
       "text": [
        "\r",
        "deeplearning Model Build Progress: [##############################                    ] 60%"
       ]
      },
      {
       "output_type": "stream",
       "stream": "stdout",
       "text": [
        "\r",
        "deeplearning Model Build Progress: [##############################                    ] 60%"
       ]
      },
      {
       "output_type": "stream",
       "stream": "stdout",
       "text": [
        "\r",
        "deeplearning Model Build Progress: [##############################                    ] 60%"
       ]
      },
      {
       "output_type": "stream",
       "stream": "stdout",
       "text": [
        "\r",
        "deeplearning Model Build Progress: [##############################                    ] 60%"
       ]
      },
      {
       "output_type": "stream",
       "stream": "stdout",
       "text": [
        "\r",
        "deeplearning Model Build Progress: [###################################               ] 70%"
       ]
      },
      {
       "output_type": "stream",
       "stream": "stdout",
       "text": [
        "\r",
        "deeplearning Model Build Progress: [###################################               ] 70%"
       ]
      },
      {
       "output_type": "stream",
       "stream": "stdout",
       "text": [
        "\r",
        "deeplearning Model Build Progress: [###################################               ] 70%"
       ]
      },
      {
       "output_type": "stream",
       "stream": "stdout",
       "text": [
        "\r",
        "deeplearning Model Build Progress: [###################################               ] 70%"
       ]
      },
      {
       "output_type": "stream",
       "stream": "stdout",
       "text": [
        "\r",
        "deeplearning Model Build Progress: [###################################               ] 70%"
       ]
      },
      {
       "output_type": "stream",
       "stream": "stdout",
       "text": [
        "\r",
        "deeplearning Model Build Progress: [########################################          ] 80%"
       ]
      },
      {
       "output_type": "stream",
       "stream": "stdout",
       "text": [
        "\r",
        "deeplearning Model Build Progress: [########################################          ] 80%"
       ]
      },
      {
       "output_type": "stream",
       "stream": "stdout",
       "text": [
        "\r",
        "deeplearning Model Build Progress: [########################################          ] 80%"
       ]
      },
      {
       "output_type": "stream",
       "stream": "stdout",
       "text": [
        "\r",
        "deeplearning Model Build Progress: [########################################          ] 80%"
       ]
      },
      {
       "output_type": "stream",
       "stream": "stdout",
       "text": [
        "\r",
        "deeplearning Model Build Progress: [########################################          ] 80%"
       ]
      },
      {
       "output_type": "stream",
       "stream": "stdout",
       "text": [
        "\r",
        "deeplearning Model Build Progress: [########################################          ] 80%"
       ]
      },
      {
       "output_type": "stream",
       "stream": "stdout",
       "text": [
        "\r",
        "deeplearning Model Build Progress: [#############################################     ] 90%"
       ]
      },
      {
       "output_type": "stream",
       "stream": "stdout",
       "text": [
        "\r",
        "deeplearning Model Build Progress: [#############################################     ] 90%"
       ]
      },
      {
       "output_type": "stream",
       "stream": "stdout",
       "text": [
        "\r",
        "deeplearning Model Build Progress: [#############################################     ] 90%"
       ]
      },
      {
       "output_type": "stream",
       "stream": "stdout",
       "text": [
        "\r",
        "deeplearning Model Build Progress: [#############################################     ] 90%"
       ]
      },
      {
       "output_type": "stream",
       "stream": "stdout",
       "text": [
        "\r",
        "deeplearning Model Build Progress: [#############################################     ] 90%"
       ]
      },
      {
       "output_type": "stream",
       "stream": "stdout",
       "text": [
        "\r",
        "deeplearning Model Build Progress: [##################################################] 100%"
       ]
      },
      {
       "output_type": "stream",
       "stream": "stdout",
       "text": [
        "\n"
       ]
      }
     ],
     "prompt_number": 12
    },
    {
     "cell_type": "code",
     "collapsed": false,
     "input": [
      "# GBM performance on train/test data\n",
      "train_auc_gbm = data_gbm.model_performance(train).auc()\n",
      "test_auc_gbm  = data_gbm.model_performance(test) .auc()\n",
      "\n",
      "# Deep Learning performance on train/test data\n",
      "train_auc_dl = data_dl.model_performance(train).auc()\n",
      "test_auc_dl  = data_dl.model_performance(test) .auc()\n",
      "\n",
      "# Make a pretty HTML table printout of the results\n",
      "header = [\"Model\", \"AUC Train\", \"AUC Test\"]\n",
      "table  = [\n",
      "           [\"GBM\", train_auc_gbm, test_auc_gbm],\n",
      "           [\"DL \", train_auc_dl,  test_auc_dl]\n",
      "         ]\n",
      "h2o.H2ODisplay(table, header)"
     ],
     "language": "python",
     "metadata": {},
     "outputs": [
      {
       "html": [
        "<div style=\"overflow:auto\"><table style=\"width:50%\"><tr><td>Model</td>\n",
        "<td>AUC Train</td>\n",
        "<td>AUC Test</td></tr>\n",
        "<tr><td>GBM</td>\n",
        "<td>0.957115520619</td>\n",
        "<td>0.914403005062</td></tr>\n",
        "<tr><td>DL </td>\n",
        "<td>0.98411333776</td>\n",
        "<td>0.910417417547</td></tr></table></div>"
       ],
       "metadata": {},
       "output_type": "display_data",
       "text": [
        "Model      AUC Train    AUC Test\n",
        "-------  -----------  ----------\n",
        "GBM         0.957116    0.914403\n",
        "DL          0.984113    0.910417"
       ]
      },
      {
       "metadata": {},
       "output_type": "pyout",
       "prompt_number": 13,
       "text": []
      }
     ],
     "prompt_number": 13
    },
    {
     "cell_type": "code",
     "collapsed": false,
     "input": [
      "# Create new H2OFrame of crime observations\n",
      "examples = {\n",
      "            \"Date\":                 [\"02/08/2015 11:43:58 PM\", \"02/08/2015 11:00:39 PM\"],\n",
      "            \"IUCR\":                 [1811, 1150],\n",
      "            \"Primary.Type\":         [\"NARCOTICS\", \"DECEPTIVE PRACTICE\"],\n",
      "            \"Location.Description\": [\"STREET\", \"RESIDENCE\"],\n",
      "            \"Domestic\":             [\"false\", \"false\"],\n",
      "            \"Beat\":                 [422, 923],\n",
      "            \"District\":             [4, 9],\n",
      "            \"Ward\":                 [7, 14],\n",
      "            \"Community.Area\":       [46, 63],\n",
      "            \"FBI.Code\":             [18, 11]\n",
      "            }\n",
      "\n",
      "crime_examples = h2o.H2OFrame(python_obj = examples)\n",
      "\n",
      "# Refine date column and merge with census data\n",
      "refine_date_col(crime_examples, \"Date\", \"%m/%d/%Y %I:%M:%S %p\")\n",
      "crime_examples.drop(\"Date\")\n",
      "census.set_name(0,\"Community.Area\")\n",
      "crime_examples.merge(census, allLeft=True, allRite=False)\n",
      "crime_examples.describe()"
     ],
     "language": "python",
     "metadata": {},
     "outputs": [
      {
       "output_type": "stream",
       "stream": "stdout",
       "text": [
        "\n",
        "\r",
        "Parse Progress: [                                                  ] 00%"
       ]
      },
      {
       "output_type": "stream",
       "stream": "stdout",
       "text": [
        "\r",
        "Parse Progress: [##################################################] 100%"
       ]
      },
      {
       "output_type": "stream",
       "stream": "stdout",
       "text": [
        "\n",
        "Uploaded pycd62ccbb-7411-40be-abce-e89cf22744b4 into cluster with 2 rows and 10 cols\n",
        "Rows:"
       ]
      },
      {
       "output_type": "stream",
       "stream": "stdout",
       "text": [
        " 2 Cols: 16\n",
        "\n",
        "Chunk compression summary:\n"
       ]
      },
      {
       "html": [
        "<div style=\"overflow:auto\"><table style=\"width:50%\"><tr><td>chunk_type</td>\n",
        "<td>chunk_name</td>\n",
        "<td>count</td>\n",
        "<td>count_percentage</td>\n",
        "<td>size</td>\n",
        "<td>size_percentage</td></tr>\n",
        "<tr><td>C0L</td>\n",
        "<td>Constant Integers</td>\n",
        "<td>7</td>\n",
        "<td>43.75</td>\n",
        "<td>    560  B</td>\n",
        "<td>43.75</td></tr>\n",
        "<tr><td>C1N</td>\n",
        "<td>1-Byte Integers (w/o NAs)</td>\n",
        "<td>4</td>\n",
        "<td>25.0</td>\n",
        "<td>    280  B</td>\n",
        "<td>21.875</td></tr>\n",
        "<tr><td>C2</td>\n",
        "<td>2-Byte Integers</td>\n",
        "<td>2</td>\n",
        "<td>12.5</td>\n",
        "<td>    144  B</td>\n",
        "<td>11.25</td></tr>\n",
        "<tr><td>C2S</td>\n",
        "<td>2-Byte Fractions</td>\n",
        "<td>1</td>\n",
        "<td>6.25</td>\n",
        "<td>     88  B</td>\n",
        "<td>6.875</td></tr>\n",
        "<tr><td>CStr</td>\n",
        "<td>String</td>\n",
        "<td>2</td>\n",
        "<td>12.5</td>\n",
        "<td>    208  B</td>\n",
        "<td>16.25</td></tr></table></div>"
       ],
       "metadata": {},
       "output_type": "display_data",
       "text": [
        "chunk_type    chunk_name                 count    count_percentage    size    size_percentage\n",
        "------------  -------------------------  -------  ------------------  ------  -----------------\n",
        "C0L           Constant Integers          7        43.75               560  B  43.75\n",
        "C1N           1-Byte Integers (w/o NAs)  4        25                  280  B  21.875\n",
        "C2            2-Byte Integers            2        12.5                144  B  11.25\n",
        "C2S           2-Byte Fractions           1        6.25                88  B   6.875\n",
        "CStr          String                     2        12.5                208  B  16.25"
       ]
      },
      {
       "output_type": "stream",
       "stream": "stdout",
       "text": [
        "\n",
        "Frame distribution summary:\n"
       ]
      },
      {
       "html": [
        "<div style=\"overflow:auto\"><table style=\"width:50%\"><tr><td></td>\n",
        "<td>size</td>\n",
        "<td>number_of_rows</td>\n",
        "<td>number_of_chunks_per_column</td>\n",
        "<td>number_of_chunks</td></tr>\n",
        "<tr><td>10.0.0.24:54321</td>\n",
        "<td>    1.3 KB</td>\n",
        "<td>2.0</td>\n",
        "<td>1.0</td>\n",
        "<td>16.0</td></tr>\n",
        "<tr><td>mean</td>\n",
        "<td>    1.3 KB</td>\n",
        "<td>2.0</td>\n",
        "<td>1.0</td>\n",
        "<td>16.0</td></tr>\n",
        "<tr><td>min</td>\n",
        "<td>    1.3 KB</td>\n",
        "<td>2.0</td>\n",
        "<td>1.0</td>\n",
        "<td>16.0</td></tr>\n",
        "<tr><td>max</td>\n",
        "<td>    1.3 KB</td>\n",
        "<td>2.0</td>\n",
        "<td>1.0</td>\n",
        "<td>16.0</td></tr>\n",
        "<tr><td>stddev</td>\n",
        "<td>      0  B</td>\n",
        "<td>0.0</td>\n",
        "<td>0.0</td>\n",
        "<td>0.0</td></tr>\n",
        "<tr><td>total</td>\n",
        "<td>    1.3 KB</td>\n",
        "<td>2.0</td>\n",
        "<td>1.0</td>\n",
        "<td>16.0</td></tr></table></div>"
       ],
       "metadata": {},
       "output_type": "display_data",
       "text": [
        "                 size    number_of_rows    number_of_chunks_per_column    number_of_chunks\n",
        "---------------  ------  ----------------  -----------------------------  ------------------\n",
        "10.0.0.24:54321  1.3 KB  2                 1                              16\n",
        "mean             1.3 KB  2                 1                              16\n",
        "min              1.3 KB  2                 1                              16\n",
        "max              1.3 KB  2                 1                              16\n",
        "stddev           0  B    0                 0                              0\n",
        "total            1.3 KB  2                 1                              16"
       ]
      },
      {
       "output_type": "stream",
       "stream": "stdout",
       "text": [
        "\n",
        "Column-by-Column Summary:\n",
        "\n"
       ]
      },
      {
       "html": [
        "<div style=\"overflow:auto\"><table style=\"width:50%\"><tr><td></td>\n",
        "<td>Location.Description</td>\n",
        "<td>FBI.Code</td>\n",
        "<td>Beat</td>\n",
        "<td>Primary.Type</td>\n",
        "<td>Community.Area</td>\n",
        "<td>District</td>\n",
        "<td>Date</td>\n",
        "<td>Ward</td>\n",
        "<td>Domestic</td>\n",
        "<td>IUCR</td>\n",
        "<td>Day</td>\n",
        "<td>Month</td>\n",
        "<td>Year</td>\n",
        "<td>WeekNum</td>\n",
        "<td>WeekDay</td>\n",
        "<td>HourOfDay</td></tr>\n",
        "<tr><td>type</td>\n",
        "<td>string</td>\n",
        "<td>int</td>\n",
        "<td>int</td>\n",
        "<td>string</td>\n",
        "<td>int</td>\n",
        "<td>int</td>\n",
        "<td>int</td>\n",
        "<td>int</td>\n",
        "<td>enum</td>\n",
        "<td>int</td>\n",
        "<td>int</td>\n",
        "<td>int</td>\n",
        "<td>int</td>\n",
        "<td>int</td>\n",
        "<td>enum</td>\n",
        "<td>int</td></tr>\n",
        "<tr><td>mins</td>\n",
        "<td>NaN</td>\n",
        "<td>11.0</td>\n",
        "<td>422.0</td>\n",
        "<td>NaN</td>\n",
        "<td>46.0</td>\n",
        "<td>4.0</td>\n",
        "<td>1.423465239e+12</td>\n",
        "<td>7.0</td>\n",
        "<td>0.0</td>\n",
        "<td>1150.0</td>\n",
        "<td>8.0</td>\n",
        "<td>3.0</td>\n",
        "<td>3915.0</td>\n",
        "<td>6.0</td>\n",
        "<td>6.0</td>\n",
        "<td>23.0</td></tr>\n",
        "<tr><td>maxs</td>\n",
        "<td>NaN</td>\n",
        "<td>18.0</td>\n",
        "<td>923.0</td>\n",
        "<td>NaN</td>\n",
        "<td>63.0</td>\n",
        "<td>9.0</td>\n",
        "<td>1.423467838e+12</td>\n",
        "<td>14.0</td>\n",
        "<td>0.0</td>\n",
        "<td>1811.0</td>\n",
        "<td>8.0</td>\n",
        "<td>3.0</td>\n",
        "<td>3915.0</td>\n",
        "<td>6.0</td>\n",
        "<td>6.0</td>\n",
        "<td>23.0</td></tr>\n",
        "<tr><td>mean</td>\n",
        "<td>NaN</td>\n",
        "<td>14.5</td>\n",
        "<td>672.5</td>\n",
        "<td>NaN</td>\n",
        "<td>54.5</td>\n",
        "<td>6.5</td>\n",
        "<td>1.4234665385e+12</td>\n",
        "<td>10.5</td>\n",
        "<td>0.0</td>\n",
        "<td>1480.5</td>\n",
        "<td>8.0</td>\n",
        "<td>3.0</td>\n",
        "<td>3915.0</td>\n",
        "<td>6.0</td>\n",
        "<td>NaN</td>\n",
        "<td>23.0</td></tr>\n",
        "<tr><td>sigma</td>\n",
        "<td>NaN</td>\n",
        "<td>4.94974746831</td>\n",
        "<td>354.260497374</td>\n",
        "<td>NaN</td>\n",
        "<td>12.0208152802</td>\n",
        "<td>3.53553390593</td>\n",
        "<td>1837770.5243</td>\n",
        "<td>4.94974746831</td>\n",
        "<td>0.0</td>\n",
        "<td>467.397582364</td>\n",
        "<td>0.0</td>\n",
        "<td>0.0</td>\n",
        "<td>0.0</td>\n",
        "<td>0.0</td>\n",
        "<td>NaN</td>\n",
        "<td>0.0</td></tr>\n",
        "<tr><td>zero_count</td>\n",
        "<td>0</td>\n",
        "<td>0</td>\n",
        "<td>0</td>\n",
        "<td>0</td>\n",
        "<td>0</td>\n",
        "<td>0</td>\n",
        "<td>0</td>\n",
        "<td>0</td>\n",
        "<td>2</td>\n",
        "<td>0</td>\n",
        "<td>0</td>\n",
        "<td>0</td>\n",
        "<td>0</td>\n",
        "<td>0</td>\n",
        "<td>0</td>\n",
        "<td>0</td></tr>\n",
        "<tr><td>missing_count</td>\n",
        "<td>0</td>\n",
        "<td>0</td>\n",
        "<td>0</td>\n",
        "<td>0</td>\n",
        "<td>0</td>\n",
        "<td>0</td>\n",
        "<td>0</td>\n",
        "<td>0</td>\n",
        "<td>0</td>\n",
        "<td>0</td>\n",
        "<td>0</td>\n",
        "<td>0</td>\n",
        "<td>0</td>\n",
        "<td>0</td>\n",
        "<td>0</td>\n",
        "<td>0</td></tr></table></div>"
       ],
       "metadata": {},
       "output_type": "display_data",
       "text": [
        "               Location.Description    FBI.Code       Beat           Primary.Type    Community.Area    District       Date              Ward           Domestic    IUCR           Day    Month    Year    WeekNum    WeekDay    HourOfDay\n",
        "-------------  ----------------------  -------------  -------------  --------------  ----------------  -------------  ----------------  -------------  ----------  -------------  -----  -------  ------  ---------  ---------  -----------\n",
        "type           string                  int            int            string          int               int            int               int            enum        int            int    int      int     int        enum       int\n",
        "mins           NaN                     11.0           422.0          NaN             46.0              4.0            1.423465239e+12   7.0            0.0         1150.0         8.0    3.0      3915.0  6.0        6.0        23.0\n",
        "maxs           NaN                     18.0           923.0          NaN             63.0              9.0            1.423467838e+12   14.0           0.0         1811.0         8.0    3.0      3915.0  6.0        6.0        23.0\n",
        "mean           NaN                     14.5           672.5          NaN             54.5              6.5            1.4234665385e+12  10.5           0.0         1480.5         8.0    3.0      3915.0  6.0        NaN        23.0\n",
        "sigma          NaN                     4.94974746831  354.260497374  NaN             12.0208152802     3.53553390593  1837770.5243      4.94974746831  0.0         467.397582364  0.0    0.0      0.0     0.0        NaN        0.0\n",
        "zero_count     0                       0              0              0               0                 0              0                 0              2           0              0      0        0       0          0          0\n",
        "missing_count  0                       0              0              0               0                 0              0                 0              0           0              0      0        0       0          0          0"
       ]
      },
      {
       "output_type": "stream",
       "stream": "stdout",
       "text": [
        "Rows: 2 Cols: 18\n",
        "\n",
        "Chunk compression summary:\n"
       ]
      },
      {
       "html": [
        "<div style=\"overflow:auto\"><table style=\"width:50%\"><tr><td>chunk_type</td>\n",
        "<td>chunk_name</td>\n",
        "<td>count</td>\n",
        "<td>count_percentage</td>\n",
        "<td>size</td>\n",
        "<td>size_percentage</td></tr>\n",
        "<tr><td>C0L</td>\n",
        "<td>Constant Integers</td>\n",
        "<td>9</td>\n",
        "<td>50.0</td>\n",
        "<td>    720  B</td>\n",
        "<td>50.0</td></tr>\n",
        "<tr><td>C1N</td>\n",
        "<td>1-Byte Integers (w/o NAs)</td>\n",
        "<td>4</td>\n",
        "<td>22.222223</td>\n",
        "<td>    280  B</td>\n",
        "<td>19.444445</td></tr>\n",
        "<tr><td>C2</td>\n",
        "<td>2-Byte Integers</td>\n",
        "<td>2</td>\n",
        "<td>11.111112</td>\n",
        "<td>    144  B</td>\n",
        "<td>10.0</td></tr>\n",
        "<tr><td>C2S</td>\n",
        "<td>2-Byte Fractions</td>\n",
        "<td>1</td>\n",
        "<td>5.555556</td>\n",
        "<td>     88  B</td>\n",
        "<td>6.111111</td></tr>\n",
        "<tr><td>CStr</td>\n",
        "<td>String</td>\n",
        "<td>2</td>\n",
        "<td>11.111112</td>\n",
        "<td>    208  B</td>\n",
        "<td>14.444445</td></tr></table></div>"
       ],
       "metadata": {},
       "output_type": "display_data",
       "text": [
        "chunk_type    chunk_name                 count    count_percentage    size    size_percentage\n",
        "------------  -------------------------  -------  ------------------  ------  -----------------\n",
        "C0L           Constant Integers          9        50                  720  B  50\n",
        "C1N           1-Byte Integers (w/o NAs)  4        22.2222             280  B  19.4444\n",
        "C2            2-Byte Integers            2        11.1111             144  B  10\n",
        "C2S           2-Byte Fractions           1        5.55556             88  B   6.11111\n",
        "CStr          String                     2        11.1111             208  B  14.4444"
       ]
      },
      {
       "output_type": "stream",
       "stream": "stdout",
       "text": [
        "\n",
        "Frame distribution summary:\n"
       ]
      },
      {
       "html": [
        "<div style=\"overflow:auto\"><table style=\"width:50%\"><tr><td></td>\n",
        "<td>size</td>\n",
        "<td>number_of_rows</td>\n",
        "<td>number_of_chunks_per_column</td>\n",
        "<td>number_of_chunks</td></tr>\n",
        "<tr><td>10.0.0.24:54321</td>\n",
        "<td>    1.4 KB</td>\n",
        "<td>2.0</td>\n",
        "<td>1.0</td>\n",
        "<td>18.0</td></tr>\n",
        "<tr><td>mean</td>\n",
        "<td>    1.4 KB</td>\n",
        "<td>2.0</td>\n",
        "<td>1.0</td>\n",
        "<td>18.0</td></tr>\n",
        "<tr><td>min</td>\n",
        "<td>    1.4 KB</td>\n",
        "<td>2.0</td>\n",
        "<td>1.0</td>\n",
        "<td>18.0</td></tr>\n",
        "<tr><td>max</td>\n",
        "<td>    1.4 KB</td>\n",
        "<td>2.0</td>\n",
        "<td>1.0</td>\n",
        "<td>18.0</td></tr>\n",
        "<tr><td>stddev</td>\n",
        "<td>      0  B</td>\n",
        "<td>0.0</td>\n",
        "<td>0.0</td>\n",
        "<td>0.0</td></tr>\n",
        "<tr><td>total</td>\n",
        "<td>    1.4 KB</td>\n",
        "<td>2.0</td>\n",
        "<td>1.0</td>\n",
        "<td>18.0</td></tr></table></div>"
       ],
       "metadata": {},
       "output_type": "display_data",
       "text": [
        "                 size    number_of_rows    number_of_chunks_per_column    number_of_chunks\n",
        "---------------  ------  ----------------  -----------------------------  ------------------\n",
        "10.0.0.24:54321  1.4 KB  2                 1                              18\n",
        "mean             1.4 KB  2                 1                              18\n",
        "min              1.4 KB  2                 1                              18\n",
        "max              1.4 KB  2                 1                              18\n",
        "stddev           0  B    0                 0                              0\n",
        "total            1.4 KB  2                 1                              18"
       ]
      },
      {
       "output_type": "stream",
       "stream": "stdout",
       "text": [
        "\n",
        "Column-by-Column Summary:\n",
        "\n"
       ]
      },
      {
       "html": [
        "<div style=\"overflow:auto\"><table style=\"width:50%\"><tr><td></td>\n",
        "<td>Location.Description</td>\n",
        "<td>FBI.Code</td>\n",
        "<td>Beat</td>\n",
        "<td>Primary.Type</td>\n",
        "<td>Community.Area</td>\n",
        "<td>District</td>\n",
        "<td>Date</td>\n",
        "<td>Ward</td>\n",
        "<td>Domestic</td>\n",
        "<td>IUCR</td>\n",
        "<td>Day</td>\n",
        "<td>Month</td>\n",
        "<td>Year</td>\n",
        "<td>WeekNum</td>\n",
        "<td>WeekDay</td>\n",
        "<td>HourOfDay</td>\n",
        "<td>Weekend</td>\n",
        "<td>Season</td></tr>\n",
        "<tr><td>type</td>\n",
        "<td>int</td>\n",
        "<td>int</td>\n",
        "<td>int</td>\n",
        "<td>string</td>\n",
        "<td>string</td>\n",
        "<td>int</td>\n",
        "<td>int</td>\n",
        "<td>int</td>\n",
        "<td>enum</td>\n",
        "<td>int</td>\n",
        "<td>int</td>\n",
        "<td>int</td>\n",
        "<td>int</td>\n",
        "<td>int</td>\n",
        "<td>enum</td>\n",
        "<td>int</td>\n",
        "<td>int</td>\n",
        "<td>enum</td></tr>\n",
        "<tr><td>mins</td>\n",
        "<td>46.0</td>\n",
        "<td>11.0</td>\n",
        "<td>422.0</td>\n",
        "<td>NaN</td>\n",
        "<td>NaN</td>\n",
        "<td>4.0</td>\n",
        "<td>1.423465239e+12</td>\n",
        "<td>7.0</td>\n",
        "<td>0.0</td>\n",
        "<td>1150.0</td>\n",
        "<td>8.0</td>\n",
        "<td>3.0</td>\n",
        "<td>3915.0</td>\n",
        "<td>6.0</td>\n",
        "<td>6.0</td>\n",
        "<td>23.0</td>\n",
        "<td>1.0</td>\n",
        "<td>1.0</td></tr>\n",
        "<tr><td>maxs</td>\n",
        "<td>63.0</td>\n",
        "<td>18.0</td>\n",
        "<td>923.0</td>\n",
        "<td>NaN</td>\n",
        "<td>NaN</td>\n",
        "<td>9.0</td>\n",
        "<td>1.423467838e+12</td>\n",
        "<td>14.0</td>\n",
        "<td>0.0</td>\n",
        "<td>1811.0</td>\n",
        "<td>8.0</td>\n",
        "<td>3.0</td>\n",
        "<td>3915.0</td>\n",
        "<td>6.0</td>\n",
        "<td>6.0</td>\n",
        "<td>23.0</td>\n",
        "<td>1.0</td>\n",
        "<td>1.0</td></tr>\n",
        "<tr><td>mean</td>\n",
        "<td>54.5</td>\n",
        "<td>14.5</td>\n",
        "<td>672.5</td>\n",
        "<td>NaN</td>\n",
        "<td>NaN</td>\n",
        "<td>6.5</td>\n",
        "<td>1.4234665385e+12</td>\n",
        "<td>10.5</td>\n",
        "<td>0.0</td>\n",
        "<td>1480.5</td>\n",
        "<td>8.0</td>\n",
        "<td>3.0</td>\n",
        "<td>3915.0</td>\n",
        "<td>6.0</td>\n",
        "<td>NaN</td>\n",
        "<td>23.0</td>\n",
        "<td>1.0</td>\n",
        "<td>NaN</td></tr>\n",
        "<tr><td>sigma</td>\n",
        "<td>12.0208152802</td>\n",
        "<td>4.94974746831</td>\n",
        "<td>354.260497374</td>\n",
        "<td>NaN</td>\n",
        "<td>NaN</td>\n",
        "<td>3.53553390593</td>\n",
        "<td>1837770.5243</td>\n",
        "<td>4.94974746831</td>\n",
        "<td>0.0</td>\n",
        "<td>467.397582364</td>\n",
        "<td>0.0</td>\n",
        "<td>0.0</td>\n",
        "<td>0.0</td>\n",
        "<td>0.0</td>\n",
        "<td>NaN</td>\n",
        "<td>0.0</td>\n",
        "<td>0.0</td>\n",
        "<td>NaN</td></tr>\n",
        "<tr><td>zero_count</td>\n",
        "<td>0</td>\n",
        "<td>0</td>\n",
        "<td>0</td>\n",
        "<td>0</td>\n",
        "<td>0</td>\n",
        "<td>0</td>\n",
        "<td>0</td>\n",
        "<td>0</td>\n",
        "<td>2</td>\n",
        "<td>0</td>\n",
        "<td>0</td>\n",
        "<td>0</td>\n",
        "<td>0</td>\n",
        "<td>0</td>\n",
        "<td>0</td>\n",
        "<td>0</td>\n",
        "<td>0</td>\n",
        "<td>0</td></tr>\n",
        "<tr><td>missing_count</td>\n",
        "<td>0</td>\n",
        "<td>0</td>\n",
        "<td>0</td>\n",
        "<td>0</td>\n",
        "<td>0</td>\n",
        "<td>0</td>\n",
        "<td>0</td>\n",
        "<td>0</td>\n",
        "<td>0</td>\n",
        "<td>0</td>\n",
        "<td>0</td>\n",
        "<td>0</td>\n",
        "<td>0</td>\n",
        "<td>0</td>\n",
        "<td>0</td>\n",
        "<td>0</td>\n",
        "<td>0</td>\n",
        "<td>0</td></tr></table></div>"
       ],
       "metadata": {},
       "output_type": "display_data",
       "text": [
        "               Location.Description    FBI.Code       Beat           Primary.Type    Community.Area    District       Date              Ward           Domestic    IUCR           Day    Month    Year    WeekNum    WeekDay    HourOfDay    Weekend    Season\n",
        "-------------  ----------------------  -------------  -------------  --------------  ----------------  -------------  ----------------  -------------  ----------  -------------  -----  -------  ------  ---------  ---------  -----------  ---------  --------\n",
        "type           int                     int            int            string          string            int            int               int            enum        int            int    int      int     int        enum       int          int        enum\n",
        "mins           46.0                    11.0           422.0          NaN             NaN               4.0            1.423465239e+12   7.0            0.0         1150.0         8.0    3.0      3915.0  6.0        6.0        23.0         1.0        1.0\n",
        "maxs           63.0                    18.0           923.0          NaN             NaN               9.0            1.423467838e+12   14.0           0.0         1811.0         8.0    3.0      3915.0  6.0        6.0        23.0         1.0        1.0\n",
        "mean           54.5                    14.5           672.5          NaN             NaN               6.5            1.4234665385e+12  10.5           0.0         1480.5         8.0    3.0      3915.0  6.0        NaN        23.0         1.0        NaN\n",
        "sigma          12.0208152802           4.94974746831  354.260497374  NaN             NaN               3.53553390593  1837770.5243      4.94974746831  0.0         467.397582364  0.0    0.0      0.0     0.0        NaN        0.0          0.0        NaN\n",
        "zero_count     0                       0              0              0               0                 0              0                 0              2           0              0      0        0       0          0          0            0          0\n",
        "missing_count  0                       0              0              0               0                 0              0                 0              0           0              0      0        0       0          0          0            0          0"
       ]
      }
     ],
     "prompt_number": 14
    },
    {
     "cell_type": "code",
     "collapsed": false,
     "input": [
      "# Predict probability of arrest from new observations\n",
      "gbm_pred = data_gbm.predict(crime_examples)\n",
      "dl_pred  = data_dl .predict(crime_examples)\n",
      "\n",
      "# Make a pretty HTML table printout of the results\n",
      "header = [\"FBI Code\", \"GBM Arrest Prob\", \"DL Arrest Prob\"]\n",
      "table  = [\n",
      "           [examples[\"FBI.Code\"][0], gbm_pred[0,\"true\"], dl_pred[0,\"true\"]],\n",
      "           [examples[\"FBI.Code\"][1], gbm_pred[1,\"true\"], dl_pred[1,\"true\"]]\n",
      "         ]\n",
      "h2o.H2ODisplay(table, header)"
     ],
     "language": "python",
     "metadata": {},
     "outputs": [
      {
       "html": [
        "<div style=\"overflow:auto\"><table style=\"width:50%\"><tr><td>FBI Code</td>\n",
        "<td>GBM Arrest Prob</td>\n",
        "<td>DL Arrest Prob</td></tr>\n",
        "<tr><td>18</td>\n",
        "<td>0.113645062475</td>\n",
        "<td>0.00228440147384</td></tr>\n",
        "<tr><td>11</td>\n",
        "<td>0.113645062475</td>\n",
        "<td>0.00461659407729</td></tr></table></div>"
       ],
       "metadata": {},
       "output_type": "display_data",
       "text": [
        "  FBI Code    GBM Arrest Prob    DL Arrest Prob\n",
        "----------  -----------------  ----------------\n",
        "        18           0.113645        0.0022844\n",
        "        11           0.113645        0.00461659"
       ]
      },
      {
       "metadata": {},
       "output_type": "pyout",
       "prompt_number": 15,
       "text": []
      }
     ],
     "prompt_number": 15
    }
   ],
   "metadata": {}
  }
 ]
}
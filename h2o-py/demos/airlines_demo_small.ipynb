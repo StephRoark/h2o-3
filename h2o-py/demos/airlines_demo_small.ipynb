{
 "metadata": {
  "kernelspec": {
   "display_name": "Python 2",
   "language": "python",
   "name": "python2"
  },
  "language_info": {
   "codemirror_mode": {
    "name": "ipython",
    "version": 2
   },
   "file_extension": ".py",
   "mimetype": "text/x-python",
   "name": "python",
   "nbconvert_exporter": "python",
   "pygments_lexer": "ipython2",
   "version": "2.7.9"
  },
  "name": "",
  "signature": "sha256:c9d3ded8cc0014fd4b00c308606c7e6fbbdb36a53f556b9000dc7bcd6ad7eaae"
 },
 "nbformat": 3,
 "nbformat_minor": 0,
 "worksheets": [
  {
   "cells": [
    {
     "cell_type": "code",
     "collapsed": false,
     "input": [
      "import h2o\n",
      "import pandas\n",
      "import pprint\n",
      "import operator\n",
      "import matplotlib\n",
      "from tabulate import tabulate"
     ],
     "language": "python",
     "metadata": {},
     "outputs": [],
     "prompt_number": 2
    },
    {
     "cell_type": "code",
     "collapsed": false,
     "input": [
      "# Connect to a cluster\n",
      "h2o.init()"
     ],
     "language": "python",
     "metadata": {},
     "outputs": [
      {
       "html": [
        "<div style=\"overflow:auto\"><table style=\"width:50%\"><tr><td>H2O cluster uptime: </td>\n",
        "<td>1 minutes 48 seconds 26 milliseconds </td></tr>\n",
        "<tr><td>H2O cluster version: </td>\n",
        "<td>3.5.0.99999</td></tr>\n",
        "<tr><td>H2O cluster name: </td>\n",
        "<td>ece</td></tr>\n",
        "<tr><td>H2O cluster total nodes: </td>\n",
        "<td>1</td></tr>\n",
        "<tr><td>H2O cluster total memory: </td>\n",
        "<td>3.56 GB</td></tr>\n",
        "<tr><td>H2O cluster total cores: </td>\n",
        "<td>8</td></tr>\n",
        "<tr><td>H2O cluster allowed cores: </td>\n",
        "<td>8</td></tr>\n",
        "<tr><td>H2O cluster healthy: </td>\n",
        "<td>True</td></tr>\n",
        "<tr><td>H2O Connection ip: </td>\n",
        "<td>127.0.0.1</td></tr>\n",
        "<tr><td>H2O Connection port: </td>\n",
        "<td>54321</td></tr></table></div>"
       ],
       "metadata": {},
       "output_type": "display_data",
       "text": [
        "--------------------------  ------------------------------------\n",
        "H2O cluster uptime:         1 minutes 48 seconds 26 milliseconds\n",
        "H2O cluster version:        3.5.0.99999\n",
        "H2O cluster name:           ece\n",
        "H2O cluster total nodes:    1\n",
        "H2O cluster total memory:   3.56 GB\n",
        "H2O cluster total cores:    8\n",
        "H2O cluster allowed cores:  8\n",
        "H2O cluster healthy:        True\n",
        "H2O Connection ip:          127.0.0.1\n",
        "H2O Connection port:        54321\n",
        "--------------------------  ------------------------------------"
       ]
      }
     ],
     "prompt_number": 3
    },
    {
     "cell_type": "code",
     "collapsed": false,
     "input": [
      "# set this to True if interactive (matplotlib) plots are desired\n",
      "interactive = False\n",
      "if not interactive: matplotlib.use('Agg', warn=False)\n",
      "import matplotlib.pyplot as plt"
     ],
     "language": "python",
     "metadata": {},
     "outputs": [],
     "prompt_number": 4
    },
    {
     "cell_type": "code",
     "collapsed": false,
     "input": [
      "from h2o.h2o import _locate # private function. used to find files within h2o git project directory.\n",
      "# air_path = [_locate(\"bigdata/laptop/airlines_all.05p.csv\")]\n",
      "# air_path = [_locate(\"bigdata/laptop/flights-nyc/flights14.csv.zip\")]\n",
      "air_path = [_locate(\"smalldata/airlines/allyears2k_headers.zip\")]\n",
      "\n",
      "# ----------\n",
      "\n",
      "# 1- Load data - 1 row per flight.  Has columns showing the origin,\n",
      "# destination, departure and arrival time, carrier information, and\n",
      "# whether the flight was delayed.\n",
      "print \"Import and Parse airlines data\"\n",
      "data = h2o.import_file(path=air_path)\n",
      "data.describe()"
     ],
     "language": "python",
     "metadata": {},
     "outputs": [
      {
       "output_type": "stream",
       "stream": "stdout",
       "text": [
        "Import and Parse airlines data\n",
        "\n"
       ]
      },
      {
       "output_type": "stream",
       "stream": "stdout",
       "text": [
        "\r",
        "Parse Progress: [                                                  ] 00%"
       ]
      },
      {
       "output_type": "stream",
       "stream": "stdout",
       "text": [
        "\r",
        "Parse Progress: [#######                                           ] 15%"
       ]
      },
      {
       "output_type": "stream",
       "stream": "stdout",
       "text": [
        "\r",
        "Parse Progress: [###############                                   ] 30%"
       ]
      },
      {
       "output_type": "stream",
       "stream": "stdout",
       "text": [
        "\r",
        "Parse Progress: [##################################################] 100%"
       ]
      },
      {
       "output_type": "stream",
       "stream": "stdout",
       "text": [
        "\n",
        "\n",
        "Parsed 43,978 rows and 31 cols:\n",
        "\n"
       ]
      },
      {
       "html": [
        "<div style=\"overflow:auto\"><table style=\"width:50%\"><tr><td>File1</td>\n",
        "<td>/Users/ece/0xdata/h2o-dev/smalldata/airlines/allyears2k_headers.zip</td></tr></table></div>"
       ],
       "metadata": {},
       "output_type": "display_data",
       "text": [
        "-----  -------------------------------------------------------------------\n",
        "File1  /Users/ece/0xdata/h2o-dev/smalldata/airlines/allyears2k_headers.zip\n",
        "-----  -------------------------------------------------------------------"
       ]
      },
      {
       "output_type": "stream",
       "stream": "stdout",
       "text": [
        "Rows: 43,978 Cols: 31\n",
        "\n"
       ]
      },
      {
       "output_type": "stream",
       "stream": "stdout",
       "text": [
        "Chunk compression summary:\n"
       ]
      },
      {
       "html": [
        "<div style=\"overflow:auto\"><table style=\"width:50%\"><tr><td>chunk_type</td>\n",
        "<td>chunk_name</td>\n",
        "<td>count</td>\n",
        "<td>count_percentage</td>\n",
        "<td>size</td>\n",
        "<td>size_percentage</td></tr>\n",
        "<tr><td>C0L</td>\n",
        "<td>Constant Integers</td>\n",
        "<td>10</td>\n",
        "<td>5.376344</td>\n",
        "<td>    800  B</td>\n",
        "<td>0.05040237</td></tr>\n",
        "<tr><td>C0D</td>\n",
        "<td>Constant Reals</td>\n",
        "<td>23</td>\n",
        "<td>12.365591</td>\n",
        "<td>    1.8 KB</td>\n",
        "<td>0.115925446</td></tr>\n",
        "<tr><td>CBS</td>\n",
        "<td>Bits</td>\n",
        "<td>2</td>\n",
        "<td>1.0752689</td>\n",
        "<td>    2.0 KB</td>\n",
        "<td>0.12720299</td></tr>\n",
        "<tr><td>CX0</td>\n",
        "<td>Sparse Bits</td>\n",
        "<td>10</td>\n",
        "<td>5.376344</td>\n",
        "<td>    1.9 KB</td>\n",
        "<td>0.12474586</td></tr>\n",
        "<tr><td>C1</td>\n",
        "<td>1-Byte Integers</td>\n",
        "<td>40</td>\n",
        "<td>21.505377</td>\n",
        "<td>  287.8 KB</td>\n",
        "<td>18.564957</td></tr>\n",
        "<tr><td>C1N</td>\n",
        "<td>1-Byte Integers (w/o NAs)</td>\n",
        "<td>19</td>\n",
        "<td>10.215054</td>\n",
        "<td>  133.1 KB</td>\n",
        "<td>8.58617</td></tr>\n",
        "<tr><td>C1S</td>\n",
        "<td>1-Byte Fractions</td>\n",
        "<td>6</td>\n",
        "<td>3.2258065</td>\n",
        "<td>   43.4 KB</td>\n",
        "<td>2.8024976</td></tr>\n",
        "<tr><td>C2</td>\n",
        "<td>2-Byte Integers</td>\n",
        "<td>76</td>\n",
        "<td>40.860214</td>\n",
        "<td>    1.1 MB</td>\n",
        "<td>69.628105</td></tr></table></div>"
       ],
       "metadata": {},
       "output_type": "display_data",
       "text": [
        "chunk_type    chunk_name                 count    count_percentage    size      size_percentage\n",
        "------------  -------------------------  -------  ------------------  --------  -----------------\n",
        "C0L           Constant Integers          10       5.37634             800  B    0.0504024\n",
        "C0D           Constant Reals             23       12.3656             1.8 KB    0.115925\n",
        "CBS           Bits                       2        1.07527             2.0 KB    0.127203\n",
        "CX0           Sparse Bits                10       5.37634             1.9 KB    0.124746\n",
        "C1            1-Byte Integers            40       21.5054             287.8 KB  18.565\n",
        "C1N           1-Byte Integers (w/o NAs)  19       10.2151             133.1 KB  8.58617\n",
        "C1S           1-Byte Fractions           6        3.22581             43.4 KB   2.8025\n",
        "C2            2-Byte Integers            76       40.8602             1.1 MB    69.6281"
       ]
      },
      {
       "output_type": "stream",
       "stream": "stdout",
       "text": [
        "\n",
        "Frame distribution summary:\n"
       ]
      },
      {
       "html": [
        "<div style=\"overflow:auto\"><table style=\"width:50%\"><tr><td></td>\n",
        "<td>size</td>\n",
        "<td>number_of_rows</td>\n",
        "<td>number_of_chunks_per_column</td>\n",
        "<td>number_of_chunks</td></tr>\n",
        "<tr><td>10.0.0.24:54321</td>\n",
        "<td>    1.5 MB</td>\n",
        "<td>43978.0</td>\n",
        "<td>6.0</td>\n",
        "<td>186.0</td></tr>\n",
        "<tr><td>mean</td>\n",
        "<td>    1.5 MB</td>\n",
        "<td>43978.0</td>\n",
        "<td>6.0</td>\n",
        "<td>186.0</td></tr>\n",
        "<tr><td>min</td>\n",
        "<td>    1.5 MB</td>\n",
        "<td>43978.0</td>\n",
        "<td>6.0</td>\n",
        "<td>186.0</td></tr>\n",
        "<tr><td>max</td>\n",
        "<td>    1.5 MB</td>\n",
        "<td>43978.0</td>\n",
        "<td>6.0</td>\n",
        "<td>186.0</td></tr>\n",
        "<tr><td>stddev</td>\n",
        "<td>      0  B</td>\n",
        "<td>0.0</td>\n",
        "<td>0.0</td>\n",
        "<td>0.0</td></tr>\n",
        "<tr><td>total</td>\n",
        "<td>    1.5 MB</td>\n",
        "<td>43978.0</td>\n",
        "<td>6.0</td>\n",
        "<td>186.0</td></tr></table></div>"
       ],
       "metadata": {},
       "output_type": "display_data",
       "text": [
        "                 size    number_of_rows    number_of_chunks_per_column    number_of_chunks\n",
        "---------------  ------  ----------------  -----------------------------  ------------------\n",
        "10.0.0.24:54321  1.5 MB  43978             6                              186\n",
        "mean             1.5 MB  43978             6                              186\n",
        "min              1.5 MB  43978             6                              186\n",
        "max              1.5 MB  43978             6                              186\n",
        "stddev           0  B    0                 0                              0\n",
        "total            1.5 MB  43978             6                              186"
       ]
      },
      {
       "output_type": "stream",
       "stream": "stdout",
       "text": [
        "\n",
        "Column-by-Column Summary:\n",
        "\n"
       ]
      },
      {
       "html": [
        "<div style=\"overflow:auto\"><table style=\"width:50%\"><tr><td></td>\n",
        "<td>Year</td>\n",
        "<td>Month</td>\n",
        "<td>DayofMonth</td>\n",
        "<td>DayOfWeek</td>\n",
        "<td>DepTime</td>\n",
        "<td>CRSDepTime</td>\n",
        "<td>ArrTime</td>\n",
        "<td>CRSArrTime</td>\n",
        "<td>UniqueCarrier</td>\n",
        "<td>FlightNum</td>\n",
        "<td>TailNum</td>\n",
        "<td>ActualElapsedTime</td>\n",
        "<td>CRSElapsedTime</td>\n",
        "<td>AirTime</td>\n",
        "<td>ArrDelay</td>\n",
        "<td>DepDelay</td>\n",
        "<td>Origin</td>\n",
        "<td>Dest</td>\n",
        "<td>Distance</td>\n",
        "<td>TaxiIn</td>\n",
        "<td>TaxiOut</td>\n",
        "<td>Cancelled</td>\n",
        "<td>CancellationCode</td>\n",
        "<td>Diverted</td>\n",
        "<td>CarrierDelay</td>\n",
        "<td>WeatherDelay</td>\n",
        "<td>NASDelay</td>\n",
        "<td>SecurityDelay</td>\n",
        "<td>LateAircraftDelay</td>\n",
        "<td>IsArrDelayed</td>\n",
        "<td>IsDepDelayed</td></tr>\n",
        "<tr><td>type</td>\n",
        "<td>int</td>\n",
        "<td>int</td>\n",
        "<td>int</td>\n",
        "<td>int</td>\n",
        "<td>int</td>\n",
        "<td>int</td>\n",
        "<td>int</td>\n",
        "<td>int</td>\n",
        "<td>enum</td>\n",
        "<td>int</td>\n",
        "<td>enum</td>\n",
        "<td>int</td>\n",
        "<td>int</td>\n",
        "<td>int</td>\n",
        "<td>int</td>\n",
        "<td>int</td>\n",
        "<td>enum</td>\n",
        "<td>enum</td>\n",
        "<td>int</td>\n",
        "<td>int</td>\n",
        "<td>int</td>\n",
        "<td>int</td>\n",
        "<td>enum</td>\n",
        "<td>int</td>\n",
        "<td>int</td>\n",
        "<td>int</td>\n",
        "<td>int</td>\n",
        "<td>int</td>\n",
        "<td>int</td>\n",
        "<td>enum</td>\n",
        "<td>enum</td></tr>\n",
        "<tr><td>mins</td>\n",
        "<td>1987.0</td>\n",
        "<td>1.0</td>\n",
        "<td>1.0</td>\n",
        "<td>1.0</td>\n",
        "<td>1.0</td>\n",
        "<td>0.0</td>\n",
        "<td>1.0</td>\n",
        "<td>0.0</td>\n",
        "<td>0.0</td>\n",
        "<td>1.0</td>\n",
        "<td>0.0</td>\n",
        "<td>16.0</td>\n",
        "<td>17.0</td>\n",
        "<td>14.0</td>\n",
        "<td>-63.0</td>\n",
        "<td>-16.0</td>\n",
        "<td>0.0</td>\n",
        "<td>0.0</td>\n",
        "<td>11.0</td>\n",
        "<td>0.0</td>\n",
        "<td>0.0</td>\n",
        "<td>0.0</td>\n",
        "<td>0.0</td>\n",
        "<td>0.0</td>\n",
        "<td>0.0</td>\n",
        "<td>0.0</td>\n",
        "<td>0.0</td>\n",
        "<td>0.0</td>\n",
        "<td>0.0</td>\n",
        "<td>0.0</td>\n",
        "<td>0.0</td></tr>\n",
        "<tr><td>maxs</td>\n",
        "<td>2008.0</td>\n",
        "<td>10.0</td>\n",
        "<td>31.0</td>\n",
        "<td>7.0</td>\n",
        "<td>2400.0</td>\n",
        "<td>2359.0</td>\n",
        "<td>2400.0</td>\n",
        "<td>2359.0</td>\n",
        "<td>9.0</td>\n",
        "<td>3949.0</td>\n",
        "<td>3500.0</td>\n",
        "<td>475.0</td>\n",
        "<td>437.0</td>\n",
        "<td>402.0</td>\n",
        "<td>475.0</td>\n",
        "<td>473.0</td>\n",
        "<td>131.0</td>\n",
        "<td>133.0</td>\n",
        "<td>3365.0</td>\n",
        "<td>128.0</td>\n",
        "<td>254.0</td>\n",
        "<td>1.0</td>\n",
        "<td>3.0</td>\n",
        "<td>1.0</td>\n",
        "<td>369.0</td>\n",
        "<td>201.0</td>\n",
        "<td>323.0</td>\n",
        "<td>14.0</td>\n",
        "<td>373.0</td>\n",
        "<td>1.0</td>\n",
        "<td>1.0</td></tr>\n",
        "<tr><td>mean</td>\n",
        "<td>1997.5</td>\n",
        "<td>1.40909090909</td>\n",
        "<td>14.6010732639</td>\n",
        "<td>3.82061485288</td>\n",
        "<td>1345.84666138</td>\n",
        "<td>1313.22286143</td>\n",
        "<td>1504.63413038</td>\n",
        "<td>1485.28916731</td>\n",
        "<td>NaN</td>\n",
        "<td>818.842989677</td>\n",
        "<td>NaN</td>\n",
        "<td>124.814529135</td>\n",
        "<td>125.021562607</td>\n",
        "<td>114.316111091</td>\n",
        "<td>9.31711193698</td>\n",
        "<td>10.0073906556</td>\n",
        "<td>NaN</td>\n",
        "<td>NaN</td>\n",
        "<td>730.182190565</td>\n",
        "<td>5.38136805953</td>\n",
        "<td>14.1686341847</td>\n",
        "<td>0.0246941652645</td>\n",
        "<td>NaN</td>\n",
        "<td>0.00247851198326</td>\n",
        "<td>4.04780029106</td>\n",
        "<td>0.289376469271</td>\n",
        "<td>4.85503190418</td>\n",
        "<td>0.0170155602821</td>\n",
        "<td>7.62006045002</td>\n",
        "<td>0.555755150302</td>\n",
        "<td>0.525057983537</td></tr>\n",
        "<tr><td>sigma</td>\n",
        "<td>6.34436090171</td>\n",
        "<td>1.87471137134</td>\n",
        "<td>9.17579042586</td>\n",
        "<td>1.90501311913</td>\n",
        "<td>465.340899124</td>\n",
        "<td>476.251139993</td>\n",
        "<td>484.347487904</td>\n",
        "<td>492.750434123</td>\n",
        "<td>NaN</td>\n",
        "<td>777.404369164</td>\n",
        "<td>NaN</td>\n",
        "<td>73.9744416606</td>\n",
        "<td>73.40159463</td>\n",
        "<td>69.6363295151</td>\n",
        "<td>29.8402219624</td>\n",
        "<td>26.4388090429</td>\n",
        "<td>NaN</td>\n",
        "<td>NaN</td>\n",
        "<td>578.43800823</td>\n",
        "<td>4.20197993986</td>\n",
        "<td>9.9050857472</td>\n",
        "<td>0.155193141358</td>\n",
        "<td>NaN</td>\n",
        "<td>0.0497234872189</td>\n",
        "<td>16.2057299045</td>\n",
        "<td>4.41677989873</td>\n",
        "<td>18.6197762215</td>\n",
        "<td>0.403940182102</td>\n",
        "<td>23.4875658741</td>\n",
        "<td>0.496887288343</td>\n",
        "<td>0.499377380318</td></tr>\n",
        "<tr><td>zero_count</td>\n",
        "<td>0</td>\n",
        "<td>0</td>\n",
        "<td>0</td>\n",
        "<td>0</td>\n",
        "<td>0</td>\n",
        "<td>569</td>\n",
        "<td>0</td>\n",
        "<td>569</td>\n",
        "<td>724</td>\n",
        "<td>0</td>\n",
        "<td>2</td>\n",
        "<td>0</td>\n",
        "<td>0</td>\n",
        "<td>-8878</td>\n",
        "<td>1514</td>\n",
        "<td>6393</td>\n",
        "<td>59</td>\n",
        "<td>172</td>\n",
        "<td>0</td>\n",
        "<td>-8255</td>\n",
        "<td>-8321</td>\n",
        "<td>42892</td>\n",
        "<td>81</td>\n",
        "<td>43869</td>\n",
        "<td>-23296</td>\n",
        "<td>-21800</td>\n",
        "<td>-23252</td>\n",
        "<td>-21726</td>\n",
        "<td>-23500</td>\n",
        "<td>19537</td>\n",
        "<td>20887</td></tr>\n",
        "<tr><td>missing_count</td>\n",
        "<td>0</td>\n",
        "<td>0</td>\n",
        "<td>0</td>\n",
        "<td>0</td>\n",
        "<td>1086</td>\n",
        "<td>0</td>\n",
        "<td>1195</td>\n",
        "<td>0</td>\n",
        "<td>0</td>\n",
        "<td>0</td>\n",
        "<td>32</td>\n",
        "<td>1195</td>\n",
        "<td>13</td>\n",
        "<td>16649</td>\n",
        "<td>1195</td>\n",
        "<td>1086</td>\n",
        "<td>0</td>\n",
        "<td>0</td>\n",
        "<td>35</td>\n",
        "<td>16026</td>\n",
        "<td>16024</td>\n",
        "<td>0</td>\n",
        "<td>9774</td>\n",
        "<td>0</td>\n",
        "<td>35045</td>\n",
        "<td>35045</td>\n",
        "<td>35045</td>\n",
        "<td>35045</td>\n",
        "<td>35045</td>\n",
        "<td>0</td>\n",
        "<td>0</td></tr></table></div>"
       ],
       "metadata": {},
       "output_type": "display_data",
       "text": [
        "               Year           Month          DayofMonth     DayOfWeek      DepTime        CRSDepTime     ArrTime        CRSArrTime     UniqueCarrier    FlightNum      TailNum    ActualElapsedTime    CRSElapsedTime    AirTime        ArrDelay       DepDelay       Origin    Dest    Distance       TaxiIn         TaxiOut        Cancelled        CancellationCode    Diverted          CarrierDelay    WeatherDelay    NASDelay       SecurityDelay    LateAircraftDelay    IsArrDelayed    IsDepDelayed\n",
        "-------------  -------------  -------------  -------------  -------------  -------------  -------------  -------------  -------------  ---------------  -------------  ---------  -------------------  ----------------  -------------  -------------  -------------  --------  ------  -------------  -------------  -------------  ---------------  ------------------  ----------------  --------------  --------------  -------------  ---------------  -------------------  --------------  --------------\n",
        "type           int            int            int            int            int            int            int            int            enum             int            enum       int                  int               int            int            int            enum      enum    int            int            int            int              enum                int               int             int             int            int              int                  enum            enum\n",
        "mins           1987.0         1.0            1.0            1.0            1.0            0.0            1.0            0.0            0.0              1.0            0.0        16.0                 17.0              14.0           -63.0          -16.0          0.0       0.0     11.0           0.0            0.0            0.0              0.0                 0.0               0.0             0.0             0.0            0.0              0.0                  0.0             0.0\n",
        "maxs           2008.0         10.0           31.0           7.0            2400.0         2359.0         2400.0         2359.0         9.0              3949.0         3500.0     475.0                437.0             402.0          475.0          473.0          131.0     133.0   3365.0         128.0          254.0          1.0              3.0                 1.0               369.0           201.0           323.0          14.0             373.0                1.0             1.0\n",
        "mean           1997.5         1.40909090909  14.6010732639  3.82061485288  1345.84666138  1313.22286143  1504.63413038  1485.28916731  NaN              818.842989677  NaN        124.814529135        125.021562607     114.316111091  9.31711193698  10.0073906556  NaN       NaN     730.182190565  5.38136805953  14.1686341847  0.0246941652645  NaN                 0.00247851198326  4.04780029106   0.289376469271  4.85503190418  0.0170155602821  7.62006045002        0.555755150302  0.525057983537\n",
        "sigma          6.34436090171  1.87471137134  9.17579042586  1.90501311913  465.340899124  476.251139993  484.347487904  492.750434123  NaN              777.404369164  NaN        73.9744416606        73.40159463       69.6363295151  29.8402219624  26.4388090429  NaN       NaN     578.43800823   4.20197993986  9.9050857472   0.155193141358   NaN                 0.0497234872189   16.2057299045   4.41677989873   18.6197762215  0.403940182102   23.4875658741        0.496887288343  0.499377380318\n",
        "zero_count     0              0              0              0              0              569            0              569            724              0              2          0                    0                 -8878          1514           6393           59        172     0              -8255          -8321          42892            81                  43869             -23296          -21800          -23252         -21726           -23500               19537           20887\n",
        "missing_count  0              0              0              0              1086           0              1195           0              0                0              32         1195                 13                16649          1195           1086           0         0       35             16026          16024          0                9774                0                 35045           35045           35045          35045            35045                0               0"
       ]
      }
     ],
     "prompt_number": 5
    },
    {
     "cell_type": "code",
     "collapsed": false,
     "input": [
      "# ----------\n",
      "\n",
      "# 2- Data exploration and munging. Generate scatter plots \n",
      "# of various columns and plot fitted GLM model.\n",
      "\n",
      "# Function to fit a GLM model and plot the fitted (x,y) values\n",
      "def scatter_plot(data, x, y, max_points = 1000, fit = True):\n",
      "    if(fit):\n",
      "        lr = h2o.glm(x = data[[x]], y = data[y], family = \"gaussian\")\n",
      "        coeff = lr.coef()\n",
      "    df = data[[x,y]]\n",
      "    runif = df[y].runif()\n",
      "    df_subset = df[runif < float(max_points)/data.nrow]\n",
      "    df_py = h2o.as_list(df_subset)\n",
      "    \n",
      "    if(fit): h2o.remove(lr._id)\n",
      "\n",
      "    # If x variable is string, generate box-and-whisker plot\n",
      "    if(df_py[x].dtype == \"object\"):\n",
      "        if interactive: df_py.boxplot(column = y, by = x)\n",
      "    # Otherwise, generate a scatter plot\n",
      "    else:\n",
      "        if interactive: df_py.plot(x = x, y = y, kind = \"scatter\")\n",
      "    \n",
      "    if(fit):\n",
      "        x_min = min(df_py[x])\n",
      "        x_max = max(df_py[x])\n",
      "        y_min = coeff[\"Intercept\"] + coeff[x]*x_min\n",
      "        y_max = coeff[\"Intercept\"] + coeff[x]*x_max\n",
      "        plt.plot([x_min, x_max], [y_min, y_max], \"k-\")\n",
      "    if interactive: plt.show()\n",
      "\n",
      "scatter_plot(data, \"Distance\", \"AirTime\", fit = True)\n",
      "scatter_plot(data, \"UniqueCarrier\", \"ArrDelay\", max_points = 5000, fit = False)"
     ],
     "language": "python",
     "metadata": {},
     "outputs": [
      {
       "output_type": "stream",
       "stream": "stdout",
       "text": [
        "\n",
        "\r",
        "glm Model Build Progress: [                                                  ] 00%"
       ]
      },
      {
       "output_type": "stream",
       "stream": "stdout",
       "text": [
        "\r",
        "glm Model Build Progress: [                                                  ] 00%"
       ]
      },
      {
       "output_type": "stream",
       "stream": "stdout",
       "text": [
        "\r",
        "glm Model Build Progress: [##################################################] 100%"
       ]
      },
      {
       "output_type": "stream",
       "stream": "stdout",
       "text": [
        "\n"
       ]
      }
     ],
     "prompt_number": 6
    },
    {
     "cell_type": "code",
     "collapsed": false,
     "input": [
      "# Group flights by month\n",
      "grouped = data.group_by(\"Month\")\n",
      "bpd = grouped.count().sum(\"Cancelled\").frame\n",
      "bpd.show()\n",
      "bpd.describe()\n",
      "bpd.dim\n",
      "\n",
      "# Convert columns to factors\n",
      "data[\"Year\"]      = data[\"Year\"]     .asfactor()\n",
      "data[\"Month\"]     = data[\"Month\"]    .asfactor()\n",
      "data[\"DayOfWeek\"] = data[\"DayOfWeek\"].asfactor()\n",
      "data[\"Cancelled\"] = data[\"Cancelled\"].asfactor()"
     ],
     "language": "python",
     "metadata": {},
     "outputs": [
      {
       "output_type": "stream",
       "stream": "stdout",
       "text": [
        "H2OFrame with 2 rows and 3 columns: \n"
       ]
      },
      {
       "html": [
        "<div style=\"max-width:1500px;overflow:auto;\">\n",
        "<table border=\"1\" class=\"dataframe\">\n",
        "  <thead>\n",
        "    <tr style=\"text-align: right;\">\n",
        "      <th></th>\n",
        "      <th>Month</th>\n",
        "      <th>sum_Cancelled</th>\n",
        "      <th>nrow_Year</th>\n",
        "    </tr>\n",
        "  </thead>\n",
        "  <tbody>\n",
        "    <tr>\n",
        "      <th>0</th>\n",
        "      <td>10</td>\n",
        "      <td>19</td>\n",
        "      <td>1999</td>\n",
        "    </tr>\n",
        "    <tr>\n",
        "      <th>1</th>\n",
        "      <td>1</td>\n",
        "      <td>1067</td>\n",
        "      <td>41979</td>\n",
        "    </tr>\n",
        "  </tbody>\n",
        "</table>\n",
        "</div>"
       ],
       "metadata": {},
       "output_type": "display_data",
       "text": [
        "   Month  sum_Cancelled  nrow_Year\n",
        "0     10             19       1999\n",
        "1      1           1067      41979"
       ]
      },
      {
       "output_type": "stream",
       "stream": "stdout",
       "text": [
        "Rows: 2 Cols: 3\n",
        "\n",
        "Chunk compression summary:\n"
       ]
      },
      {
       "html": [
        "<div style=\"overflow:auto\"><table style=\"width:50%\"><tr><td>chunk_type</td>\n",
        "<td>chunk_name</td>\n",
        "<td>count</td>\n",
        "<td>count_percentage</td>\n",
        "<td>size</td>\n",
        "<td>size_percentage</td></tr>\n",
        "<tr><td>C1N</td>\n",
        "<td>1-Byte Integers (w/o NAs)</td>\n",
        "<td>1</td>\n",
        "<td>33.333336</td>\n",
        "<td>     70  B</td>\n",
        "<td>30.434782</td></tr>\n",
        "<tr><td>C2</td>\n",
        "<td>2-Byte Integers</td>\n",
        "<td>1</td>\n",
        "<td>33.333336</td>\n",
        "<td>     72  B</td>\n",
        "<td>31.304348</td></tr>\n",
        "<tr><td>C2S</td>\n",
        "<td>2-Byte Fractions</td>\n",
        "<td>1</td>\n",
        "<td>33.333336</td>\n",
        "<td>     88  B</td>\n",
        "<td>38.260868</td></tr></table></div>"
       ],
       "metadata": {},
       "output_type": "display_data",
       "text": [
        "chunk_type    chunk_name                 count    count_percentage    size    size_percentage\n",
        "------------  -------------------------  -------  ------------------  ------  -----------------\n",
        "C1N           1-Byte Integers (w/o NAs)  1        33.3333             70  B   30.4348\n",
        "C2            2-Byte Integers            1        33.3333             72  B   31.3043\n",
        "C2S           2-Byte Fractions           1        33.3333             88  B   38.2609"
       ]
      },
      {
       "output_type": "stream",
       "stream": "stdout",
       "text": [
        "\n",
        "Frame distribution summary:\n"
       ]
      },
      {
       "html": [
        "<div style=\"overflow:auto\"><table style=\"width:50%\"><tr><td></td>\n",
        "<td>size</td>\n",
        "<td>number_of_rows</td>\n",
        "<td>number_of_chunks_per_column</td>\n",
        "<td>number_of_chunks</td></tr>\n",
        "<tr><td>10.0.0.24:54321</td>\n",
        "<td>    230  B</td>\n",
        "<td>2.0</td>\n",
        "<td>1.0</td>\n",
        "<td>3.0</td></tr>\n",
        "<tr><td>mean</td>\n",
        "<td>    230  B</td>\n",
        "<td>2.0</td>\n",
        "<td>1.0</td>\n",
        "<td>3.0</td></tr>\n",
        "<tr><td>min</td>\n",
        "<td>    230  B</td>\n",
        "<td>2.0</td>\n",
        "<td>1.0</td>\n",
        "<td>3.0</td></tr>\n",
        "<tr><td>max</td>\n",
        "<td>    230  B</td>\n",
        "<td>2.0</td>\n",
        "<td>1.0</td>\n",
        "<td>3.0</td></tr>\n",
        "<tr><td>stddev</td>\n",
        "<td>      0  B</td>\n",
        "<td>0.0</td>\n",
        "<td>0.0</td>\n",
        "<td>0.0</td></tr>\n",
        "<tr><td>total</td>\n",
        "<td>    230  B</td>\n",
        "<td>2.0</td>\n",
        "<td>1.0</td>\n",
        "<td>3.0</td></tr></table></div>"
       ],
       "metadata": {},
       "output_type": "display_data",
       "text": [
        "                 size    number_of_rows    number_of_chunks_per_column    number_of_chunks\n",
        "---------------  ------  ----------------  -----------------------------  ------------------\n",
        "10.0.0.24:54321  230  B  2                 1                              3\n",
        "mean             230  B  2                 1                              3\n",
        "min              230  B  2                 1                              3\n",
        "max              230  B  2                 1                              3\n",
        "stddev           0  B    0                 0                              0\n",
        "total            230  B  2                 1                              3"
       ]
      },
      {
       "output_type": "stream",
       "stream": "stdout",
       "text": [
        "\n",
        "Column-by-Column Summary:\n",
        "\n"
       ]
      },
      {
       "html": [
        "<div style=\"overflow:auto\"><table style=\"width:50%\"><tr><td></td>\n",
        "<td>Month</td>\n",
        "<td>sum_Cancelled</td>\n",
        "<td>nrow_Year</td></tr>\n",
        "<tr><td>type</td>\n",
        "<td>int</td>\n",
        "<td>int</td>\n",
        "<td>int</td></tr>\n",
        "<tr><td>mins</td>\n",
        "<td>1.0</td>\n",
        "<td>19.0</td>\n",
        "<td>1999.0</td></tr>\n",
        "<tr><td>maxs</td>\n",
        "<td>10.0</td>\n",
        "<td>1067.0</td>\n",
        "<td>41979.0</td></tr>\n",
        "<tr><td>mean</td>\n",
        "<td>5.5</td>\n",
        "<td>543.0</td>\n",
        "<td>21989.0</td></tr>\n",
        "<tr><td>sigma</td>\n",
        "<td>6.36396103068</td>\n",
        "<td>741.047906684</td>\n",
        "<td>28270.1291118</td></tr>\n",
        "<tr><td>zero_count</td>\n",
        "<td>0</td>\n",
        "<td>0</td>\n",
        "<td>0</td></tr>\n",
        "<tr><td>missing_count</td>\n",
        "<td>0</td>\n",
        "<td>0</td>\n",
        "<td>0</td></tr></table></div>"
       ],
       "metadata": {},
       "output_type": "display_data",
       "text": [
        "               Month          sum_Cancelled    nrow_Year\n",
        "-------------  -------------  ---------------  -------------\n",
        "type           int            int              int\n",
        "mins           1.0            19.0             1999.0\n",
        "maxs           10.0           1067.0           41979.0\n",
        "mean           5.5            543.0            21989.0\n",
        "sigma          6.36396103068  741.047906684    28270.1291118\n",
        "zero_count     0              0                0\n",
        "missing_count  0              0                0"
       ]
      }
     ],
     "prompt_number": 7
    },
    {
     "cell_type": "code",
     "collapsed": false,
     "input": [
      "# Calculate and plot travel time\n",
      "hour1 = data[\"CRSArrTime\"] / 100\n",
      "mins1 = data[\"CRSArrTime\"] % 100\n",
      "arrTime = hour1*60 + mins1\n",
      "\n",
      "hour2 = data[\"CRSDepTime\"] / 100\n",
      "mins2 = data[\"CRSDepTime\"] % 100\n",
      "depTime = hour2*60 + mins2\n",
      "\n",
      "# TODO: Replace this once list comprehension is supported. See PUBDEV-1286.\n",
      "# data[\"TravelTime\"] = [x if x > 0 else None for x in (arrTime - depTime)]\n",
      "data[\"TravelTime\"] = h2o.ifelse((arrTime-depTime) > 0, (arrTime-depTime), h2o.H2OFrame(python_obj=[[None] for r in range(data.nrow)]))[0]\n",
      "scatter_plot(data, \"Distance\", \"TravelTime\")"
     ],
     "language": "python",
     "metadata": {},
     "outputs": [
      {
       "output_type": "stream",
       "stream": "stdout",
       "text": [
        "\n",
        "\r",
        "Parse Progress: [                                                  ] 00%"
       ]
      },
      {
       "output_type": "stream",
       "stream": "stdout",
       "text": [
        "\r",
        "Parse Progress: [##################################################] 100%"
       ]
      },
      {
       "output_type": "stream",
       "stream": "stdout",
       "text": [
        "\n",
        "Uploaded pyf0d32a3c-1375-46bb-bdeb-e30307592eb1 into cluster with 43,978 rows and 1 cols\n",
        "\n"
       ]
      },
      {
       "output_type": "stream",
       "stream": "stdout",
       "text": [
        "\r",
        "glm Model Build Progress: [                                                  ] 00%"
       ]
      },
      {
       "output_type": "stream",
       "stream": "stdout",
       "text": [
        "\r",
        "glm Model Build Progress: [##################################################] 100%"
       ]
      },
      {
       "output_type": "stream",
       "stream": "stdout",
       "text": [
        "\n"
       ]
      }
     ],
     "prompt_number": 8
    },
    {
     "cell_type": "code",
     "collapsed": false,
     "input": [
      "# Impute missing travel times and re-plot\n",
      "data.impute(column = \"Distance\", by = [\"Origin\", \"Dest\"])\n",
      "scatter_plot(data, \"Distance\", \"TravelTime\")"
     ],
     "language": "python",
     "metadata": {},
     "outputs": [
      {
       "output_type": "stream",
       "stream": "stdout",
       "text": [
        "\n",
        "\r",
        "glm Model Build Progress: [                                                  ] 00%"
       ]
      },
      {
       "output_type": "stream",
       "stream": "stdout",
       "text": [
        "\r",
        "glm Model Build Progress: [##################################################] 100%"
       ]
      },
      {
       "output_type": "stream",
       "stream": "stdout",
       "text": [
        "\n"
       ]
      }
     ],
     "prompt_number": 9
    },
    {
     "cell_type": "code",
     "collapsed": false,
     "input": [
      "# ----------\n",
      "# 3- Fit a model on train; using test as validation\n",
      "\n",
      "# Create test/train split\n",
      "s = data[\"Year\"].runif()\n",
      "train = data[s <= 0.75]\n",
      "test  = data[s > 0.75]\n",
      "\n",
      "# Set predictor and response variables\n",
      "myY = \"IsDepDelayed\"\n",
      "myX = [\"Origin\", \"Dest\", \"Year\", \"UniqueCarrier\", \"DayOfWeek\", \"Month\", \"Distance\", \"FlightNum\"]\n",
      "\n",
      "# Simple GLM - Predict Delays\n",
      "data_glm = h2o.glm(x           =train[myX],\n",
      "                   y           =train[myY],\n",
      "                   validation_x=test [myX],\n",
      "                   validation_y=test [myY],\n",
      "                   family      =\"binomial\",\n",
      "                   standardize =True)\n",
      "\n",
      "# Simple GBM\n",
      "data_gbm = h2o.gbm(x              =train[myX],\n",
      "                   y              =train[myY],\n",
      "                   validation_x   =test [myX],\n",
      "                   validation_y   =test [myY],\n",
      "                   balance_classes=True,\n",
      "                   ntrees         =3,\n",
      "                   max_depth      =1,\n",
      "                   distribution   =\"bernoulli\",\n",
      "                   learn_rate     =0.1,\n",
      "                   min_rows       =2)\n",
      "\n",
      "# Complex GBM\n",
      "data_gbm2 = h2o.gbm(x              =train[myX],\n",
      "                    y              =train[myY],\n",
      "                    validation_x   =test [myX],\n",
      "                    validation_y   =test [myY],\n",
      "                    balance_classes=True,\n",
      "                    ntrees         =50,\n",
      "                    max_depth      =5,\n",
      "                    distribution   =\"bernoulli\",\n",
      "                    learn_rate     =0.1,\n",
      "                    min_rows       =2)\n",
      "\n",
      "# Simple Random Forest\n",
      "data_rf = h2o.random_forest(x              =train[myX],\n",
      "                            y              =train[myY],\n",
      "                            validation_x   =test [myX],\n",
      "                            validation_y   =test [myY],\n",
      "                            ntrees         =5,\n",
      "                            max_depth      =2,\n",
      "                            balance_classes=True)\n",
      "\n",
      "# Complex Random Forest\n",
      "data_rf2 = h2o.random_forest(x              =train[myX], \n",
      "                             y              =train[myY],\n",
      "                             validation_x   =test [myX],\n",
      "                             validation_y   =test [myY],\n",
      "                             ntrees         =10,\n",
      "                             max_depth      =5,\n",
      "                             balance_classes=True)\n",
      "\n",
      "# Deep Learning with 5 epochs\n",
      "data_dl = h2o.deeplearning(x                   =train[myX],\n",
      "                           y                   =train[myY],\n",
      "                           validation_x        =test [myX],\n",
      "                           validation_y        =test [myY],\n",
      "                           hidden              =[10,10],\n",
      "                           epochs              =5,\n",
      "                           variable_importances=True,\n",
      "                           balance_classes     =True,\n",
      "                           loss                =\"Automatic\")"
     ],
     "language": "python",
     "metadata": {},
     "outputs": [
      {
       "output_type": "stream",
       "stream": "stdout",
       "text": [
        "\n",
        "\r",
        "glm Model Build Progress: [                                                  ] 00%"
       ]
      },
      {
       "output_type": "stream",
       "stream": "stdout",
       "text": [
        "\r",
        "glm Model Build Progress: [                                                  ] 00%"
       ]
      },
      {
       "output_type": "stream",
       "stream": "stdout",
       "text": [
        "\r",
        "glm Model Build Progress: [##                                                ] 04%"
       ]
      },
      {
       "output_type": "stream",
       "stream": "stdout",
       "text": [
        "\r",
        "glm Model Build Progress: [##################################################] 100%"
       ]
      },
      {
       "output_type": "stream",
       "stream": "stdout",
       "text": [
        "\n",
        "\n"
       ]
      },
      {
       "output_type": "stream",
       "stream": "stdout",
       "text": [
        "\r",
        "gbm Model Build Progress: [                                                  ] 00%"
       ]
      },
      {
       "output_type": "stream",
       "stream": "stdout",
       "text": [
        "\r",
        "gbm Model Build Progress: [                                                  ] 00%"
       ]
      },
      {
       "output_type": "stream",
       "stream": "stdout",
       "text": [
        "\r",
        "gbm Model Build Progress: [################                                  ] 33%"
       ]
      },
      {
       "output_type": "stream",
       "stream": "stdout",
       "text": [
        "\r",
        "gbm Model Build Progress: [##################################################] 100%"
       ]
      },
      {
       "output_type": "stream",
       "stream": "stdout",
       "text": [
        "\n",
        "\n"
       ]
      },
      {
       "output_type": "stream",
       "stream": "stdout",
       "text": [
        "\r",
        "gbm Model Build Progress: [                                                  ] 00%"
       ]
      },
      {
       "output_type": "stream",
       "stream": "stdout",
       "text": [
        "\r",
        "gbm Model Build Progress: [                                                  ] 00%"
       ]
      },
      {
       "output_type": "stream",
       "stream": "stdout",
       "text": [
        "\r",
        "gbm Model Build Progress: [##                                                ] 04%"
       ]
      },
      {
       "output_type": "stream",
       "stream": "stdout",
       "text": [
        "\r",
        "gbm Model Build Progress: [##########                                        ] 20%"
       ]
      },
      {
       "output_type": "stream",
       "stream": "stdout",
       "text": [
        "\r",
        "gbm Model Build Progress: [##################                                ] 36%"
       ]
      },
      {
       "output_type": "stream",
       "stream": "stdout",
       "text": [
        "\r",
        "gbm Model Build Progress: [##########################                        ] 52%"
       ]
      },
      {
       "output_type": "stream",
       "stream": "stdout",
       "text": [
        "\r",
        "gbm Model Build Progress: [##################################                ] 68%"
       ]
      },
      {
       "output_type": "stream",
       "stream": "stdout",
       "text": [
        "\r",
        "gbm Model Build Progress: [##########################################        ] 84%"
       ]
      },
      {
       "output_type": "stream",
       "stream": "stdout",
       "text": [
        "\r",
        "gbm Model Build Progress: [##################################################] 100%"
       ]
      },
      {
       "output_type": "stream",
       "stream": "stdout",
       "text": [
        "\n",
        "\n"
       ]
      },
      {
       "output_type": "stream",
       "stream": "stdout",
       "text": [
        "\r",
        "drf Model Build Progress: [                                                  ] 00%"
       ]
      },
      {
       "output_type": "stream",
       "stream": "stdout",
       "text": [
        "\r",
        "drf Model Build Progress: [##########                                        ] 20%"
       ]
      },
      {
       "output_type": "stream",
       "stream": "stdout",
       "text": [
        "\r",
        "drf Model Build Progress: [##################################################] 100%"
       ]
      },
      {
       "output_type": "stream",
       "stream": "stdout",
       "text": [
        "\n",
        "\n"
       ]
      },
      {
       "output_type": "stream",
       "stream": "stdout",
       "text": [
        "\r",
        "drf Model Build Progress: [                                                  ] 00%"
       ]
      },
      {
       "output_type": "stream",
       "stream": "stdout",
       "text": [
        "\r",
        "drf Model Build Progress: [###############                                   ] 30%"
       ]
      },
      {
       "output_type": "stream",
       "stream": "stdout",
       "text": [
        "\r",
        "drf Model Build Progress: [########################################          ] 80%"
       ]
      },
      {
       "output_type": "stream",
       "stream": "stdout",
       "text": [
        "\r",
        "drf Model Build Progress: [##################################################] 100%"
       ]
      },
      {
       "output_type": "stream",
       "stream": "stdout",
       "text": [
        "\n",
        "\n"
       ]
      },
      {
       "output_type": "stream",
       "stream": "stdout",
       "text": [
        "\r",
        "deeplearning Model Build Progress: [                                                  ] 00%"
       ]
      },
      {
       "output_type": "stream",
       "stream": "stdout",
       "text": [
        "\r",
        "deeplearning Model Build Progress: [                                                  ] 00%"
       ]
      },
      {
       "output_type": "stream",
       "stream": "stdout",
       "text": [
        "\r",
        "deeplearning Model Build Progress: [                                                  ] 00%"
       ]
      },
      {
       "output_type": "stream",
       "stream": "stdout",
       "text": [
        "\r",
        "deeplearning Model Build Progress: [#####                                             ] 10%"
       ]
      },
      {
       "output_type": "stream",
       "stream": "stdout",
       "text": [
        "\r",
        "deeplearning Model Build Progress: [##################################################] 100%"
       ]
      },
      {
       "output_type": "stream",
       "stream": "stdout",
       "text": [
        "\n"
       ]
      }
     ],
     "prompt_number": 10
    },
    {
     "cell_type": "code",
     "collapsed": false,
     "input": [
      "# Variable importances from each algorithm\n",
      "# Calculate magnitude of normalized GLM coefficients\n",
      "glm_varimp = data_glm.coef_norm()\n",
      "for k,v in glm_varimp.iteritems():\n",
      "    glm_varimp[k] = abs(glm_varimp[k])\n",
      "    \n",
      "# Sort in descending order by magnitude\n",
      "glm_sorted = sorted(glm_varimp.items(), key = operator.itemgetter(1), reverse = True)\n",
      "table = tabulate(glm_sorted, headers = [\"Predictor\", \"Normalized Coefficient\"], tablefmt = \"orgtbl\")\n",
      "print \"Variable Importances:\\n\\n\" + table\n",
      "\n",
      "data_gbm.varimp()\n",
      "data_rf.varimp()"
     ],
     "language": "python",
     "metadata": {
      "scrolled": true
     },
     "outputs": [
      {
       "output_type": "stream",
       "stream": "stdout",
       "text": [
        "Variable Importances:\n",
        "\n",
        "| Predictor        |   Normalized Coefficient |\n",
        "|------------------+--------------------------|\n",
        "| Year.2008        |               2.27303    |\n",
        "| Origin.HPN       |               1.84215    |\n",
        "| Origin.MDW       |               1.68805    |\n",
        "| Year.2003        |               1.54157    |\n",
        "| Dest.LYH         |               1.48624    |\n",
        "| Year.2007        |               1.45507    |\n",
        "| Origin.LIH       |               1.39752    |\n",
        "| UniqueCarrier.HP |               1.17729    |\n",
        "| Dest.HTS         |               1.17434    |\n",
        "| UniqueCarrier.TW |               1.16337    |\n",
        "| Origin.HNL       |               1.13928    |\n",
        "| Origin.CHO       |               1.09404    |\n",
        "| Year.2001        |               1.0751     |\n",
        "| Origin.CRP       |               1.06815    |\n",
        "| Origin.LEX       |               1.05819    |\n",
        "| Origin.TLH       |               1.04609    |\n",
        "| Year.2002        |               1.03472    |\n",
        "| Origin.MRY       |               1.03312    |\n",
        "| Origin.ATL       |               0.964516   |\n",
        "| Origin.LBB       |               0.924606   |\n",
        "| Origin.SAV       |               0.924074   |\n",
        "| Origin.MYR       |               0.917623   |\n",
        "| Year.2006        |               0.903002   |\n",
        "| Dest.CHO         |               0.861586   |\n",
        "| Origin.LYH       |               0.861586   |\n",
        "| Origin.BTV       |               0.856098   |\n",
        "| Origin.OGG       |               0.838354   |\n",
        "| Year.2004        |               0.825728   |\n",
        "| Origin.ORD       |               0.822116   |\n",
        "| Origin.PBI       |               0.813204   |\n",
        "| Origin.ERI       |               0.791175   |\n",
        "| Origin.STL       |               0.774047   |\n",
        "| Origin.JAX       |               0.760922   |\n",
        "| Origin.CAE       |               0.754332   |\n",
        "| Origin.PSP       |               0.748012   |\n",
        "| Origin.MLB       |               0.746927   |\n",
        "| Origin.IAH       |               0.739643   |\n",
        "| Origin.TUL       |               0.737628   |\n",
        "| Dest.OAJ         |               0.732495   |\n",
        "| Origin.OMA       |               0.721397   |\n",
        "| Year.1994        |               0.716236   |\n",
        "| Origin.ELP       |               0.711852   |\n",
        "| Origin.CMH       |               0.706425   |\n",
        "| Dest.ISP         |               0.697029   |\n",
        "| Dest.DAY         |               0.695901   |\n",
        "| Dest.LIH         |               0.658274   |\n",
        "| Origin.MIA       |               0.650255   |\n",
        "| Dest.FLL         |               0.647266   |\n",
        "| Dest.PSP         |               0.644029   |\n",
        "| Dest.FAY         |               0.638358   |\n",
        "| Origin.FLL       |               0.634635   |\n",
        "| Dest.KOA         |               0.621138   |\n",
        "| Origin.SRQ       |               0.605631   |\n",
        "| Origin.EGE       |               0.598845   |\n",
        "| Dest.IAH         |               0.583716   |\n",
        "| Year.1996        |               0.58132    |\n",
        "| Origin.PIT       |               0.575036   |\n",
        "| Origin.MAF       |               0.57235    |\n",
        "| Origin.MSY       |               0.571793   |\n",
        "| Origin.MCO       |               0.566613   |\n",
        "| Origin.TYS       |               0.559455   |\n",
        "| Dest.ICT         |               0.557224   |\n",
        "| Origin.SYR       |               0.554063   |\n",
        "| Dest.PBI         |               0.54852    |\n",
        "| Origin.LAX       |               0.539237   |\n",
        "| Dest.CAE         |               0.52657    |\n",
        "| Origin.AUS       |               0.521412   |\n",
        "| Origin.RNO       |               0.514039   |\n",
        "| Origin.GSO       |               0.509524   |\n",
        "| Origin.ALB       |               0.503548   |\n",
        "| Origin.BOI       |               0.503534   |\n",
        "| Year.1997        |               0.502624   |\n",
        "| Dest.BHM         |               0.498172   |\n",
        "| UniqueCarrier.WN |               0.497922   |\n",
        "| Dest.PNS         |               0.488923   |\n",
        "| Origin.GRR       |               0.487122   |\n",
        "| Dest.IND         |               0.482582   |\n",
        "| Dest.TPA         |               0.472877   |\n",
        "| Origin.DFW       |               0.471554   |\n",
        "| Year.1990        |               0.468708   |\n",
        "| Origin.PWM       |               0.459956   |\n",
        "| UniqueCarrier.PI |               0.457526   |\n",
        "| Dest.SFO         |               0.456667   |\n",
        "| Dest.GSO         |               0.453236   |\n",
        "| Dest.CAK         |               0.452089   |\n",
        "| Dest.CLE         |               0.448936   |\n",
        "| Dest.CHS         |               0.448358   |\n",
        "| Origin.TRI       |               0.446242   |\n",
        "| UniqueCarrier.CO |               0.44171    |\n",
        "| Origin.PHL       |               0.440686   |\n",
        "| Origin.LGA       |               0.434929   |\n",
        "| Origin.OKC       |               0.432789   |\n",
        "| Origin.MEM       |               0.428053   |\n",
        "| Dest.TOL         |               0.425675   |\n",
        "| Year.2005        |               0.425225   |\n",
        "| Origin.MDT       |               0.421471   |\n",
        "| Dest.LBB         |               0.420466   |\n",
        "| UniqueCarrier.US |               0.408442   |\n",
        "| Dest.OGG         |               0.390366   |\n",
        "| Origin.PHF       |               0.389791   |\n",
        "| Origin.STX       |               0.38837    |\n",
        "| Origin.IND       |               0.383327   |\n",
        "| Origin.CRW       |               0.382015   |\n",
        "| Dest.MCO         |               0.378362   |\n",
        "| Dest.ALB         |               0.377928   |\n",
        "| Origin.BDL       |               0.372235   |\n",
        "| Origin.SDF       |               0.350221   |\n",
        "| Year.1991        |               0.346886   |\n",
        "| Origin.ROC       |               0.344576   |\n",
        "| Origin.MCI       |               0.342834   |\n",
        "| Year.1992        |               0.338606   |\n",
        "| Origin.OAK       |               0.337943   |\n",
        "| Origin.BOS       |               0.336956   |\n",
        "| Origin.ABE       |               0.327943   |\n",
        "| Origin.ICT       |               0.323756   |\n",
        "| Dest.MAF         |               0.323525   |\n",
        "| Dest.BUF         |               0.321716   |\n",
        "| Origin.TUS       |               0.320472   |\n",
        "| Dest.GEG         |               0.313733   |\n",
        "| Dest.SEA         |               0.308349   |\n",
        "| Dest.JAX         |               0.305709   |\n",
        "| Origin.IAD       |               0.291929   |\n",
        "| Origin.HRL       |               0.281889   |\n",
        "| Origin.BWI       |               0.281653   |\n",
        "| Dest.MIA         |               0.276701   |\n",
        "| Dest.OAK         |               0.275499   |\n",
        "| Dest.BUR         |               0.272312   |\n",
        "| Origin.EYW       |               0.272169   |\n",
        "| Origin.MKE       |               0.270848   |\n",
        "| Origin.DAY       |               0.270588   |\n",
        "| Dest.STT         |               0.269064   |\n",
        "| Dest.ABQ         |               0.268002   |\n",
        "| Month.10         |               0.267489   |\n",
        "| Year.1987        |               0.267489   |\n",
        "| Origin.DEN       |               0.267209   |\n",
        "| Dest.STL         |               0.266822   |\n",
        "| Year.1995        |               0.257645   |\n",
        "| Dest.UCA         |               0.255953   |\n",
        "| Origin.CLT       |               0.253212   |\n",
        "| Origin.SAN       |               0.2519     |\n",
        "| DayOfWeek.5      |               0.248522   |\n",
        "| Origin.SMF       |               0.247552   |\n",
        "| Origin.MFR       |               0.243724   |\n",
        "| Dest.PWM         |               0.238364   |\n",
        "| Dest.SAT         |               0.237858   |\n",
        "| Origin.DSM       |               0.237593   |\n",
        "| Origin.CLE       |               0.237333   |\n",
        "| Origin.BHM       |               0.236252   |\n",
        "| Origin.BUF       |               0.234863   |\n",
        "| Dest.CMH         |               0.231612   |\n",
        "| Dest.MHT         |               0.231317   |\n",
        "| Dest.SNA         |               0.230336   |\n",
        "| Year.1999        |               0.228392   |\n",
        "| Dest.MSP         |               0.228279   |\n",
        "| Dest.HPN         |               0.226201   |\n",
        "| Dest.IAD         |               0.225724   |\n",
        "| Dest.ROC         |               0.225586   |\n",
        "| Dest.BDL         |               0.224208   |\n",
        "| Dest.DAL         |               0.222579   |\n",
        "| Origin.BUR       |               0.220985   |\n",
        "| Dest.OKC         |               0.216798   |\n",
        "| Dest.SDF         |               0.215968   |\n",
        "| Origin.CHS       |               0.214234   |\n",
        "| Dest.TUL         |               0.21112    |\n",
        "| Origin.ROA       |               0.210343   |\n",
        "| Dest.LAX         |               0.206888   |\n",
        "| Dest.FNT         |               0.206069   |\n",
        "| Dest.FAT         |               0.201842   |\n",
        "| Dest.MKE         |               0.190676   |\n",
        "| Dest.SMF         |               0.189795   |\n",
        "| Dest.SLC         |               0.186772   |\n",
        "| Dest.ORF         |               0.182857   |\n",
        "| Dest.BTV         |               0.180533   |\n",
        "| DayOfWeek.6      |               0.177906   |\n",
        "| Origin.GEG       |               0.177753   |\n",
        "| Origin.TPA       |               0.173637   |\n",
        "| Dest.PVD         |               0.172031   |\n",
        "| Dest.PDX         |               0.171002   |\n",
        "| DayOfWeek.2      |               0.170626   |\n",
        "| Dest.LAS         |               0.16865    |\n",
        "| Dest.GRR         |               0.168363   |\n",
        "| Dest.CRP         |               0.167742   |\n",
        "| Dest.SAN         |               0.167685   |\n",
        "| Origin.JFK       |               0.164529   |\n",
        "| UniqueCarrier.AA |               0.163194   |\n",
        "| Dest.SWF         |               0.16196    |\n",
        "| Dest.CLT         |               0.161741   |\n",
        "| Distance         |               0.158621   |\n",
        "| Origin.ACY       |               0.153687   |\n",
        "| Origin.CVG       |               0.153603   |\n",
        "| Origin.ONT       |               0.151541   |\n",
        "| Origin.BGM       |               0.150124   |\n",
        "| Origin.ISP       |               0.142946   |\n",
        "| Origin.COS       |               0.140117   |\n",
        "| Origin.JAN       |               0.139981   |\n",
        "| Year.2000        |               0.138692   |\n",
        "| Origin.SLC       |               0.134234   |\n",
        "| Month.1          |               0.133607   |\n",
        "| Origin.SJU       |               0.132975   |\n",
        "| Dest.RSW         |               0.130314   |\n",
        "| Origin.EWR       |               0.129902   |\n",
        "| Origin.SFO       |               0.128856   |\n",
        "| DayOfWeek.4      |               0.125531   |\n",
        "| Dest.PHX         |               0.123113   |\n",
        "| Dest.MDW         |               0.121856   |\n",
        "| Dest.SBN         |               0.117223   |\n",
        "| Dest.PHL         |               0.115132   |\n",
        "| Dest.BNA         |               0.114969   |\n",
        "| Origin.MHT       |               0.114864   |\n",
        "| Origin.SJC       |               0.112726   |\n",
        "| UniqueCarrier.UA |               0.108      |\n",
        "| Origin.PVD       |               0.105506   |\n",
        "| Dest.SJC         |               0.103874   |\n",
        "| Origin.DAL       |               0.103711   |\n",
        "| UniqueCarrier.DL |               0.103033   |\n",
        "| Dest.DFW         |               0.102785   |\n",
        "| Dest.HNL         |               0.0999807  |\n",
        "| Dest.BWI         |               0.0989236  |\n",
        "| Origin.DCA       |               0.0983886  |\n",
        "| Dest.MCI         |               0.0982049  |\n",
        "| Dest.DTW         |               0.0936784  |\n",
        "| Origin.LAN       |               0.0930779  |\n",
        "| Origin.RDU       |               0.09238    |\n",
        "| Dest.BOS         |               0.0890562  |\n",
        "| Origin.ORF       |               0.0873483  |\n",
        "| Origin.PHX       |               0.0825334  |\n",
        "| Dest.AVP         |               0.0821631  |\n",
        "| Dest.EYW         |               0.0812225  |\n",
        "| Origin.PDX       |               0.0789342  |\n",
        "| Dest.OMA         |               0.076895   |\n",
        "| Dest.CVG         |               0.0767606  |\n",
        "| Dest.ATL         |               0.0734817  |\n",
        "| Origin.SBN       |               0.0716625  |\n",
        "| Origin.SEA       |               0.071505   |\n",
        "| Dest.SYR         |               0.0658655  |\n",
        "| Year.1989        |               0.060455   |\n",
        "| Dest.ORD         |               0.0569392  |\n",
        "| Origin.BNA       |               0.0561778  |\n",
        "| Year.1993        |               0.0520074  |\n",
        "| Dest.EWR         |               0.0519821  |\n",
        "| Year.1998        |               0.0499919  |\n",
        "| Dest.GSP         |               0.0463846  |\n",
        "| DayOfWeek.7      |               0.0462232  |\n",
        "| Dest.COS         |               0.0451968  |\n",
        "| Dest.ABE         |               0.0393925  |\n",
        "| Origin.LAS       |               0.0393662  |\n",
        "| Intercept        |               0.0363075  |\n",
        "| Dest.ONT         |               0.0359848  |\n",
        "| Year.1988        |               0.0310257  |\n",
        "| Origin.RSW       |               0.0303177  |\n",
        "| FlightNum        |               0.0269493  |\n",
        "| Origin.AMA       |               0.0247887  |\n",
        "| Dest.DCA         |               0.0222587  |\n",
        "| Dest.MSY         |               0.020414   |\n",
        "| Origin.KOA       |               0.0203707  |\n",
        "| Dest.RDU         |               0.0202591  |\n",
        "| Dest.JFK         |               0.0186385  |\n",
        "| Dest.AUS         |               0.0185827  |\n",
        "| Origin.RIC       |               0.0179973  |\n",
        "| Dest.ILM         |               0.0170692  |\n",
        "| DayOfWeek.3      |               0.0151937  |\n",
        "| Dest.AVL         |               0.0150509  |\n",
        "| Dest.PIT         |               0.0133032  |\n",
        "| Origin.ABQ       |               0.0124889  |\n",
        "| Origin.SNA       |               0.00325147 |\n",
        "| Dest.BOI         |               0.00230797 |\n",
        "| UniqueCarrier.PS |               0.00186346 |\n",
        "| Origin.MSP       |               0.00171329 |\n",
        "| Dest.LGA         |               0.00118201 |\n",
        "| Dest.LIT         |               0          |\n",
        "| Dest.ORH         |               0          |\n",
        "| Dest.RNO         |               0          |\n",
        "| Origin.ANC       |               0          |\n",
        "| Dest.SRQ         |               0          |\n",
        "| Dest.MRY         |               0          |\n",
        "| Dest.SJU         |               0          |\n",
        "| Origin.AVP       |               0          |\n",
        "| Origin.SAT       |               0          |\n",
        "| Dest.DSM         |               0          |\n",
        "| Origin.SCK       |               0          |\n",
        "| Origin.LIT       |               0          |\n",
        "| Origin.UCA       |               0          |\n",
        "| Origin.HOU       |               0          |\n",
        "| Dest.ERI         |               0          |\n",
        "| Dest.ACY         |               0          |\n",
        "| Origin.DTW       |               0          |\n",
        "| Dest.JAN         |               0          |\n",
        "| Dest.TUS         |               0          |\n",
        "| Origin.STT       |               0          |\n",
        "| Dest.ELP         |               0          |\n",
        "| Dest.ELM         |               0          |\n",
        "| Dest.CHA         |               0          |\n",
        "| Dest.MDT         |               0          |\n",
        "| Origin.GNV       |               0          |\n",
        "| Dest.AMA         |               0          |\n",
        "| Dest.HOU         |               0          |\n",
        "| Dest.BGM         |               0          |\n",
        "| Dest.LEX         |               0          |\n",
        "| Dest.RIC         |               0          |\n",
        "| Dest.ROA         |               0          |\n",
        "| Dest.PHF         |               0          |\n",
        "| Dest.ANC         |               0          |\n",
        "| Dest.HRL         |               0          |\n",
        "| DayOfWeek.1      |               0          |\n",
        "| Dest.DEN         |               0          |\n",
        "| Origin.SWF       |               0          |\n",
        "| Dest.EUG         |               0          |\n",
        "| Dest.MYR         |               0          |\n",
        "| Dest.SCK         |               0          |\n",
        "| Origin.BIL       |               0          |\n",
        "\n",
        "Variable Importances:\n"
       ]
      },
      {
       "html": [
        "<div style=\"overflow:auto\"><table style=\"width:50%\"><tr><td>variable</td>\n",
        "<td>relative_importance</td>\n",
        "<td>scaled_importance</td>\n",
        "<td>percentage</td></tr>\n",
        "<tr><td>Year</td>\n",
        "<td>1190.35620117</td>\n",
        "<td>1.0</td>\n",
        "<td>1.0</td></tr>\n",
        "<tr><td>Origin</td>\n",
        "<td>0.0</td>\n",
        "<td>0.0</td>\n",
        "<td>0.0</td></tr>\n",
        "<tr><td>Dest</td>\n",
        "<td>0.0</td>\n",
        "<td>0.0</td>\n",
        "<td>0.0</td></tr>\n",
        "<tr><td>UniqueCarrier</td>\n",
        "<td>0.0</td>\n",
        "<td>0.0</td>\n",
        "<td>0.0</td></tr>\n",
        "<tr><td>DayOfWeek</td>\n",
        "<td>0.0</td>\n",
        "<td>0.0</td>\n",
        "<td>0.0</td></tr>\n",
        "<tr><td>Month</td>\n",
        "<td>0.0</td>\n",
        "<td>0.0</td>\n",
        "<td>0.0</td></tr>\n",
        "<tr><td>Distance</td>\n",
        "<td>0.0</td>\n",
        "<td>0.0</td>\n",
        "<td>0.0</td></tr>\n",
        "<tr><td>FlightNum</td>\n",
        "<td>0.0</td>\n",
        "<td>0.0</td>\n",
        "<td>0.0</td></tr></table></div>"
       ],
       "metadata": {},
       "output_type": "display_data",
       "text": [
        "variable       relative_importance    scaled_importance    percentage\n",
        "-------------  ---------------------  -------------------  ------------\n",
        "Year           1190.36                1                    1\n",
        "Origin         0                      0                    0\n",
        "Dest           0                      0                    0\n",
        "UniqueCarrier  0                      0                    0\n",
        "DayOfWeek      0                      0                    0\n",
        "Month          0                      0                    0\n",
        "Distance       0                      0                    0\n",
        "FlightNum      0                      0                    0"
       ]
      },
      {
       "output_type": "stream",
       "stream": "stdout",
       "text": [
        "\n",
        "Variable Importances:\n"
       ]
      },
      {
       "html": [
        "<div style=\"overflow:auto\"><table style=\"width:50%\"><tr><td>variable</td>\n",
        "<td>relative_importance</td>\n",
        "<td>scaled_importance</td>\n",
        "<td>percentage</td></tr>\n",
        "<tr><td>Year</td>\n",
        "<td>1580.08081055</td>\n",
        "<td>1.0</td>\n",
        "<td>0.664161972405</td></tr>\n",
        "<tr><td>Origin</td>\n",
        "<td>442.581848145</td>\n",
        "<td>0.280100767752</td>\n",
        "<td>0.186032278382</td></tr>\n",
        "<tr><td>Dest</td>\n",
        "<td>163.243835449</td>\n",
        "<td>0.103313599127</td>\n",
        "<td>0.0686169637725</td></tr>\n",
        "<tr><td>FlightNum</td>\n",
        "<td>107.887062073</td>\n",
        "<td>0.0682794584635</td>\n",
        "<td>0.0453486198079</td></tr>\n",
        "<tr><td>DayOfWeek</td>\n",
        "<td>55.0098800659</td>\n",
        "<td>0.034814599164</td>\n",
        "<td>0.0231225328493</td></tr>\n",
        "<tr><td>UniqueCarrier</td>\n",
        "<td>20.2114658356</td>\n",
        "<td>0.012791412756</td>\n",
        "<td>0.00849556992589</td></tr>\n",
        "<tr><td>Distance</td>\n",
        "<td>10.0445384979</td>\n",
        "<td>0.00635697771334</td>\n",
        "<td>0.00422206285663</td></tr>\n",
        "<tr><td>Month</td>\n",
        "<td>0.0</td>\n",
        "<td>0.0</td>\n",
        "<td>0.0</td></tr></table></div>"
       ],
       "metadata": {},
       "output_type": "display_data",
       "text": [
        "variable       relative_importance    scaled_importance    percentage\n",
        "-------------  ---------------------  -------------------  ------------\n",
        "Year           1580.08                1                    0.664162\n",
        "Origin         442.582                0.280101             0.186032\n",
        "Dest           163.244                0.103314             0.068617\n",
        "FlightNum      107.887                0.0682795            0.0453486\n",
        "DayOfWeek      55.0099                0.0348146            0.0231225\n",
        "UniqueCarrier  20.2115                0.0127914            0.00849557\n",
        "Distance       10.0445                0.00635698           0.00422206\n",
        "Month          0                      0                    0"
       ]
      }
     ],
     "prompt_number": 11
    },
    {
     "cell_type": "code",
     "collapsed": false,
     "input": [
      "# Model performance of GBM model on test data\n",
      "data_gbm2.model_performance(test)"
     ],
     "language": "python",
     "metadata": {
      "scrolled": false
     },
     "outputs": [
      {
       "output_type": "stream",
       "stream": "stdout",
       "text": [
        "\n",
        "ModelMetricsBinomial: gbm\n",
        "** Reported on test data. **\n",
        "\n",
        "MSE: 0.206336404474\n",
        "R^2: 0.172898682703\n",
        "LogLoss: 0.598985275271\n",
        "AUC: 0.739698165955\n",
        "Gini: 0.479396331911\n",
        "\n",
        "Confusion Matrix (Act/Pred) for max f1 @ threshold = 0.393523825426:\n"
       ]
      },
      {
       "html": [
        "<div style=\"overflow:auto\"><table style=\"width:50%\"><tr><td></td>\n",
        "<td>NO</td>\n",
        "<td>YES</td>\n",
        "<td>Error</td>\n",
        "<td>Rate</td></tr>\n",
        "<tr><td>NO</td>\n",
        "<td>2359.0</td>\n",
        "<td>2900.0</td>\n",
        "<td>0.5514</td>\n",
        "<td> (2900.0/5259.0)</td></tr>\n",
        "<tr><td>YES</td>\n",
        "<td>927.0</td>\n",
        "<td>4840.0</td>\n",
        "<td>0.1607</td>\n",
        "<td> (927.0/5767.0)</td></tr>\n",
        "<tr><td>Total</td>\n",
        "<td>3286.0</td>\n",
        "<td>7740.0</td>\n",
        "<td>0.3471</td>\n",
        "<td> (3827.0/11026.0)</td></tr></table></div>"
       ],
       "metadata": {},
       "output_type": "display_data",
       "text": [
        "       NO    YES    Error    Rate\n",
        "-----  ----  -----  -------  ----------------\n",
        "NO     2359  2900   0.5514   (2900.0/5259.0)\n",
        "YES    927   4840   0.1607   (927.0/5767.0)\n",
        "Total  3286  7740   0.3471   (3827.0/11026.0)"
       ]
      },
      {
       "output_type": "stream",
       "stream": "stdout",
       "text": [
        "\n",
        "Maximum Metrics: Maximum metrics at their respective thresholds\n",
        "\n"
       ]
      },
      {
       "html": [
        "<div style=\"overflow:auto\"><table style=\"width:50%\"><tr><td>metric</td>\n",
        "<td>threshold</td>\n",
        "<td>value</td>\n",
        "<td>idx</td></tr>\n",
        "<tr><td>max f1</td>\n",
        "<td>0.393523825426</td>\n",
        "<td>0.716665432739</td>\n",
        "<td>271.0</td></tr>\n",
        "<tr><td>max f2</td>\n",
        "<td>0.195633450896</td>\n",
        "<td>0.847984372225</td>\n",
        "<td>370.0</td></tr>\n",
        "<tr><td>max f0point5</td>\n",
        "<td>0.579458392588</td>\n",
        "<td>0.702072432121</td>\n",
        "<td>171.0</td></tr>\n",
        "<tr><td>max accuracy</td>\n",
        "<td>0.518166893883</td>\n",
        "<td>0.680391801197</td>\n",
        "<td>201.0</td></tr>\n",
        "<tr><td>max precision</td>\n",
        "<td>0.968486536437</td>\n",
        "<td>1.0</td>\n",
        "<td>0.0</td></tr>\n",
        "<tr><td>max absolute_MCC</td>\n",
        "<td>0.579458392588</td>\n",
        "<td>0.363702269738</td>\n",
        "<td>171.0</td></tr>\n",
        "<tr><td>max min_per_class_accuracy</td>\n",
        "<td>0.522136057492</td>\n",
        "<td>0.680249696549</td>\n",
        "<td>199.0</td></tr></table></div>"
       ],
       "metadata": {},
       "output_type": "display_data",
       "text": [
        "metric                      threshold    value     idx\n",
        "--------------------------  -----------  --------  -----\n",
        "max f1                      0.393524     0.716665  271\n",
        "max f2                      0.195633     0.847984  370\n",
        "max f0point5                0.579458     0.702072  171\n",
        "max accuracy                0.518167     0.680392  201\n",
        "max precision               0.968487     1         0\n",
        "max absolute_MCC            0.579458     0.363702  171\n",
        "max min_per_class_accuracy  0.522136     0.68025   199"
       ]
      },
      {
       "metadata": {},
       "output_type": "pyout",
       "prompt_number": 12,
       "text": []
      }
     ],
     "prompt_number": 12
    }
   ],
   "metadata": {}
  }
 ]
}
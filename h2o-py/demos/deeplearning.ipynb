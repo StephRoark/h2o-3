{
 "metadata": {
  "name": "",
  "signature": "sha256:b230696dc1d650182178fdbab4ae2285e42653a957ec09ad7fa75d48d5f5f13c"
 },
 "nbformat": 3,
 "nbformat_minor": 0,
 "worksheets": [
  {
   "cells": [
    {
     "cell_type": "code",
     "collapsed": false,
     "input": [
      "import h2o"
     ],
     "language": "python",
     "metadata": {},
     "outputs": [],
     "prompt_number": 13
    },
    {
     "cell_type": "code",
     "collapsed": false,
     "input": [
      "h2o.init()"
     ],
     "language": "python",
     "metadata": {},
     "outputs": [
      {
       "html": [
        "<div style=\"overflow:auto\"><table style=\"width:50%\"><tr><td>H2O cluster uptime: </td>\n",
        "<td>1 minutes 47 seconds 826 milliseconds </td></tr>\n",
        "<tr><td>H2O cluster version: </td>\n",
        "<td>3.1.0.99999</td></tr>\n",
        "<tr><td>H2O cluster name: </td>\n",
        "<td>ece</td></tr>\n",
        "<tr><td>H2O cluster total nodes: </td>\n",
        "<td>1</td></tr>\n",
        "<tr><td>H2O cluster total memory: </td>\n",
        "<td>4.44 GB</td></tr>\n",
        "<tr><td>H2O cluster total cores: </td>\n",
        "<td>8</td></tr>\n",
        "<tr><td>H2O cluster allowed cores: </td>\n",
        "<td>8</td></tr>\n",
        "<tr><td>H2O cluster healthy: </td>\n",
        "<td>True</td></tr>\n",
        "<tr><td>H2O Connection ip: </td>\n",
        "<td>127.0.0.1</td></tr>\n",
        "<tr><td>H2O Connection port: </td>\n",
        "<td>54321</td></tr></table></div>"
       ],
       "metadata": {},
       "output_type": "display_data",
       "text": [
        "--------------------------  -------------------------------------\n",
        "H2O cluster uptime:         1 minutes 47 seconds 826 milliseconds\n",
        "H2O cluster version:        3.1.0.99999\n",
        "H2O cluster name:           ece\n",
        "H2O cluster total nodes:    1\n",
        "H2O cluster total memory:   4.44 GB\n",
        "H2O cluster total cores:    8\n",
        "H2O cluster allowed cores:  8\n",
        "H2O cluster healthy:        True\n",
        "H2O Connection ip:          127.0.0.1\n",
        "H2O Connection port:        54321\n",
        "--------------------------  -------------------------------------"
       ]
      }
     ],
     "prompt_number": 14
    },
    {
     "cell_type": "code",
     "collapsed": false,
     "input": [
      "prostate = h2o.upload_file(path=h2o.locate(\"smalldata/logreg/prostate.csv\"))\n",
      "prostate.describe()"
     ],
     "language": "python",
     "metadata": {},
     "outputs": [
      {
       "output_type": "stream",
       "stream": "stdout",
       "text": [
        "\n",
        "\r",
        "Parse Progress: [                                                  ] 00%"
       ]
      },
      {
       "output_type": "stream",
       "stream": "stdout",
       "text": [
        "\r",
        "Parse Progress: [##################################################] 100%"
       ]
      },
      {
       "output_type": "stream",
       "stream": "stdout",
       "text": [
        "\n",
        "Uploaded py9485de29-6e44-4cde-bd77-b480bdc9d6cb into cluster with 380 rows and 9 cols\n",
        "Rows: 380 Cols: 9\n",
        "\n"
       ]
      },
      {
       "output_type": "stream",
       "stream": "stdout",
       "text": [
        "Chunk compression summary:\n",
        "\n"
       ]
      },
      {
       "html": [
        "<div style=\"overflow:auto\"><table style=\"width:50%\"><tr><td>chunk_type</td>\n",
        "<td>chunk_name</td>\n",
        "<td>count</td>\n",
        "<td>count_percentage</td>\n",
        "<td>size</td>\n",
        "<td>size_percentage</td></tr>\n",
        "<tr><td>CBS</td>\n",
        "<td>Bits</td>\n",
        "<td>1</td>\n",
        "<td>11.111112</td>\n",
        "<td>    118  B</td>\n",
        "<td>2.4210093</td></tr>\n",
        "<tr><td>C1N</td>\n",
        "<td>1-Byte Integers (w/o NAs)</td>\n",
        "<td>5</td>\n",
        "<td>55.555557</td>\n",
        "<td>    2.2 KB</td>\n",
        "<td>45.958145</td></tr>\n",
        "<tr><td>C2</td>\n",
        "<td>2-Byte Integers</td>\n",
        "<td>1</td>\n",
        "<td>11.111112</td>\n",
        "<td>    828  B</td>\n",
        "<td>16.9881</td></tr>\n",
        "<tr><td>C2S</td>\n",
        "<td>2-Byte Fractions</td>\n",
        "<td>2</td>\n",
        "<td>22.222223</td>\n",
        "<td>    1.6 KB</td>\n",
        "<td>34.632744</td></tr></table></div>"
       ],
       "metadata": {},
       "output_type": "display_data",
       "text": [
        "chunk_type    chunk_name                 count    count_percentage    size    size_percentage\n",
        "------------  -------------------------  -------  ------------------  ------  -----------------\n",
        "CBS           Bits                       1        11.1111             118  B  2.42101\n",
        "C1N           1-Byte Integers (w/o NAs)  5        55.5556             2.2 KB  45.9581\n",
        "C2            2-Byte Integers            1        11.1111             828  B  16.9881\n",
        "C2S           2-Byte Fractions           2        22.2222             1.6 KB  34.6327"
       ]
      },
      {
       "output_type": "stream",
       "stream": "stdout",
       "text": [
        "\n",
        "Frame distribution summary:\n",
        "\n"
       ]
      },
      {
       "html": [
        "<div style=\"overflow:auto\"><table style=\"width:50%\"><tr><td></td>\n",
        "<td>size</td>\n",
        "<td>number_of_rows</td>\n",
        "<td>number_of_chunks_per_column</td>\n",
        "<td>number_of_chunks</td></tr>\n",
        "<tr><td>172.16.2.41:54321</td>\n",
        "<td>    4.8 KB</td>\n",
        "<td>380.0</td>\n",
        "<td>1.0</td>\n",
        "<td>9.0</td></tr>\n",
        "<tr><td>mean</td>\n",
        "<td>    4.8 KB</td>\n",
        "<td>380.0</td>\n",
        "<td>1.0</td>\n",
        "<td>9.0</td></tr>\n",
        "<tr><td>min</td>\n",
        "<td>    4.8 KB</td>\n",
        "<td>380.0</td>\n",
        "<td>1.0</td>\n",
        "<td>9.0</td></tr>\n",
        "<tr><td>max</td>\n",
        "<td>    4.8 KB</td>\n",
        "<td>380.0</td>\n",
        "<td>1.0</td>\n",
        "<td>9.0</td></tr>\n",
        "<tr><td>stddev</td>\n",
        "<td>      0  B</td>\n",
        "<td>0.0</td>\n",
        "<td>0.0</td>\n",
        "<td>0.0</td></tr>\n",
        "<tr><td>total</td>\n",
        "<td>    4.8 KB</td>\n",
        "<td>380.0</td>\n",
        "<td>1.0</td>\n",
        "<td>9.0</td></tr></table></div>"
       ],
       "metadata": {},
       "output_type": "display_data",
       "text": [
        "                   size    number_of_rows    number_of_chunks_per_column    number_of_chunks\n",
        "-----------------  ------  ----------------  -----------------------------  ------------------\n",
        "172.16.2.41:54321  4.8 KB  380               1                              9\n",
        "mean               4.8 KB  380               1                              9\n",
        "min                4.8 KB  380               1                              9\n",
        "max                4.8 KB  380               1                              9\n",
        "stddev             0  B    0                 0                              0\n",
        "total              4.8 KB  380               1                              9"
       ]
      },
      {
       "output_type": "stream",
       "stream": "stdout",
       "text": [
        "\n",
        "Column-by-Column Summary:\n",
        "\n"
       ]
      },
      {
       "html": [
        "<div style=\"overflow:auto\"><table style=\"width:50%\"><tr><td></td>\n",
        "<td>ID</td>\n",
        "<td>CAPSULE</td>\n",
        "<td>AGE</td>\n",
        "<td>RACE</td>\n",
        "<td>DPROS</td>\n",
        "<td>DCAPS</td>\n",
        "<td>PSA</td>\n",
        "<td>VOL</td>\n",
        "<td>GLEASON</td></tr>\n",
        "<tr><td>type</td>\n",
        "<td>int</td>\n",
        "<td>int</td>\n",
        "<td>int</td>\n",
        "<td>int</td>\n",
        "<td>int</td>\n",
        "<td>int</td>\n",
        "<td>real</td>\n",
        "<td>real</td>\n",
        "<td>int</td></tr>\n",
        "<tr><td>mins</td>\n",
        "<td>1.0</td>\n",
        "<td>0.0</td>\n",
        "<td>43.0</td>\n",
        "<td>0.0</td>\n",
        "<td>1.0</td>\n",
        "<td>1.0</td>\n",
        "<td>0.3</td>\n",
        "<td>0.0</td>\n",
        "<td>0.0</td></tr>\n",
        "<tr><td>mean</td>\n",
        "<td>190.5</td>\n",
        "<td>0.402631578947</td>\n",
        "<td>66.0394736842</td>\n",
        "<td>1.08684210526</td>\n",
        "<td>2.27105263158</td>\n",
        "<td>1.10789473684</td>\n",
        "<td>15.4086315789</td>\n",
        "<td>15.8129210526</td>\n",
        "<td>6.38421052632</td></tr>\n",
        "<tr><td>maxs</td>\n",
        "<td>380.0</td>\n",
        "<td>1.0</td>\n",
        "<td>79.0</td>\n",
        "<td>2.0</td>\n",
        "<td>4.0</td>\n",
        "<td>2.0</td>\n",
        "<td>139.7</td>\n",
        "<td>97.6</td>\n",
        "<td>9.0</td></tr>\n",
        "<tr><td>sigma</td>\n",
        "<td>109.840793879</td>\n",
        "<td>0.491074338963</td>\n",
        "<td>6.52707126917</td>\n",
        "<td>0.308773258025</td>\n",
        "<td>1.00010761815</td>\n",
        "<td>0.310656449351</td>\n",
        "<td>19.9975726686</td>\n",
        "<td>18.3476199673</td>\n",
        "<td>1.09195337443</td></tr>\n",
        "<tr><td>zero_count</td>\n",
        "<td>0</td>\n",
        "<td>227</td>\n",
        "<td>0</td>\n",
        "<td>3</td>\n",
        "<td>0</td>\n",
        "<td>0</td>\n",
        "<td>0</td>\n",
        "<td>167</td>\n",
        "<td>2</td></tr>\n",
        "<tr><td>missing_count</td>\n",
        "<td>0</td>\n",
        "<td>0</td>\n",
        "<td>0</td>\n",
        "<td>0</td>\n",
        "<td>0</td>\n",
        "<td>0</td>\n",
        "<td>0</td>\n",
        "<td>0</td>\n",
        "<td>0</td></tr></table></div>"
       ],
       "metadata": {},
       "output_type": "display_data",
       "text": [
        "               ID             CAPSULE         AGE            RACE            DPROS          DCAPS           PSA            VOL            GLEASON\n",
        "-------------  -------------  --------------  -------------  --------------  -------------  --------------  -------------  -------------  -------------\n",
        "type           int            int             int            int             int            int             real           real           int\n",
        "mins           1.0            0.0             43.0           0.0             1.0            1.0             0.3            0.0            0.0\n",
        "mean           190.5          0.402631578947  66.0394736842  1.08684210526   2.27105263158  1.10789473684   15.4086315789  15.8129210526  6.38421052632\n",
        "maxs           380.0          1.0             79.0           2.0             4.0            2.0             139.7          97.6           9.0\n",
        "sigma          109.840793879  0.491074338963  6.52707126917  0.308773258025  1.00010761815  0.310656449351  19.9975726686  18.3476199673  1.09195337443\n",
        "zero_count     0              227             0              3               0              0               0              167            2\n",
        "missing_count  0              0               0              0               0              0               0              0              0"
       ]
      }
     ],
     "prompt_number": 15
    },
    {
     "cell_type": "code",
     "collapsed": false,
     "input": [
      "prostate[\"CAPSULE\"] = prostate[\"CAPSULE\"].asfactor()\n",
      "model = h2o.deeplearning(x = prostate[list(set(prostate.columns) - set([\"ID\",\"CAPSULE\"]))], y = prostate[\"CAPSULE\"], training_frame = prostate, activation = \"Tanh\", hidden = [10, 10, 10], epochs = 10000)\n",
      "model.show()"
     ],
     "language": "python",
     "metadata": {},
     "outputs": [
      {
       "output_type": "stream",
       "stream": "stdout",
       "text": [
        "\n",
        "\r",
        "deeplearning Model Build Progress: [                                                  ] 00%"
       ]
      },
      {
       "output_type": "stream",
       "stream": "stdout",
       "text": [
        "\r",
        "deeplearning Model Build Progress: [                                                  ] 00%"
       ]
      },
      {
       "output_type": "stream",
       "stream": "stdout",
       "text": [
        "\r",
        "deeplearning Model Build Progress: [                                                  ] 00%"
       ]
      },
      {
       "output_type": "stream",
       "stream": "stdout",
       "text": [
        "\r",
        "deeplearning Model Build Progress: [                                                  ] 00%"
       ]
      },
      {
       "output_type": "stream",
       "stream": "stdout",
       "text": [
        "\r",
        "deeplearning Model Build Progress: [                                                  ] 00%"
       ]
      },
      {
       "output_type": "stream",
       "stream": "stdout",
       "text": [
        "\r",
        "deeplearning Model Build Progress: [##                                                ] 05%"
       ]
      },
      {
       "output_type": "stream",
       "stream": "stdout",
       "text": [
        "\r",
        "deeplearning Model Build Progress: [#####                                             ] 11%"
       ]
      },
      {
       "output_type": "stream",
       "stream": "stdout",
       "text": [
        "\r",
        "deeplearning Model Build Progress: [#########                                         ] 18%"
       ]
      },
      {
       "output_type": "stream",
       "stream": "stdout",
       "text": [
        "\r",
        "deeplearning Model Build Progress: [#############                                     ] 27%"
       ]
      },
      {
       "output_type": "stream",
       "stream": "stdout",
       "text": [
        "\r",
        "deeplearning Model Build Progress: [##################                                ] 36%"
       ]
      },
      {
       "output_type": "stream",
       "stream": "stdout",
       "text": [
        "\r",
        "deeplearning Model Build Progress: [######################                            ] 45%"
       ]
      },
      {
       "output_type": "stream",
       "stream": "stdout",
       "text": [
        "\r",
        "deeplearning Model Build Progress: [###########################                       ] 55%"
       ]
      },
      {
       "output_type": "stream",
       "stream": "stdout",
       "text": [
        "\r",
        "deeplearning Model Build Progress: [################################                  ] 65%"
       ]
      },
      {
       "output_type": "stream",
       "stream": "stdout",
       "text": [
        "\r",
        "deeplearning Model Build Progress: [#####################################             ] 75%"
       ]
      },
      {
       "output_type": "stream",
       "stream": "stdout",
       "text": [
        "\r",
        "deeplearning Model Build Progress: [##########################################        ] 85%"
       ]
      },
      {
       "output_type": "stream",
       "stream": "stdout",
       "text": [
        "\r",
        "deeplearning Model Build Progress: [###############################################   ] 94%"
       ]
      },
      {
       "output_type": "stream",
       "stream": "stdout",
       "text": [
        "\r",
        "deeplearning Model Build Progress: [##################################################] 100%"
       ]
      },
      {
       "output_type": "stream",
       "stream": "stdout",
       "text": [
        "\n",
        "Model Details\n",
        "=============\n",
        "H2OBinomialModel :  Deep Learning\n",
        "Model Key:  DeepLearningModel__bd863374e41fb02662d41e05ea504f7e\n",
        "\n",
        "Status of Neuron Layers:\n",
        "\n"
       ]
      },
      {
       "html": [
        "<div style=\"overflow:auto\"><table style=\"width:50%\"><tr><td></td>\n",
        "<td>layer</td>\n",
        "<td>units</td>\n",
        "<td>type</td>\n",
        "<td>dropout</td>\n",
        "<td>l1</td>\n",
        "<td>l2</td>\n",
        "<td>mean_rate</td>\n",
        "<td>rate_RMS</td>\n",
        "<td>momentum</td>\n",
        "<td>mean_weight</td>\n",
        "<td>weight_RMS</td>\n",
        "<td>mean_bias</td>\n",
        "<td>bias_RMS</td></tr>\n",
        "<tr><td></td>\n",
        "<td>1</td>\n",
        "<td>7</td>\n",
        "<td>Input</td>\n",
        "<td>0.0</td>\n",
        "<td></td>\n",
        "<td></td>\n",
        "<td></td>\n",
        "<td></td>\n",
        "<td></td>\n",
        "<td></td>\n",
        "<td></td>\n",
        "<td></td>\n",
        "<td></td></tr>\n",
        "<tr><td></td>\n",
        "<td>2</td>\n",
        "<td>10</td>\n",
        "<td>Tanh</td>\n",
        "<td>0.0</td>\n",
        "<td>0.0</td>\n",
        "<td>0.0</td>\n",
        "<td>0.0053118872</td>\n",
        "<td>0.0064453385</td>\n",
        "<td>0.0</td>\n",
        "<td>-0.052273955</td>\n",
        "<td>1.2920758</td>\n",
        "<td>-0.015679162</td>\n",
        "<td>0.6260032</td></tr>\n",
        "<tr><td></td>\n",
        "<td>3</td>\n",
        "<td>10</td>\n",
        "<td>Tanh</td>\n",
        "<td>0.0</td>\n",
        "<td>0.0</td>\n",
        "<td>0.0</td>\n",
        "<td>0.04846302</td>\n",
        "<td>0.12402522</td>\n",
        "<td>0.0</td>\n",
        "<td>-0.18807818</td>\n",
        "<td>1.5033592</td>\n",
        "<td>-0.11971774</td>\n",
        "<td>1.2407272</td></tr>\n",
        "<tr><td></td>\n",
        "<td>4</td>\n",
        "<td>10</td>\n",
        "<td>Tanh</td>\n",
        "<td>0.0</td>\n",
        "<td>0.0</td>\n",
        "<td>0.0</td>\n",
        "<td>0.022704514</td>\n",
        "<td>0.043265637</td>\n",
        "<td>0.0</td>\n",
        "<td>-0.06319846</td>\n",
        "<td>1.7067846</td>\n",
        "<td>0.33969718</td>\n",
        "<td>0.96845585</td></tr>\n",
        "<tr><td></td>\n",
        "<td>5</td>\n",
        "<td>2</td>\n",
        "<td>Softmax</td>\n",
        "<td></td>\n",
        "<td>0.0</td>\n",
        "<td>0.0</td>\n",
        "<td>0.0053924634</td>\n",
        "<td>0.000767734</td>\n",
        "<td>0.0</td>\n",
        "<td>-0.3149048</td>\n",
        "<td>4.5431895</td>\n",
        "<td>-0.00843814</td>\n",
        "<td>0.7755003</td></tr></table></div>"
       ],
       "metadata": {},
       "output_type": "display_data",
       "text": [
        "    layer    units    type     dropout    l1    l2    mean_rate     rate_RMS      momentum    mean_weight    weight_RMS    mean_bias     bias_RMS\n",
        "--  -------  -------  -------  ---------  ----  ----  ------------  ------------  ----------  -------------  ------------  ------------  ----------\n",
        "    1        7        Input    0.0\n",
        "    2        10       Tanh     0.0        0.0   0.0   0.0053118872  0.0064453385  0.0         -0.052273955   1.2920758     -0.015679162  0.6260032\n",
        "    3        10       Tanh     0.0        0.0   0.0   0.04846302    0.12402522    0.0         -0.18807818    1.5033592     -0.11971774   1.2407272\n",
        "    4        10       Tanh     0.0        0.0   0.0   0.022704514   0.043265637   0.0         -0.06319846    1.7067846     0.33969718    0.96845585\n",
        "    5        2        Softmax             0.0   0.0   0.0053924634  0.000767734   0.0         -0.3149048     4.5431895     -0.00843814   0.7755003"
       ]
      },
      {
       "output_type": "stream",
       "stream": "stdout",
       "text": [
        "\n",
        "\n",
        "ModelMetricsBinomial: deeplearning\n",
        "** Reported on train data. **\n",
        "\n",
        "MSE: 0.00515095678079\n",
        "R^2: 0.978640384798\n",
        "LogLoss: 0.0189778247313\n",
        "AUC: 0.999740865509\n",
        "Gini: 0.999481731018\n",
        "\n",
        "Confusion Matrix (Act/Pred) for max f1 @ threshold = 0.558165788651:\n",
        "\n"
       ]
      },
      {
       "html": [
        "<div style=\"overflow:auto\"><table style=\"width:50%\"><tr><td></td>\n",
        "<td>0</td>\n",
        "<td>1</td>\n",
        "<td>Error</td>\n",
        "<td>Rate</td></tr>\n",
        "<tr><td>0</td>\n",
        "<td>226.0</td>\n",
        "<td>1.0</td>\n",
        "<td>0.0044</td>\n",
        "<td> (1.0/227.0)</td></tr>\n",
        "<tr><td>1</td>\n",
        "<td>1.0</td>\n",
        "<td>152.0</td>\n",
        "<td>0.0065</td>\n",
        "<td> (1.0/153.0)</td></tr>\n",
        "<tr><td>Total</td>\n",
        "<td>227.0</td>\n",
        "<td>153.0</td>\n",
        "<td>0.0109</td>\n",
        "<td> (0.0109/380.0)</td></tr></table></div>"
       ],
       "metadata": {},
       "output_type": "display_data",
       "text": [
        "       0    1    Error    Rate\n",
        "-----  ---  ---  -------  --------------\n",
        "0      226  1    0.0044   (1.0/227.0)\n",
        "1      1    152  0.0065   (1.0/153.0)\n",
        "Total  227  153  0.0109   (0.0109/380.0)"
       ]
      },
      {
       "output_type": "stream",
       "stream": "stdout",
       "text": [
        "\n",
        "Maximum Metrics:\n",
        "\n"
       ]
      },
      {
       "html": [
        "<div style=\"overflow:auto\"><table style=\"width:50%\"><tr><td>metric</td>\n",
        "<td>threshold</td>\n",
        "<td>value</td>\n",
        "<td>idx</td></tr>\n",
        "<tr><td>f1</td>\n",
        "<td>0.558165788651</td>\n",
        "<td>0.993464052288</td>\n",
        "<td>95.0</td></tr>\n",
        "<tr><td>f2</td>\n",
        "<td>0.558165788651</td>\n",
        "<td>0.993464052288</td>\n",
        "<td>95.0</td></tr>\n",
        "<tr><td>f0point5</td>\n",
        "<td>0.784003376961</td>\n",
        "<td>0.997357992074</td>\n",
        "<td>93.0</td></tr>\n",
        "<tr><td>accuracy</td>\n",
        "<td>0.784003376961</td>\n",
        "<td>0.994736842105</td>\n",
        "<td>93.0</td></tr>\n",
        "<tr><td>precision</td>\n",
        "<td>1.0</td>\n",
        "<td>1.0</td>\n",
        "<td>0.0</td></tr>\n",
        "<tr><td>absolute_MCC</td>\n",
        "<td>0.784003376961</td>\n",
        "<td>0.989094861551</td>\n",
        "<td>93.0</td></tr>\n",
        "<tr><td>min_per_class_accuracy</td>\n",
        "<td>0.558165788651</td>\n",
        "<td>0.993464052288</td>\n",
        "<td>95.0</td></tr>\n",
        "<tr><td>tns</td>\n",
        "<td>1.0</td>\n",
        "<td>227.0</td>\n",
        "<td>0.0</td></tr>\n",
        "<tr><td>fns</td>\n",
        "<td>1.0</td>\n",
        "<td>102.0</td>\n",
        "<td>0.0</td></tr>\n",
        "<tr><td>fps</td>\n",
        "<td>1.6900796636e-24</td>\n",
        "<td>227.0</td>\n",
        "<td>322.0</td></tr>\n",
        "<tr><td>tps</td>\n",
        "<td>0.0501889586449</td>\n",
        "<td>153.0</td>\n",
        "<td>103.0</td></tr>\n",
        "<tr><td>tnr</td>\n",
        "<td>1.0</td>\n",
        "<td>1.0</td>\n",
        "<td>0.0</td></tr>\n",
        "<tr><td>fnr</td>\n",
        "<td>1.0</td>\n",
        "<td>0.666666666667</td>\n",
        "<td>0.0</td></tr>\n",
        "<tr><td>fpr</td>\n",
        "<td>1.6900796636e-24</td>\n",
        "<td>1.0</td>\n",
        "<td>322.0</td></tr>\n",
        "<tr><td>tpr</td>\n",
        "<td>0.0501889586449</td>\n",
        "<td>1.0</td>\n",
        "<td>103.0</td></tr></table></div>"
       ],
       "metadata": {},
       "output_type": "display_data",
       "text": [
        "metric                  threshold    value     idx\n",
        "----------------------  -----------  --------  -----\n",
        "f1                      0.558166     0.993464  95\n",
        "f2                      0.558166     0.993464  95\n",
        "f0point5                0.784003     0.997358  93\n",
        "accuracy                0.784003     0.994737  93\n",
        "precision               1            1         0\n",
        "absolute_MCC            0.784003     0.989095  93\n",
        "min_per_class_accuracy  0.558166     0.993464  95\n",
        "tns                     1            227       0\n",
        "fns                     1            102       0\n",
        "fps                     1.69008e-24  227       322\n",
        "tps                     0.050189     153       103\n",
        "tnr                     1            1         0\n",
        "fnr                     1            0.666667  0\n",
        "fpr                     1.69008e-24  1         322\n",
        "tpr                     0.050189     1         103"
       ]
      },
      {
       "output_type": "stream",
       "stream": "stdout",
       "text": [
        "\n",
        "Scoring History:\n",
        "\n"
       ]
      },
      {
       "html": [
        "<div style=\"overflow:auto\"><table style=\"width:50%\"><tr><td></td>\n",
        "<td>timestamp</td>\n",
        "<td>duration</td>\n",
        "<td>training_speed</td>\n",
        "<td>epochs</td>\n",
        "<td>samples</td>\n",
        "<td>training_MSE</td>\n",
        "<td>training_r2</td>\n",
        "<td>training_logloss</td>\n",
        "<td>training_AUC</td>\n",
        "<td>training_classification_error</td></tr>\n",
        "<tr><td></td>\n",
        "<td>2015-05-22 13:22:58</td>\n",
        "<td> 0.000 sec</td>\n",
        "<td>None</td>\n",
        "<td>0.0</td>\n",
        "<td>0.0</td>\n",
        "<td>nan</td>\n",
        "<td>nan</td>\n",
        "<td>nan</td>\n",
        "<td>nan</td>\n",
        "<td>nan</td></tr>\n",
        "<tr><td></td>\n",
        "<td>2015-05-22 13:22:58</td>\n",
        "<td> 0.012 sec</td>\n",
        "<td>316666.667 rows/sec</td>\n",
        "<td>10.0</td>\n",
        "<td>3800.0</td>\n",
        "<td>0.204413234872</td>\n",
        "<td>0.15235397523</td>\n",
        "<td>0.597336218462</td>\n",
        "<td>nan</td>\n",
        "<td>0.313157894737</td></tr>\n",
        "<tr><td></td>\n",
        "<td>2015-05-22 13:23:03</td>\n",
        "<td> 5.020 sec</td>\n",
        "<td>372430.279 rows/sec</td>\n",
        "<td>4920.0</td>\n",
        "<td>1869600.0</td>\n",
        "<td>0.0165889609441</td>\n",
        "<td>0.931210096019</td>\n",
        "<td>0.0492657643152</td>\n",
        "<td>nan</td>\n",
        "<td>0.0184210526316</td></tr>\n",
        "<tr><td></td>\n",
        "<td>2015-05-22 13:23:08</td>\n",
        "<td>10.028 sec</td>\n",
        "<td>355444.755 rows/sec</td>\n",
        "<td>9380.0</td>\n",
        "<td>3564400.0</td>\n",
        "<td>0.00753752319028</td>\n",
        "<td>0.968743943743</td>\n",
        "<td>0.0230601929024</td>\n",
        "<td>nan</td>\n",
        "<td>0.00789473684211</td></tr>\n",
        "<tr><td></td>\n",
        "<td>2015-05-22 13:23:09</td>\n",
        "<td>10.754 sec</td>\n",
        "<td>353356.890 rows/sec</td>\n",
        "<td>10000.0</td>\n",
        "<td>3800000.0</td>\n",
        "<td>0.00515095678079</td>\n",
        "<td>0.978640384798</td>\n",
        "<td>0.0189778247313</td>\n",
        "<td>nan</td>\n",
        "<td>0.00526315789474</td></tr></table></div>"
       ],
       "metadata": {},
       "output_type": "display_data",
       "text": [
        "    timestamp            duration    training_speed       epochs    samples     training_MSE    training_r2    training_logloss    training_AUC    training_classification_error\n",
        "--  -------------------  ----------  -------------------  --------  ----------  --------------  -------------  ------------------  --------------  -------------------------------\n",
        "    2015-05-22 13:22:58  0.000 sec                        0         0           nan             nan            nan                 nan             nan\n",
        "    2015-05-22 13:22:58  0.012 sec   316666.667 rows/sec  10        3800        0.204413        0.152354       0.597336            nan             0.313158\n",
        "    2015-05-22 13:23:03  5.020 sec   372430.279 rows/sec  4920      1.8696e+06  0.016589        0.93121        0.0492658           nan             0.0184211\n",
        "    2015-05-22 13:23:08  10.028 sec  355444.755 rows/sec  9380      3.5644e+06  0.00753752      0.968744       0.0230602           nan             0.00789474\n",
        "    2015-05-22 13:23:09  10.754 sec  353356.890 rows/sec  10000     3.8e+06     0.00515096      0.97864        0.0189778           nan             0.00526316"
       ]
      }
     ],
     "prompt_number": 16
    },
    {
     "cell_type": "code",
     "collapsed": false,
     "input": [
      "predictions = model.predict(prostate)\n",
      "predictions.show()"
     ],
     "language": "python",
     "metadata": {},
     "outputs": [
      {
       "output_type": "stream",
       "stream": "stdout",
       "text": [
        "Displaying 10 row(s):\n"
       ]
      },
      {
       "html": [
        "<div style=\"overflow:auto\"><table style=\"width:50%\"><tr><td>Row ID</td>\n",
        "<td>predict</td>\n",
        "<td>p0</td>\n",
        "<td>p1</td></tr>\n",
        "<tr><td>1</td>\n",
        "<td>[u'0']</td>\n",
        "<td>[0.9999997615814209]</td>\n",
        "<td>[2.7966822813141334e-07]</td></tr>\n",
        "<tr><td>2</td>\n",
        "<td>[u'0']</td>\n",
        "<td>[0.9999793767929077]</td>\n",
        "<td>[2.0565463273669593e-05]</td></tr>\n",
        "<tr><td>3</td>\n",
        "<td>[u'0']</td>\n",
        "<td>[0.9999675750732422]</td>\n",
        "<td>[3.237894270569086e-05]</td></tr>\n",
        "<tr><td>4</td>\n",
        "<td>[u'0']</td>\n",
        "<td>[0.9999769926071167]</td>\n",
        "<td>[2.2972568331169896e-05]</td></tr>\n",
        "<tr><td>5</td>\n",
        "<td>[u'0']</td>\n",
        "<td>[1.0]</td>\n",
        "<td>[2.3572571168249332e-14]</td></tr>\n",
        "<tr><td>6</td>\n",
        "<td>[u'1']</td>\n",
        "<td>[5.477976405821039e-10]</td>\n",
        "<td>[1.0]</td></tr>\n",
        "<tr><td>7</td>\n",
        "<td>[u'0']</td>\n",
        "<td>[0.9999896287918091]</td>\n",
        "<td>[1.033373519021552e-05]</td></tr>\n",
        "<tr><td>8</td>\n",
        "<td>[u'0']</td>\n",
        "<td>[0.9994649291038513]</td>\n",
        "<td>[0.0005351081490516663]</td></tr>\n",
        "<tr><td>9</td>\n",
        "<td>[u'0']</td>\n",
        "<td>[0.9906359314918518]</td>\n",
        "<td>[0.009364110417664051]</td></tr>\n",
        "<tr><td>10</td>\n",
        "<td>[u'0']</td>\n",
        "<td>[1.0]</td>\n",
        "<td>[3.102281764810755e-10]</td></tr></table></div>"
       ],
       "metadata": {},
       "output_type": "display_data",
       "text": [
        "  Row ID  predict    p0                       p1\n",
        "--------  ---------  -----------------------  ------------------------\n",
        "       1  [u'0']     [0.9999997615814209]     [2.7966822813141334e-07]\n",
        "       2  [u'0']     [0.9999793767929077]     [2.0565463273669593e-05]\n",
        "       3  [u'0']     [0.9999675750732422]     [3.237894270569086e-05]\n",
        "       4  [u'0']     [0.9999769926071167]     [2.2972568331169896e-05]\n",
        "       5  [u'0']     [1.0]                    [2.3572571168249332e-14]\n",
        "       6  [u'1']     [5.477976405821039e-10]  [1.0]\n",
        "       7  [u'0']     [0.9999896287918091]     [1.033373519021552e-05]\n",
        "       8  [u'0']     [0.9994649291038513]     [0.0005351081490516663]\n",
        "       9  [u'0']     [0.9906359314918518]     [0.009364110417664051]\n",
        "      10  [u'0']     [1.0]                    [3.102281764810755e-10]"
       ]
      }
     ],
     "prompt_number": 17
    },
    {
     "cell_type": "code",
     "collapsed": false,
     "input": [
      "performance = model.model_performance(prostate)\n",
      "performance.show()"
     ],
     "language": "python",
     "metadata": {},
     "outputs": [
      {
       "output_type": "stream",
       "stream": "stdout",
       "text": [
        "\n",
        "ModelMetricsBinomial: deeplearning\n",
        "** Reported on test data. **\n",
        "\n",
        "MSE: 0.00515095678079\n",
        "R^2: 0.978640384798\n",
        "LogLoss: 0.0189778247313\n",
        "AUC: 0.999740865509\n",
        "Gini: 0.999481731018\n",
        "\n",
        "Confusion Matrix (Act/Pred) for max f1 @ threshold = 0.558165788651:\n",
        "\n"
       ]
      },
      {
       "html": [
        "<div style=\"overflow:auto\"><table style=\"width:50%\"><tr><td></td>\n",
        "<td>0</td>\n",
        "<td>1</td>\n",
        "<td>Error</td>\n",
        "<td>Rate</td></tr>\n",
        "<tr><td>0</td>\n",
        "<td>226.0</td>\n",
        "<td>1.0</td>\n",
        "<td>0.0044</td>\n",
        "<td> (1.0/227.0)</td></tr>\n",
        "<tr><td>1</td>\n",
        "<td>1.0</td>\n",
        "<td>152.0</td>\n",
        "<td>0.0065</td>\n",
        "<td> (1.0/153.0)</td></tr>\n",
        "<tr><td>Total</td>\n",
        "<td>227.0</td>\n",
        "<td>153.0</td>\n",
        "<td>0.0109</td>\n",
        "<td> (0.0109/380.0)</td></tr></table></div>"
       ],
       "metadata": {},
       "output_type": "display_data",
       "text": [
        "       0    1    Error    Rate\n",
        "-----  ---  ---  -------  --------------\n",
        "0      226  1    0.0044   (1.0/227.0)\n",
        "1      1    152  0.0065   (1.0/153.0)\n",
        "Total  227  153  0.0109   (0.0109/380.0)"
       ]
      },
      {
       "output_type": "stream",
       "stream": "stdout",
       "text": [
        "\n",
        "Maximum Metrics:\n",
        "\n"
       ]
      },
      {
       "html": [
        "<div style=\"overflow:auto\"><table style=\"width:50%\"><tr><td>metric</td>\n",
        "<td>threshold</td>\n",
        "<td>value</td>\n",
        "<td>idx</td></tr>\n",
        "<tr><td>f1</td>\n",
        "<td>0.558165788651</td>\n",
        "<td>0.993464052288</td>\n",
        "<td>95.0</td></tr>\n",
        "<tr><td>f2</td>\n",
        "<td>0.558165788651</td>\n",
        "<td>0.993464052288</td>\n",
        "<td>95.0</td></tr>\n",
        "<tr><td>f0point5</td>\n",
        "<td>0.784003376961</td>\n",
        "<td>0.997357992074</td>\n",
        "<td>93.0</td></tr>\n",
        "<tr><td>accuracy</td>\n",
        "<td>0.784003376961</td>\n",
        "<td>0.994736842105</td>\n",
        "<td>93.0</td></tr>\n",
        "<tr><td>precision</td>\n",
        "<td>1.0</td>\n",
        "<td>1.0</td>\n",
        "<td>0.0</td></tr>\n",
        "<tr><td>absolute_MCC</td>\n",
        "<td>0.784003376961</td>\n",
        "<td>0.989094861551</td>\n",
        "<td>93.0</td></tr>\n",
        "<tr><td>min_per_class_accuracy</td>\n",
        "<td>0.558165788651</td>\n",
        "<td>0.993464052288</td>\n",
        "<td>95.0</td></tr>\n",
        "<tr><td>tns</td>\n",
        "<td>1.0</td>\n",
        "<td>227.0</td>\n",
        "<td>0.0</td></tr>\n",
        "<tr><td>fns</td>\n",
        "<td>1.0</td>\n",
        "<td>102.0</td>\n",
        "<td>0.0</td></tr>\n",
        "<tr><td>fps</td>\n",
        "<td>1.6900796636e-24</td>\n",
        "<td>227.0</td>\n",
        "<td>322.0</td></tr>\n",
        "<tr><td>tps</td>\n",
        "<td>0.0501889586449</td>\n",
        "<td>153.0</td>\n",
        "<td>103.0</td></tr>\n",
        "<tr><td>tnr</td>\n",
        "<td>1.0</td>\n",
        "<td>1.0</td>\n",
        "<td>0.0</td></tr>\n",
        "<tr><td>fnr</td>\n",
        "<td>1.0</td>\n",
        "<td>0.666666666667</td>\n",
        "<td>0.0</td></tr>\n",
        "<tr><td>fpr</td>\n",
        "<td>1.6900796636e-24</td>\n",
        "<td>1.0</td>\n",
        "<td>322.0</td></tr>\n",
        "<tr><td>tpr</td>\n",
        "<td>0.0501889586449</td>\n",
        "<td>1.0</td>\n",
        "<td>103.0</td></tr></table></div>"
       ],
       "metadata": {},
       "output_type": "display_data",
       "text": [
        "metric                  threshold    value     idx\n",
        "----------------------  -----------  --------  -----\n",
        "f1                      0.558166     0.993464  95\n",
        "f2                      0.558166     0.993464  95\n",
        "f0point5                0.784003     0.997358  93\n",
        "accuracy                0.784003     0.994737  93\n",
        "precision               1            1         0\n",
        "absolute_MCC            0.784003     0.989095  93\n",
        "min_per_class_accuracy  0.558166     0.993464  95\n",
        "tns                     1            227       0\n",
        "fns                     1            102       0\n",
        "fps                     1.69008e-24  227       322\n",
        "tps                     0.050189     153       103\n",
        "tnr                     1            1         0\n",
        "fnr                     1            0.666667  0\n",
        "fpr                     1.69008e-24  1         322\n",
        "tpr                     0.050189     1         103"
       ]
      }
     ],
     "prompt_number": 18
    }
   ],
   "metadata": {}
  }
 ]
}
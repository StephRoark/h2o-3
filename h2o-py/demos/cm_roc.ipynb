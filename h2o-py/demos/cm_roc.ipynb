{
 "metadata": {
  "name": "",
  "signature": "sha256:282fd4ce1a790f1209b44b1c0a5cf107a331a29c6524343a16604acc964f5a8a"
 },
 "nbformat": 3,
 "nbformat_minor": 0,
 "worksheets": [
  {
   "cells": [
    {
     "cell_type": "code",
     "collapsed": false,
     "input": [
      "import h2o"
     ],
     "language": "python",
     "metadata": {},
     "outputs": [],
     "prompt_number": 1
    },
    {
     "cell_type": "code",
     "collapsed": false,
     "input": [
      "h2o.init()"
     ],
     "language": "python",
     "metadata": {},
     "outputs": [
      {
       "html": [
        "<div style=\"overflow:auto\"><table style=\"width:50%\"><tr><td>H2O cluster uptime: </td>\n",
        "<td>1 minutes 50 seconds 618 milliseconds </td></tr>\n",
        "<tr><td>H2O cluster version: </td>\n",
        "<td>3.1.0.99999</td></tr>\n",
        "<tr><td>H2O cluster name: </td>\n",
        "<td>ece</td></tr>\n",
        "<tr><td>H2O cluster total nodes: </td>\n",
        "<td>1</td></tr>\n",
        "<tr><td>H2O cluster total memory: </td>\n",
        "<td>4.44 GB</td></tr>\n",
        "<tr><td>H2O cluster total cores: </td>\n",
        "<td>8</td></tr>\n",
        "<tr><td>H2O cluster allowed cores: </td>\n",
        "<td>8</td></tr>\n",
        "<tr><td>H2O cluster healthy: </td>\n",
        "<td>True</td></tr>\n",
        "<tr><td>H2O Connection ip: </td>\n",
        "<td>127.0.0.1</td></tr>\n",
        "<tr><td>H2O Connection port: </td>\n",
        "<td>54321</td></tr></table></div>"
       ],
       "metadata": {},
       "output_type": "display_data",
       "text": [
        "--------------------------  -------------------------------------\n",
        "H2O cluster uptime:         1 minutes 50 seconds 618 milliseconds\n",
        "H2O cluster version:        3.1.0.99999\n",
        "H2O cluster name:           ece\n",
        "H2O cluster total nodes:    1\n",
        "H2O cluster total memory:   4.44 GB\n",
        "H2O cluster total cores:    8\n",
        "H2O cluster allowed cores:  8\n",
        "H2O cluster healthy:        True\n",
        "H2O Connection ip:          127.0.0.1\n",
        "H2O Connection port:        54321\n",
        "--------------------------  -------------------------------------"
       ]
      }
     ],
     "prompt_number": 2
    },
    {
     "cell_type": "code",
     "collapsed": false,
     "input": [
      "#uploading data file to h2o\n",
      "air = h2o.import_file(path=h2o.locate(\"smalldata/airlines/AirlinesTrain.csv.zip\"))"
     ],
     "language": "python",
     "metadata": {},
     "outputs": [
      {
       "output_type": "stream",
       "stream": "stdout",
       "text": [
        "\n",
        "\r",
        "Parse Progress: [                                                  ] 00%"
       ]
      },
      {
       "output_type": "stream",
       "stream": "stdout",
       "text": [
        "\r",
        "Parse Progress: [##################################################] 100%"
       ]
      },
      {
       "output_type": "stream",
       "stream": "stdout",
       "text": [
        "\n",
        "Imported  /Users/ece/0xdata/h2o-dev/smalldata/airlines/AirlinesTrain.csv.zip . Parsed 24,421 rows and 12 cols\n"
       ]
      }
     ],
     "prompt_number": 3
    },
    {
     "cell_type": "code",
     "collapsed": false,
     "input": [
      "# Constructing validation and train sets by sampling (20/80)\n",
      "# creating a column as tall as air.nrow\n",
      "r = air[0].runif()\n",
      "air_train = air[r < 0.8]\n",
      "air_valid = air[r >= 0.8]\n",
      "\n",
      "myX = [\"Origin\", \"Dest\", \"Distance\", \"UniqueCarrier\", \"fMonth\", \"fDayofMonth\", \"fDayOfWeek\"]\n",
      "myY = \"IsDepDelayed\""
     ],
     "language": "python",
     "metadata": {},
     "outputs": [],
     "prompt_number": 4
    },
    {
     "cell_type": "code",
     "collapsed": false,
     "input": [
      "#gbm\n",
      "gbm = h2o.gbm(x=air_train[myX], \n",
      "              y=air_train[myY], \n",
      "              validation_x=air_valid[myX],\n",
      "              validation_y=air_valid[myY],\n",
      "              distribution=\"bernoulli\", \n",
      "              ntrees=100, \n",
      "              max_depth=3, \n",
      "              learn_rate=0.01)\n",
      "gbm.show()"
     ],
     "language": "python",
     "metadata": {},
     "outputs": [
      {
       "output_type": "stream",
       "stream": "stdout",
       "text": [
        "\n",
        "\r",
        "gbm Model Build Progress: [                                                  ] 00%"
       ]
      },
      {
       "output_type": "stream",
       "stream": "stdout",
       "text": [
        "\r",
        "gbm Model Build Progress: [                                                  ] 01%"
       ]
      },
      {
       "output_type": "stream",
       "stream": "stdout",
       "text": [
        "\r",
        "gbm Model Build Progress: [######                                            ] 12%"
       ]
      },
      {
       "output_type": "stream",
       "stream": "stdout",
       "text": [
        "\r",
        "gbm Model Build Progress: [###########                                       ] 23%"
       ]
      },
      {
       "output_type": "stream",
       "stream": "stdout",
       "text": [
        "\r",
        "gbm Model Build Progress: [##################                                ] 36%"
       ]
      },
      {
       "output_type": "stream",
       "stream": "stdout",
       "text": [
        "\r",
        "gbm Model Build Progress: [#######################                           ] 47%"
       ]
      },
      {
       "output_type": "stream",
       "stream": "stdout",
       "text": [
        "\r",
        "gbm Model Build Progress: [############################                      ] 57%"
       ]
      },
      {
       "output_type": "stream",
       "stream": "stdout",
       "text": [
        "\r",
        "gbm Model Build Progress: [##################################                ] 69%"
       ]
      },
      {
       "output_type": "stream",
       "stream": "stdout",
       "text": [
        "\r",
        "gbm Model Build Progress: [#######################################           ] 79%"
       ]
      },
      {
       "output_type": "stream",
       "stream": "stdout",
       "text": [
        "\r",
        "gbm Model Build Progress: [##################################################] 100%"
       ]
      },
      {
       "output_type": "stream",
       "stream": "stdout",
       "text": [
        "\n",
        "Model Details"
       ]
      },
      {
       "output_type": "stream",
       "stream": "stdout",
       "text": [
        "\n",
        "=============\n",
        "H2OBinomialModel :  Gradient Boosting Machine\n",
        "Model Key:  GBMModel__83569002bd127b1b24610fe4ac52444c\n",
        "\n",
        "Model Summary:\n",
        "\n"
       ]
      },
      {
       "html": [
        "<div style=\"overflow:auto\"><table style=\"width:50%\"><tr><td></td>\n",
        "<td>number_of_trees</td>\n",
        "<td>model_size_in_bytes</td>\n",
        "<td>min_depth</td>\n",
        "<td>max_depth</td>\n",
        "<td>mean_depth</td>\n",
        "<td>min_leaves</td>\n",
        "<td>max_leaves</td>\n",
        "<td>mean_leaves</td></tr>\n",
        "<tr><td></td>\n",
        "<td>100.0</td>\n",
        "<td>21889.0</td>\n",
        "<td>3.0</td>\n",
        "<td>3.0</td>\n",
        "<td>3.0</td>\n",
        "<td>8.0</td>\n",
        "<td>8.0</td>\n",
        "<td>8.0</td></tr></table></div>"
       ],
       "metadata": {},
       "output_type": "display_data",
       "text": [
        "    number_of_trees    model_size_in_bytes    min_depth    max_depth    mean_depth    min_leaves    max_leaves    mean_leaves\n",
        "--  -----------------  ---------------------  -----------  -----------  ------------  ------------  ------------  -------------\n",
        "    100                21889                  3            3            3             8             8             8"
       ]
      },
      {
       "output_type": "stream",
       "stream": "stdout",
       "text": [
        "\n",
        "\n",
        "ModelMetricsBinomial: gbm\n",
        "** Reported on train data. **\n",
        "\n",
        "MSE: 0.224935884507\n",
        "R^2: 0.0917523735414\n",
        "LogLoss: 0.641870843139\n",
        "AUC: 0.700860264576\n",
        "Gini: 0.401720529152\n",
        "\n",
        "Confusion Matrix (Act/Pred) for max f1 @ threshold = 0.45100329685:\n",
        "\n"
       ]
      },
      {
       "html": [
        "<div style=\"overflow:auto\"><table style=\"width:50%\"><tr><td></td>\n",
        "<td>NO</td>\n",
        "<td>YES</td>\n",
        "<td>Error</td>\n",
        "<td>Rate</td></tr>\n",
        "<tr><td>NO</td>\n",
        "<td>2703.0</td>\n",
        "<td>6143.0</td>\n",
        "<td>0.6944</td>\n",
        "<td> (6143.0/8846.0)</td></tr>\n",
        "<tr><td>YES</td>\n",
        "<td>1067.0</td>\n",
        "<td>9680.0</td>\n",
        "<td>0.0993</td>\n",
        "<td> (1067.0/10747.0)</td></tr>\n",
        "<tr><td>Total</td>\n",
        "<td>3770.0</td>\n",
        "<td>15823.0</td>\n",
        "<td>0.7937</td>\n",
        "<td> (0.7937/19593.0)</td></tr></table></div>"
       ],
       "metadata": {},
       "output_type": "display_data",
       "text": [
        "       NO    YES    Error    Rate\n",
        "-----  ----  -----  -------  ----------------\n",
        "NO     2703  6143   0.6944   (6143.0/8846.0)\n",
        "YES    1067  9680   0.0993   (1067.0/10747.0)\n",
        "Total  3770  15823  0.7937   (0.7937/19593.0)"
       ]
      },
      {
       "output_type": "stream",
       "stream": "stdout",
       "text": [
        "\n",
        "Maximum Metrics:\n",
        "\n"
       ]
      },
      {
       "html": [
        "<div style=\"overflow:auto\"><table style=\"width:50%\"><tr><td>metric</td>\n",
        "<td>threshold</td>\n",
        "<td>value</td>\n",
        "<td>idx</td></tr>\n",
        "<tr><td>f1</td>\n",
        "<td>0.45100329685</td>\n",
        "<td>0.728641324802</td>\n",
        "<td>331.0</td></tr>\n",
        "<tr><td>f2</td>\n",
        "<td>0.376803747622</td>\n",
        "<td>0.859382506486</td>\n",
        "<td>396.0</td></tr>\n",
        "<tr><td>f0point5</td>\n",
        "<td>0.538983613241</td>\n",
        "<td>0.683115048095</td>\n",
        "<td>218.0</td></tr>\n",
        "<tr><td>accuracy</td>\n",
        "<td>0.521859623661</td>\n",
        "<td>0.654366355331</td>\n",
        "<td>240.0</td></tr>\n",
        "<tr><td>precision</td>\n",
        "<td>0.681933134563</td>\n",
        "<td>0.901162790698</td>\n",
        "<td>8.0</td></tr>\n",
        "<tr><td>absolute_MCC</td>\n",
        "<td>0.538983613241</td>\n",
        "<td>0.299292001087</td>\n",
        "<td>218.0</td></tr>\n",
        "<tr><td>min_per_class_accuracy</td>\n",
        "<td>0.54865448394</td>\n",
        "<td>0.644551967991</td>\n",
        "<td>204.0</td></tr>\n",
        "<tr><td>tns</td>\n",
        "<td>0.690888629343</td>\n",
        "<td>8833.0</td>\n",
        "<td>0.0</td></tr>\n",
        "<tr><td>fns</td>\n",
        "<td>0.690888629343</td>\n",
        "<td>10648.0</td>\n",
        "<td>0.0</td></tr>\n",
        "<tr><td>fps</td>\n",
        "<td>0.371575110378</td>\n",
        "<td>8846.0</td>\n",
        "<td>399.0</td></tr>\n",
        "<tr><td>tps</td>\n",
        "<td>0.371575110378</td>\n",
        "<td>10747.0</td>\n",
        "<td>399.0</td></tr>\n",
        "<tr><td>tnr</td>\n",
        "<td>0.690888629343</td>\n",
        "<td>0.998530409225</td>\n",
        "<td>0.0</td></tr>\n",
        "<tr><td>fnr</td>\n",
        "<td>0.690888629343</td>\n",
        "<td>0.990788126919</td>\n",
        "<td>0.0</td></tr>\n",
        "<tr><td>fpr</td>\n",
        "<td>0.371575110378</td>\n",
        "<td>1.0</td>\n",
        "<td>399.0</td></tr>\n",
        "<tr><td>tpr</td>\n",
        "<td>0.371575110378</td>\n",
        "<td>1.0</td>\n",
        "<td>399.0</td></tr></table></div>"
       ],
       "metadata": {},
       "output_type": "display_data",
       "text": [
        "metric                  threshold    value     idx\n",
        "----------------------  -----------  --------  -----\n",
        "f1                      0.451003     0.728641  331\n",
        "f2                      0.376804     0.859383  396\n",
        "f0point5                0.538984     0.683115  218\n",
        "accuracy                0.52186      0.654366  240\n",
        "precision               0.681933     0.901163  8\n",
        "absolute_MCC            0.538984     0.299292  218\n",
        "min_per_class_accuracy  0.548654     0.644552  204\n",
        "tns                     0.690889     8833      0\n",
        "fns                     0.690889     10648     0\n",
        "fps                     0.371575     8846      399\n",
        "tps                     0.371575     10747     399\n",
        "tnr                     0.690889     0.99853   0\n",
        "fnr                     0.690889     0.990788  0\n",
        "fpr                     0.371575     1         399\n",
        "tpr                     0.371575     1         399"
       ]
      },
      {
       "output_type": "stream",
       "stream": "stdout",
       "text": [
        "\n",
        "ModelMetricsBinomial: gbm\n",
        "** Reported on validation data. **\n",
        "\n",
        "MSE: 0.2275183899\n",
        "R^2: 0.0842002842717\n",
        "LogLoss: 0.647224224791\n",
        "AUC: 0.68803214641\n",
        "Gini: 0.37606429282\n",
        "\n",
        "Confusion Matrix (Act/Pred) for max f1 @ threshold = 0.429662357774:\n",
        "\n"
       ]
      },
      {
       "html": [
        "<div style=\"overflow:auto\"><table style=\"width:50%\"><tr><td></td>\n",
        "<td>NO</td>\n",
        "<td>YES</td>\n",
        "<td>Error</td>\n",
        "<td>Rate</td></tr>\n",
        "<tr><td>NO</td>\n",
        "<td>435.0</td>\n",
        "<td>1785.0</td>\n",
        "<td>0.8041</td>\n",
        "<td> (1785.0/2220.0)</td></tr>\n",
        "<tr><td>YES</td>\n",
        "<td>137.0</td>\n",
        "<td>2471.0</td>\n",
        "<td>0.0525</td>\n",
        "<td> (137.0/2608.0)</td></tr>\n",
        "<tr><td>Total</td>\n",
        "<td>572.0</td>\n",
        "<td>4256.0</td>\n",
        "<td>0.8566</td>\n",
        "<td> (0.8566/4828.0)</td></tr></table></div>"
       ],
       "metadata": {},
       "output_type": "display_data",
       "text": [
        "       NO    YES    Error    Rate\n",
        "-----  ----  -----  -------  ---------------\n",
        "NO     435   1785   0.8041   (1785.0/2220.0)\n",
        "YES    137   2471   0.0525   (137.0/2608.0)\n",
        "Total  572   4256   0.8566   (0.8566/4828.0)"
       ]
      },
      {
       "output_type": "stream",
       "stream": "stdout",
       "text": [
        "\n",
        "Maximum Metrics:\n",
        "\n"
       ]
      },
      {
       "html": [
        "<div style=\"overflow:auto\"><table style=\"width:50%\"><tr><td>metric</td>\n",
        "<td>threshold</td>\n",
        "<td>value</td>\n",
        "<td>idx</td></tr>\n",
        "<tr><td>f1</td>\n",
        "<td>0.429662357774</td>\n",
        "<td>0.719988344988</td>\n",
        "<td>356.0</td></tr>\n",
        "<tr><td>f2</td>\n",
        "<td>0.376803773922</td>\n",
        "<td>0.854684009986</td>\n",
        "<td>396.0</td></tr>\n",
        "<tr><td>f0point5</td>\n",
        "<td>0.539014213255</td>\n",
        "<td>0.674244668246</td>\n",
        "<td>217.0</td></tr>\n",
        "<tr><td>accuracy</td>\n",
        "<td>0.526662150196</td>\n",
        "<td>0.65057995029</td>\n",
        "<td>232.0</td></tr>\n",
        "<tr><td>precision</td>\n",
        "<td>0.67636982654</td>\n",
        "<td>0.835443037975</td>\n",
        "<td>18.0</td></tr>\n",
        "<tr><td>absolute_MCC</td>\n",
        "<td>0.539014213255</td>\n",
        "<td>0.292962334179</td>\n",
        "<td>217.0</td></tr>\n",
        "<tr><td>min_per_class_accuracy</td>\n",
        "<td>0.548567487854</td>\n",
        "<td>0.631901840491</td>\n",
        "<td>202.0</td></tr>\n",
        "<tr><td>tns</td>\n",
        "<td>0.690888600455</td>\n",
        "<td>2213.0</td>\n",
        "<td>0.0</td></tr>\n",
        "<tr><td>fns</td>\n",
        "<td>0.690888600455</td>\n",
        "<td>2589.0</td>\n",
        "<td>0.0</td></tr>\n",
        "<tr><td>fps</td>\n",
        "<td>0.371575143654</td>\n",
        "<td>2220.0</td>\n",
        "<td>399.0</td></tr>\n",
        "<tr><td>tps</td>\n",
        "<td>0.371575143654</td>\n",
        "<td>2608.0</td>\n",
        "<td>399.0</td></tr>\n",
        "<tr><td>tnr</td>\n",
        "<td>0.690888600455</td>\n",
        "<td>0.996846846847</td>\n",
        "<td>0.0</td></tr>\n",
        "<tr><td>fnr</td>\n",
        "<td>0.690888600455</td>\n",
        "<td>0.992714723926</td>\n",
        "<td>0.0</td></tr>\n",
        "<tr><td>fpr</td>\n",
        "<td>0.371575143654</td>\n",
        "<td>1.0</td>\n",
        "<td>399.0</td></tr>\n",
        "<tr><td>tpr</td>\n",
        "<td>0.371575143654</td>\n",
        "<td>1.0</td>\n",
        "<td>399.0</td></tr></table></div>"
       ],
       "metadata": {},
       "output_type": "display_data",
       "text": [
        "metric                  threshold    value     idx\n",
        "----------------------  -----------  --------  -----\n",
        "f1                      0.429662     0.719988  356\n",
        "f2                      0.376804     0.854684  396\n",
        "f0point5                0.539014     0.674245  217\n",
        "accuracy                0.526662     0.65058   232\n",
        "precision               0.67637      0.835443  18\n",
        "absolute_MCC            0.539014     0.292962  217\n",
        "min_per_class_accuracy  0.548567     0.631902  202\n",
        "tns                     0.690889     2213      0\n",
        "fns                     0.690889     2589      0\n",
        "fps                     0.371575     2220      399\n",
        "tps                     0.371575     2608      399\n",
        "tnr                     0.690889     0.996847  0\n",
        "fnr                     0.690889     0.992715  0\n",
        "fpr                     0.371575     1         399\n",
        "tpr                     0.371575     1         399"
       ]
      },
      {
       "output_type": "stream",
       "stream": "stdout",
       "text": [
        "\n",
        "Scoring History:\n",
        "\n"
       ]
      },
      {
       "html": [
        "<div style=\"overflow:auto\"><table style=\"width:50%\"><tr><td></td>\n",
        "<td>timestamp</td>\n",
        "<td>duration</td>\n",
        "<td>number_of_trees</td>\n",
        "<td>training_MSE</td>\n",
        "<td>training_logloss</td>\n",
        "<td>training_AUC</td>\n",
        "<td>training_classification_error</td>\n",
        "<td>validation_MSE</td>\n",
        "<td>validation_logloss</td>\n",
        "<td>validation_AUC</td>\n",
        "<td>validation_classification_error</td></tr>\n",
        "<tr><td></td>\n",
        "<td>2015-05-22 13:19:39</td>\n",
        "<td> 0.073 sec</td>\n",
        "<td>1.0</td>\n",
        "<td>0.247227169696</td>\n",
        "<td>0.687586187163</td>\n",
        "<td>0.662122035392</td>\n",
        "<td>0.385698974123</td>\n",
        "<td>0.248060763596</td>\n",
        "<td>0.689258980589</td>\n",
        "<td>0.650669457801</td>\n",
        "<td>0.386909693455</td></tr>\n",
        "<tr><td></td>\n",
        "<td>2015-05-22 13:19:39</td>\n",
        "<td> 0.111 sec</td>\n",
        "<td>2.0</td>\n",
        "<td>0.246816106849</td>\n",
        "<td>0.686756385519</td>\n",
        "<td>0.66222330505</td>\n",
        "<td>0.385698974123</td>\n",
        "<td>0.247675119161</td>\n",
        "<td>0.688480563888</td>\n",
        "<td>0.650790619991</td>\n",
        "<td>0.386909693455</td></tr>\n",
        "<tr><td></td>\n",
        "<td>2015-05-22 13:19:39</td>\n",
        "<td> 0.142 sec</td>\n",
        "<td>3.0</td>\n",
        "<td>0.246413615521</td>\n",
        "<td>0.685943950168</td>\n",
        "<td>0.66257594751</td>\n",
        "<td>0.385698974123</td>\n",
        "<td>0.247291514047</td>\n",
        "<td>0.687706372792</td>\n",
        "<td>0.65123718427</td>\n",
        "<td>0.386909693455</td></tr>\n",
        "<tr><td></td>\n",
        "<td>2015-05-22 13:19:39</td>\n",
        "<td> 0.158 sec</td>\n",
        "<td>4.0</td>\n",
        "<td>0.246019285467</td>\n",
        "<td>0.685148026987</td>\n",
        "<td>0.662749723193</td>\n",
        "<td>0.386464553667</td>\n",
        "<td>0.246920994436</td>\n",
        "<td>0.686958679422</td>\n",
        "<td>0.651638409882</td>\n",
        "<td>0.387116818558</td></tr>\n",
        "<tr><td></td>\n",
        "<td>2015-05-22 13:19:39</td>\n",
        "<td> 0.178 sec</td>\n",
        "<td>5.0</td>\n",
        "<td>0.245631966235</td>\n",
        "<td>0.684366278301</td>\n",
        "<td>0.662702378116</td>\n",
        "<td>0.386464553667</td>\n",
        "<td>0.246552236947</td>\n",
        "<td>0.68621460685</td>\n",
        "<td>0.651539096612</td>\n",
        "<td>0.387116818558</td></tr>\n",
        "<tr><td>---</td>\n",
        "<td>---</td>\n",
        "<td>---</td>\n",
        "<td>---</td>\n",
        "<td>---</td>\n",
        "<td>---</td>\n",
        "<td>---</td>\n",
        "<td>---</td>\n",
        "<td>---</td>\n",
        "<td>---</td>\n",
        "<td>---</td>\n",
        "<td>---</td></tr>\n",
        "<tr><td></td>\n",
        "<td>2015-05-22 13:19:42</td>\n",
        "<td> 3.694 sec</td>\n",
        "<td>80.0</td>\n",
        "<td>0.227535224089</td>\n",
        "<td>0.647373511398</td>\n",
        "<td>0.697257952158</td>\n",
        "<td>0.371101924157</td>\n",
        "<td>0.229781026205</td>\n",
        "<td>0.651996607902</td>\n",
        "<td>0.68473434132</td>\n",
        "<td>0.381731565866</td></tr>\n",
        "<tr><td></td>\n",
        "<td>2015-05-22 13:19:43</td>\n",
        "<td> 3.777 sec</td>\n",
        "<td>81.0</td>\n",
        "<td>0.227384102324</td>\n",
        "<td>0.647055090045</td>\n",
        "<td>0.697614870507</td>\n",
        "<td>0.371101924157</td>\n",
        "<td>0.229651399848</td>\n",
        "<td>0.651724668276</td>\n",
        "<td>0.685020968054</td>\n",
        "<td>0.381731565866</td></tr>\n",
        "<tr><td></td>\n",
        "<td>2015-05-22 13:19:43</td>\n",
        "<td> 3.861 sec</td>\n",
        "<td>82.0</td>\n",
        "<td>0.227239988942</td>\n",
        "<td>0.646750400551</td>\n",
        "<td>0.697702497293</td>\n",
        "<td>0.370846730975</td>\n",
        "<td>0.229522678951</td>\n",
        "<td>0.651453477146</td>\n",
        "<td>0.685221321782</td>\n",
        "<td>0.381731565866</td></tr>\n",
        "<tr><td></td>\n",
        "<td>2015-05-22 13:19:43</td>\n",
        "<td> 3.947 sec</td>\n",
        "<td>83.0</td>\n",
        "<td>0.227073325763</td>\n",
        "<td>0.646400341159</td>\n",
        "<td>0.697905978041</td>\n",
        "<td>0.370846730975</td>\n",
        "<td>0.229386828575</td>\n",
        "<td>0.651167496306</td>\n",
        "<td>0.685343433925</td>\n",
        "<td>0.381731565866</td></tr>\n",
        "<tr><td></td>\n",
        "<td>2015-05-22 13:19:43</td>\n",
        "<td> 4.183 sec</td>\n",
        "<td>100.0</td>\n",
        "<td>0.224935884507</td>\n",
        "<td>0.641870843139</td>\n",
        "<td>0.700860264576</td>\n",
        "<td>0.367988567345</td>\n",
        "<td>0.2275183899</td>\n",
        "<td>0.647224224791</td>\n",
        "<td>0.68803214641</td>\n",
        "<td>0.398094449047</td></tr></table></div>"
       ],
       "metadata": {},
       "output_type": "display_data",
       "text": [
        "     timestamp            duration    number_of_trees    training_MSE    training_logloss    training_AUC    training_classification_error    validation_MSE    validation_logloss    validation_AUC    validation_classification_error\n",
        "---  -------------------  ----------  -----------------  --------------  ------------------  --------------  -------------------------------  ----------------  --------------------  ----------------  ---------------------------------\n",
        "     2015-05-22 13:19:39  0.073 sec   1.0                0.247227169696  0.687586187163      0.662122035392  0.385698974123                   0.248060763596    0.689258980589        0.650669457801    0.386909693455\n",
        "     2015-05-22 13:19:39  0.111 sec   2.0                0.246816106849  0.686756385519      0.66222330505   0.385698974123                   0.247675119161    0.688480563888        0.650790619991    0.386909693455\n",
        "     2015-05-22 13:19:39  0.142 sec   3.0                0.246413615521  0.685943950168      0.66257594751   0.385698974123                   0.247291514047    0.687706372792        0.65123718427     0.386909693455\n",
        "     2015-05-22 13:19:39  0.158 sec   4.0                0.246019285467  0.685148026987      0.662749723193  0.386464553667                   0.246920994436    0.686958679422        0.651638409882    0.387116818558\n",
        "     2015-05-22 13:19:39  0.178 sec   5.0                0.245631966235  0.684366278301      0.662702378116  0.386464553667                   0.246552236947    0.68621460685         0.651539096612    0.387116818558\n",
        "---  ---                  ---         ---                ---             ---                 ---             ---                              ---               ---                   ---               ---\n",
        "     2015-05-22 13:19:42  3.694 sec   80.0               0.227535224089  0.647373511398      0.697257952158  0.371101924157                   0.229781026205    0.651996607902        0.68473434132     0.381731565866\n",
        "     2015-05-22 13:19:43  3.777 sec   81.0               0.227384102324  0.647055090045      0.697614870507  0.371101924157                   0.229651399848    0.651724668276        0.685020968054    0.381731565866\n",
        "     2015-05-22 13:19:43  3.861 sec   82.0               0.227239988942  0.646750400551      0.697702497293  0.370846730975                   0.229522678951    0.651453477146        0.685221321782    0.381731565866\n",
        "     2015-05-22 13:19:43  3.947 sec   83.0               0.227073325763  0.646400341159      0.697905978041  0.370846730975                   0.229386828575    0.651167496306        0.685343433925    0.381731565866\n",
        "     2015-05-22 13:19:43  4.183 sec   100.0              0.224935884507  0.641870843139      0.700860264576  0.367988567345                   0.2275183899      0.647224224791        0.68803214641     0.398094449047"
       ]
      },
      {
       "output_type": "stream",
       "stream": "stdout",
       "text": [
        "\n",
        "Variable Importances:\n",
        "\n"
       ]
      },
      {
       "html": [
        "<div style=\"overflow:auto\"><table style=\"width:50%\"><tr><td>variable</td>\n",
        "<td>relative_importance</td>\n",
        "<td>scaled_importance</td>\n",
        "<td>percentage</td></tr>\n",
        "<tr><td>Origin</td>\n",
        "<td>17213.3203125</td>\n",
        "<td>1.0</td>\n",
        "<td>0.685965839068</td></tr>\n",
        "<tr><td>Dest</td>\n",
        "<td>4465.96972656</td>\n",
        "<td>0.259448476266</td>\n",
        "<td>0.177972791717</td></tr>\n",
        "<tr><td>UniqueCarrier</td>\n",
        "<td>1887.43884277</td>\n",
        "<td>0.109649899526</td>\n",
        "<td>0.075216085332</td></tr>\n",
        "<tr><td>fDayofMonth</td>\n",
        "<td>1266.3125</td>\n",
        "<td>0.0735658476698</td>\n",
        "<td>0.0504636584235</td></tr>\n",
        "<tr><td>fMonth</td>\n",
        "<td>203.423248291</td>\n",
        "<td>0.0118177809161</td>\n",
        "<td>0.008106594002</td></tr>\n",
        "<tr><td>fDayOfWeek</td>\n",
        "<td>57.0886230469</td>\n",
        "<td>0.00331653754246</td>\n",
        "<td>0.00227503145812</td></tr>\n",
        "<tr><td>Distance</td>\n",
        "<td>0.0</td>\n",
        "<td>0.0</td>\n",
        "<td>0.0</td></tr></table></div>"
       ],
       "metadata": {},
       "output_type": "display_data",
       "text": [
        "variable       relative_importance    scaled_importance    percentage\n",
        "-------------  ---------------------  -------------------  ------------\n",
        "Origin         17213.3                1                    0.685966\n",
        "Dest           4465.97                0.259448             0.177973\n",
        "UniqueCarrier  1887.44                0.10965              0.0752161\n",
        "fDayofMonth    1266.31                0.0735658            0.0504637\n",
        "fMonth         203.423                0.0118178            0.00810659\n",
        "fDayOfWeek     57.0886                0.00331654           0.00227503\n",
        "Distance       0                      0                    0"
       ]
      }
     ],
     "prompt_number": 5
    },
    {
     "cell_type": "code",
     "collapsed": false,
     "input": [
      "#glm\n",
      "glm = h2o.glm(x=air_train[myX], \n",
      "              y=air_train[myY],\n",
      "              validation_x=air_valid[myX],\n",
      "              validation_y=air_valid[myY],\n",
      "              family = \"binomial\", \n",
      "              solver=\"L_BFGS\")\n",
      "glm.pprint_coef()\n",
      "    "
     ],
     "language": "python",
     "metadata": {},
     "outputs": [
      {
       "output_type": "stream",
       "stream": "stdout",
       "text": [
        "\n",
        "\r",
        "glm Model Build Progress: [                                                  ] 00%"
       ]
      },
      {
       "output_type": "stream",
       "stream": "stdout",
       "text": [
        "\r",
        "glm Model Build Progress: [######                                            ] 12%"
       ]
      },
      {
       "output_type": "stream",
       "stream": "stdout",
       "text": [
        "\r",
        "glm Model Build Progress: [############                                      ] 25%"
       ]
      },
      {
       "output_type": "stream",
       "stream": "stdout",
       "text": [
        "\r",
        "glm Model Build Progress: [##################################################] 100%"
       ]
      },
      {
       "output_type": "stream",
       "stream": "stdout",
       "text": [
        "\n",
        "\n"
       ]
      },
      {
       "output_type": "stream",
       "stream": "stdout",
       "text": [
        "Coefficients:\n",
        "\n"
       ]
      },
      {
       "html": [
        "<div style=\"overflow:auto\"><table style=\"width:50%\"><tr><td>names</td>\n",
        "<td>coefficients</td>\n",
        "<td>standardized_coefficients</td></tr>\n",
        "<tr><td>Intercept</td>\n",
        "<td>0.0373707847069</td>\n",
        "<td>0.195063579531</td></tr>\n",
        "<tr><td>Origin.ABE</td>\n",
        "<td>-0.0401578633536</td>\n",
        "<td>-0.0401578633536</td></tr>\n",
        "<tr><td>Origin.ABQ</td>\n",
        "<td>-0.0938267138619</td>\n",
        "<td>-0.0938267138619</td></tr>\n",
        "<tr><td>Origin.ACY</td>\n",
        "<td>-0.135339354063</td>\n",
        "<td>-0.135339354063</td></tr>\n",
        "<tr><td>Origin.ALB</td>\n",
        "<td>0.0711798459683</td>\n",
        "<td>0.0711798459683</td></tr>\n",
        "<tr><td>---</td>\n",
        "<td>---</td>\n",
        "<td>---</td></tr>\n",
        "<tr><td>fDayOfWeek.f6</td>\n",
        "<td>-0.156236716144</td>\n",
        "<td>-0.156236716144</td></tr>\n",
        "<tr><td>fDayOfWeek.f7</td>\n",
        "<td>0.0472831537707</td>\n",
        "<td>0.0472831537707</td></tr>\n",
        "<tr><td>fMonth.f1</td>\n",
        "<td>-0.221575958907</td>\n",
        "<td>-0.221575958907</td></tr>\n",
        "<tr><td>fMonth.f10</td>\n",
        "<td>0.208857303935</td>\n",
        "<td>0.208857303935</td></tr>\n",
        "<tr><td>Distance</td>\n",
        "<td>0.00020866333889</td>\n",
        "<td>0.131663819411</td></tr></table></div>"
       ],
       "metadata": {},
       "output_type": "display_data",
       "text": [
        "names          coefficients      standardized_coefficients\n",
        "-------------  ----------------  ---------------------------\n",
        "Intercept      0.0373707847069   0.195063579531\n",
        "Origin.ABE     -0.0401578633536  -0.0401578633536\n",
        "Origin.ABQ     -0.0938267138619  -0.0938267138619\n",
        "Origin.ACY     -0.135339354063   -0.135339354063\n",
        "Origin.ALB     0.0711798459683   0.0711798459683\n",
        "---            ---               ---\n",
        "fDayOfWeek.f6  -0.156236716144   -0.156236716144\n",
        "fDayOfWeek.f7  0.0472831537707   0.0472831537707\n",
        "fMonth.f1      -0.221575958907   -0.221575958907\n",
        "fMonth.f10     0.208857303935    0.208857303935\n",
        "Distance       0.00020866333889  0.131663819411"
       ]
      },
      {
       "output_type": "stream",
       "stream": "stdout",
       "text": [
        "\n"
       ]
      }
     ],
     "prompt_number": 6
    },
    {
     "cell_type": "code",
     "collapsed": false,
     "input": [
      "#uploading test file to h2o\n",
      "air_test = h2o.import_file(path=h2o.locate(\"smalldata/airlines/AirlinesTest.csv.zip\"))"
     ],
     "language": "python",
     "metadata": {},
     "outputs": [
      {
       "output_type": "stream",
       "stream": "stdout",
       "text": [
        "\n",
        "\r",
        "Parse Progress: [                                                  ] 00%"
       ]
      },
      {
       "output_type": "stream",
       "stream": "stdout",
       "text": [
        "\r",
        "Parse Progress: [##################################################] 100%"
       ]
      },
      {
       "output_type": "stream",
       "stream": "stdout",
       "text": [
        "\n",
        "Imported  /Users/ece/0xdata/h2o-dev/smalldata/airlines/AirlinesTest.csv.zip . Parsed 2,691 rows and 12 cols\n"
       ]
      }
     ],
     "prompt_number": 7
    },
    {
     "cell_type": "code",
     "collapsed": false,
     "input": [
      "# predicting & performance on test file\n",
      "gbm_pred = gbm.predict(air_test)\n",
      "print \"GBM predictions: \"\n",
      "gbm_pred.head()\n",
      "\n",
      "gbm_perf = gbm.model_performance(air_test)\n",
      "print \"GBM performance: \"\n",
      "gbm_perf.show()\n",
      "\n",
      "glm_pred = glm.predict(air_test)\n",
      "print \"GLM predictions: \"\n",
      "glm_pred.head()\n",
      "\n",
      "glm_perf = glm.model_performance(air_test)\n",
      "print \"GLM performance: \"\n",
      "glm_perf.show()"
     ],
     "language": "python",
     "metadata": {},
     "outputs": [
      {
       "output_type": "stream",
       "stream": "stdout",
       "text": [
        "GBM predictions: \n",
        "First 10 rows and first 3 columns: \n"
       ]
      },
      {
       "html": [
        "<div style=\"overflow:auto\"><table style=\"width:50%\"><tr><td>Row ID</td>\n",
        "<td>predict</td>\n",
        "<td>NO</td>\n",
        "<td>YES</td></tr>\n",
        "<tr><td>1</td>\n",
        "<td>YES</td>\n",
        "<td>0.47525141674393157</td>\n",
        "<td>0.5247485832560684</td></tr>\n",
        "<tr><td>2</td>\n",
        "<td>YES</td>\n",
        "<td>0.48024938136117845</td>\n",
        "<td>0.5197506186388215</td></tr>\n",
        "<tr><td>3</td>\n",
        "<td>YES</td>\n",
        "<td>0.48024938136117845</td>\n",
        "<td>0.5197506186388215</td></tr>\n",
        "<tr><td>4</td>\n",
        "<td>YES</td>\n",
        "<td>0.402168737810524</td>\n",
        "<td>0.597831262189476</td></tr>\n",
        "<tr><td>5</td>\n",
        "<td>YES</td>\n",
        "<td>0.5136446294303063</td>\n",
        "<td>0.48635537056969363</td></tr>\n",
        "<tr><td>6</td>\n",
        "<td>YES</td>\n",
        "<td>0.5136446294303063</td>\n",
        "<td>0.48635537056969363</td></tr>\n",
        "<tr><td>7</td>\n",
        "<td>YES</td>\n",
        "<td>0.5478525167901855</td>\n",
        "<td>0.45214748320981446</td></tr>\n",
        "<tr><td>8</td>\n",
        "<td>YES</td>\n",
        "<td>0.5580925509767907</td>\n",
        "<td>0.4419074490232094</td></tr>\n",
        "<tr><td>9</td>\n",
        "<td>YES</td>\n",
        "<td>0.5580925509767907</td>\n",
        "<td>0.4419074490232094</td></tr>\n",
        "<tr><td>10</td>\n",
        "<td>YES</td>\n",
        "<td>0.5580925509767907</td>\n",
        "<td>0.4419074490232094</td></tr></table></div>"
       ],
       "metadata": {},
       "output_type": "display_data",
       "text": [
        "  Row ID  predict          NO       YES\n",
        "--------  ---------  --------  --------\n",
        "       1  YES        0.475251  0.524749\n",
        "       2  YES        0.480249  0.519751\n",
        "       3  YES        0.480249  0.519751\n",
        "       4  YES        0.402169  0.597831\n",
        "       5  YES        0.513645  0.486355\n",
        "       6  YES        0.513645  0.486355\n",
        "       7  YES        0.547853  0.452147\n",
        "       8  YES        0.558093  0.441907\n",
        "       9  YES        0.558093  0.441907\n",
        "      10  YES        0.558093  0.441907"
       ]
      },
      {
       "output_type": "stream",
       "stream": "stdout",
       "text": [
        "GBM performance: \n",
        "\n",
        "ModelMetricsBinomial: gbm\n",
        "** Reported on test data. **\n",
        "\n",
        "MSE: 0.226368400011\n",
        "R^2: 0.0865312024067\n",
        "LogLoss: 0.644861693711\n",
        "AUC: 0.692409878597\n",
        "Gini: 0.384819757194\n",
        "\n",
        "Confusion Matrix (Act/Pred) for max f1 @ threshold = 0.441901440341:\n",
        "\n"
       ]
      },
      {
       "html": [
        "<div style=\"overflow:auto\"><table style=\"width:50%\"><tr><td></td>\n",
        "<td>NO</td>\n",
        "<td>YES</td>\n",
        "<td>Error</td>\n",
        "<td>Rate</td></tr>\n",
        "<tr><td>NO</td>\n",
        "<td>293.0</td>\n",
        "<td>924.0</td>\n",
        "<td>0.7592</td>\n",
        "<td> (924.0/1217.0)</td></tr>\n",
        "<tr><td>YES</td>\n",
        "<td>112.0</td>\n",
        "<td>1362.0</td>\n",
        "<td>0.076</td>\n",
        "<td> (112.0/1474.0)</td></tr>\n",
        "<tr><td>Total</td>\n",
        "<td>405.0</td>\n",
        "<td>2286.0</td>\n",
        "<td>0.8352</td>\n",
        "<td> (0.8352/2691.0)</td></tr></table></div>"
       ],
       "metadata": {},
       "output_type": "display_data",
       "text": [
        "       NO    YES    Error    Rate\n",
        "-----  ----  -----  -------  ---------------\n",
        "NO     293   924    0.7592   (924.0/1217.0)\n",
        "YES    112   1362   0.076    (112.0/1474.0)\n",
        "Total  405   2286   0.8352   (0.8352/2691.0)"
       ]
      },
      {
       "output_type": "stream",
       "stream": "stdout",
       "text": [
        "\n",
        "Maximum Metrics:\n",
        "\n"
       ]
      },
      {
       "html": [
        "<div style=\"overflow:auto\"><table style=\"width:50%\"><tr><td>metric</td>\n",
        "<td>threshold</td>\n",
        "<td>value</td>\n",
        "<td>idx</td></tr>\n",
        "<tr><td>f1</td>\n",
        "<td>0.441901440341</td>\n",
        "<td>0.724468085106</td>\n",
        "<td>339.0</td></tr>\n",
        "<tr><td>f2</td>\n",
        "<td>0.383773415183</td>\n",
        "<td>0.859786810355</td>\n",
        "<td>391.0</td></tr>\n",
        "<tr><td>f0point5</td>\n",
        "<td>0.543468874795</td>\n",
        "<td>0.6851506265</td>\n",
        "<td>213.0</td></tr>\n",
        "<tr><td>accuracy</td>\n",
        "<td>0.522296596314</td>\n",
        "<td>0.657748049052</td>\n",
        "<td>242.0</td></tr>\n",
        "<tr><td>precision</td>\n",
        "<td>0.678096525394</td>\n",
        "<td>0.847222222222</td>\n",
        "<td>14.0</td></tr>\n",
        "<tr><td>absolute_MCC</td>\n",
        "<td>0.543468874795</td>\n",
        "<td>0.30464489118</td>\n",
        "<td>213.0</td></tr>\n",
        "<tr><td>min_per_class_accuracy</td>\n",
        "<td>0.549319523433</td>\n",
        "<td>0.642469470828</td>\n",
        "<td>206.0</td></tr>\n",
        "<tr><td>tns</td>\n",
        "<td>0.690888600455</td>\n",
        "<td>1213.0</td>\n",
        "<td>0.0</td></tr>\n",
        "<tr><td>fns</td>\n",
        "<td>0.690888600455</td>\n",
        "<td>1461.0</td>\n",
        "<td>0.0</td></tr>\n",
        "<tr><td>fps</td>\n",
        "<td>0.371575143654</td>\n",
        "<td>1217.0</td>\n",
        "<td>399.0</td></tr>\n",
        "<tr><td>tps</td>\n",
        "<td>0.371575143654</td>\n",
        "<td>1474.0</td>\n",
        "<td>399.0</td></tr>\n",
        "<tr><td>tnr</td>\n",
        "<td>0.690888600455</td>\n",
        "<td>0.996713229252</td>\n",
        "<td>0.0</td></tr>\n",
        "<tr><td>fnr</td>\n",
        "<td>0.690888600455</td>\n",
        "<td>0.99118046133</td>\n",
        "<td>0.0</td></tr>\n",
        "<tr><td>fpr</td>\n",
        "<td>0.371575143654</td>\n",
        "<td>1.0</td>\n",
        "<td>399.0</td></tr>\n",
        "<tr><td>tpr</td>\n",
        "<td>0.371575143654</td>\n",
        "<td>1.0</td>\n",
        "<td>399.0</td></tr></table></div>"
       ],
       "metadata": {},
       "output_type": "display_data",
       "text": [
        "metric                  threshold    value     idx\n",
        "----------------------  -----------  --------  -----\n",
        "f1                      0.441901     0.724468  339\n",
        "f2                      0.383773     0.859787  391\n",
        "f0point5                0.543469     0.685151  213\n",
        "accuracy                0.522297     0.657748  242\n",
        "precision               0.678097     0.847222  14\n",
        "absolute_MCC            0.543469     0.304645  213\n",
        "min_per_class_accuracy  0.54932      0.642469  206\n",
        "tns                     0.690889     1213      0\n",
        "fns                     0.690889     1461      0\n",
        "fps                     0.371575     1217      399\n",
        "tps                     0.371575     1474      399\n",
        "tnr                     0.690889     0.996713  0\n",
        "fnr                     0.690889     0.99118   0\n",
        "fpr                     0.371575     1         399\n",
        "tpr                     0.371575     1         399"
       ]
      },
      {
       "output_type": "stream",
       "stream": "stdout",
       "text": [
        "GLM predictions: \n",
        "First 10 rows and first 3 columns: \n"
       ]
      },
      {
       "html": [
        "<div style=\"overflow:auto\"><table style=\"width:50%\"><tr><td>Row ID</td>\n",
        "<td>predict</td>\n",
        "<td>p0</td>\n",
        "<td>p1</td></tr>\n",
        "<tr><td>1</td>\n",
        "<td>YES</td>\n",
        "<td>0.33138044246038023</td>\n",
        "<td>0.6686195575396198</td></tr>\n",
        "<tr><td>2</td>\n",
        "<td>YES</td>\n",
        "<td>0.3914744148501228</td>\n",
        "<td>0.6085255851498772</td></tr>\n",
        "<tr><td>3</td>\n",
        "<td>YES</td>\n",
        "<td>0.36039204225753896</td>\n",
        "<td>0.639607957742461</td></tr>\n",
        "<tr><td>4</td>\n",
        "<td>YES</td>\n",
        "<td>0.4304740051645429</td>\n",
        "<td>0.5695259948354571</td></tr>\n",
        "<tr><td>5</td>\n",
        "<td>YES</td>\n",
        "<td>0.5256165167500713</td>\n",
        "<td>0.4743834832499287</td></tr>\n",
        "<tr><td>6</td>\n",
        "<td>YES</td>\n",
        "<td>0.5562418812088273</td>\n",
        "<td>0.44375811879117266</td></tr>\n",
        "<tr><td>7</td>\n",
        "<td>YES</td>\n",
        "<td>0.48440139277691874</td>\n",
        "<td>0.5155986072230813</td></tr>\n",
        "<tr><td>8</td>\n",
        "<td>YES</td>\n",
        "<td>0.44487802611756044</td>\n",
        "<td>0.5551219738824396</td></tr>\n",
        "<tr><td>9</td>\n",
        "<td>YES</td>\n",
        "<td>0.5819723452658147</td>\n",
        "<td>0.41802765473418535</td></tr>\n",
        "<tr><td>10</td>\n",
        "<td>YES</td>\n",
        "<td>0.5685108555327485</td>\n",
        "<td>0.4314891444672515</td></tr></table></div>"
       ],
       "metadata": {},
       "output_type": "display_data",
       "text": [
        "  Row ID  predict          p0        p1\n",
        "--------  ---------  --------  --------\n",
        "       1  YES        0.33138   0.66862\n",
        "       2  YES        0.391474  0.608526\n",
        "       3  YES        0.360392  0.639608\n",
        "       4  YES        0.430474  0.569526\n",
        "       5  YES        0.525617  0.474383\n",
        "       6  YES        0.556242  0.443758\n",
        "       7  YES        0.484401  0.515599\n",
        "       8  YES        0.444878  0.555122\n",
        "       9  YES        0.581972  0.418028\n",
        "      10  YES        0.568511  0.431489"
       ]
      },
      {
       "output_type": "stream",
       "stream": "stdout",
       "text": [
        "GLM performance: \n",
        "\n",
        "ModelMetricsBinomialGLM: glm\n",
        "** Reported on test data. **\n",
        "\n",
        "MSE: 0.220260505275\n",
        "R^2: 0.111178508566\n",
        "LogLoss: 0.630774448994\n",
        "Null degrees of freedom: 2690\n",
        "Residual degrees of freedom: 2438\n",
        "Null deviance: 3705.94255374\n",
        "Residual deviance: 3394.82808448\n",
        "AIC: 3900.82808448\n",
        "AUC: 0.69739355066\n",
        "Gini: 0.39478710132\n",
        "\n",
        "Confusion Matrix (Act/Pred) for max f1 @ threshold = 0.443988379059:\n",
        "\n"
       ]
      },
      {
       "html": [
        "<div style=\"overflow:auto\"><table style=\"width:50%\"><tr><td></td>\n",
        "<td>NO</td>\n",
        "<td>YES</td>\n",
        "<td>Error</td>\n",
        "<td>Rate</td></tr>\n",
        "<tr><td>NO</td>\n",
        "<td>391.0</td>\n",
        "<td>826.0</td>\n",
        "<td>0.6787</td>\n",
        "<td> (826.0/1217.0)</td></tr>\n",
        "<tr><td>YES</td>\n",
        "<td>161.0</td>\n",
        "<td>1313.0</td>\n",
        "<td>0.1092</td>\n",
        "<td> (161.0/1474.0)</td></tr>\n",
        "<tr><td>Total</td>\n",
        "<td>552.0</td>\n",
        "<td>2139.0</td>\n",
        "<td>0.7879</td>\n",
        "<td> (0.7879/2691.0)</td></tr></table></div>"
       ],
       "metadata": {},
       "output_type": "display_data",
       "text": [
        "       NO    YES    Error    Rate\n",
        "-----  ----  -----  -------  ---------------\n",
        "NO     391   826    0.6787   (826.0/1217.0)\n",
        "YES    161   1313   0.1092   (161.0/1474.0)\n",
        "Total  552   2139   0.7879   (0.7879/2691.0)"
       ]
      },
      {
       "output_type": "stream",
       "stream": "stdout",
       "text": [
        "\n",
        "Maximum Metrics:\n",
        "\n"
       ]
      },
      {
       "html": [
        "<div style=\"overflow:auto\"><table style=\"width:50%\"><tr><td>metric</td>\n",
        "<td>threshold</td>\n",
        "<td>value</td>\n",
        "<td>idx</td></tr>\n",
        "<tr><td>f1</td>\n",
        "<td>0.443988379059</td>\n",
        "<td>0.726819817326</td>\n",
        "<td>284.0</td></tr>\n",
        "<tr><td>f2</td>\n",
        "<td>0.247001441468</td>\n",
        "<td>0.860535860536</td>\n",
        "<td>382.0</td></tr>\n",
        "<tr><td>f0point5</td>\n",
        "<td>0.569158065903</td>\n",
        "<td>0.685638454733</td>\n",
        "<td>183.0</td></tr>\n",
        "<tr><td>accuracy</td>\n",
        "<td>0.540614921318</td>\n",
        "<td>0.655890003716</td>\n",
        "<td>211.0</td></tr>\n",
        "<tr><td>precision</td>\n",
        "<td>0.887237238744</td>\n",
        "<td>1.0</td>\n",
        "<td>0.0</td></tr>\n",
        "<tr><td>absolute_MCC</td>\n",
        "<td>0.569158065903</td>\n",
        "<td>0.303360041004</td>\n",
        "<td>183.0</td></tr>\n",
        "<tr><td>min_per_class_accuracy</td>\n",
        "<td>0.563183947037</td>\n",
        "<td>0.644504748982</td>\n",
        "<td>189.0</td></tr>\n",
        "<tr><td>tns</td>\n",
        "<td>0.887237238744</td>\n",
        "<td>1217.0</td>\n",
        "<td>0.0</td></tr>\n",
        "<tr><td>fns</td>\n",
        "<td>0.887237238744</td>\n",
        "<td>1472.0</td>\n",
        "<td>0.0</td></tr>\n",
        "<tr><td>fps</td>\n",
        "<td>0.186084076673</td>\n",
        "<td>1217.0</td>\n",
        "<td>399.0</td></tr>\n",
        "<tr><td>tps</td>\n",
        "<td>0.215917647428</td>\n",
        "<td>1474.0</td>\n",
        "<td>393.0</td></tr>\n",
        "<tr><td>tnr</td>\n",
        "<td>0.887237238744</td>\n",
        "<td>1.0</td>\n",
        "<td>0.0</td></tr>\n",
        "<tr><td>fnr</td>\n",
        "<td>0.887237238744</td>\n",
        "<td>0.998643147897</td>\n",
        "<td>0.0</td></tr>\n",
        "<tr><td>fpr</td>\n",
        "<td>0.186084076673</td>\n",
        "<td>1.0</td>\n",
        "<td>399.0</td></tr>\n",
        "<tr><td>tpr</td>\n",
        "<td>0.215917647428</td>\n",
        "<td>1.0</td>\n",
        "<td>393.0</td></tr></table></div>"
       ],
       "metadata": {},
       "output_type": "display_data",
       "text": [
        "metric                  threshold    value     idx\n",
        "----------------------  -----------  --------  -----\n",
        "f1                      0.443988     0.72682   284\n",
        "f2                      0.247001     0.860536  382\n",
        "f0point5                0.569158     0.685638  183\n",
        "accuracy                0.540615     0.65589   211\n",
        "precision               0.887237     1         0\n",
        "absolute_MCC            0.569158     0.30336   183\n",
        "min_per_class_accuracy  0.563184     0.644505  189\n",
        "tns                     0.887237     1217      0\n",
        "fns                     0.887237     1472      0\n",
        "fps                     0.186084     1217      399\n",
        "tps                     0.215918     1474      393\n",
        "tnr                     0.887237     1         0\n",
        "fnr                     0.887237     0.998643  0\n",
        "fpr                     0.186084     1         399\n",
        "tpr                     0.215918     1         393"
       ]
      }
     ],
     "prompt_number": 8
    },
    {
     "cell_type": "code",
     "collapsed": false,
     "input": [
      "# Building confusion matrix for test set\n",
      "gbm_CM = gbm_perf.confusion_matrix()\n",
      "print(gbm_CM)\n",
      "print\n",
      "\n",
      "glm_CM = glm_perf.confusion_matrix()\n",
      "print(glm_CM)"
     ],
     "language": "python",
     "metadata": {},
     "outputs": [
      {
       "output_type": "stream",
       "stream": "stdout",
       "text": [
        "\n",
        "Confusion Matrix (Act/Pred) for max f1 @ threshold = 0.441901440341:\n",
        "\n"
       ]
      },
      {
       "html": [
        "<div style=\"overflow:auto\"><table style=\"width:50%\"><tr><td></td>\n",
        "<td>NO</td>\n",
        "<td>YES</td>\n",
        "<td>Error</td>\n",
        "<td>Rate</td></tr>\n",
        "<tr><td>NO</td>\n",
        "<td>293.0</td>\n",
        "<td>924.0</td>\n",
        "<td>0.7592</td>\n",
        "<td> (924.0/1217.0)</td></tr>\n",
        "<tr><td>YES</td>\n",
        "<td>112.0</td>\n",
        "<td>1362.0</td>\n",
        "<td>0.076</td>\n",
        "<td> (112.0/1474.0)</td></tr>\n",
        "<tr><td>Total</td>\n",
        "<td>405.0</td>\n",
        "<td>2286.0</td>\n",
        "<td>0.8352</td>\n",
        "<td> (0.8352/2691.0)</td></tr></table></div>"
       ],
       "metadata": {},
       "output_type": "display_data",
       "text": [
        "       NO    YES    Error    Rate\n",
        "-----  ----  -----  -------  ---------------\n",
        "NO     293   924    0.7592   (924.0/1217.0)\n",
        "YES    112   1362   0.076    (112.0/1474.0)\n",
        "Total  405   2286   0.8352   (0.8352/2691.0)"
       ]
      },
      {
       "output_type": "stream",
       "stream": "stdout",
       "text": [
        "\n",
        "\n",
        "\n",
        "Confusion Matrix (Act/Pred) for max f1 @ threshold = 0.443988379059:\n",
        "\n"
       ]
      },
      {
       "html": [
        "<div style=\"overflow:auto\"><table style=\"width:50%\"><tr><td></td>\n",
        "<td>NO</td>\n",
        "<td>YES</td>\n",
        "<td>Error</td>\n",
        "<td>Rate</td></tr>\n",
        "<tr><td>NO</td>\n",
        "<td>391.0</td>\n",
        "<td>826.0</td>\n",
        "<td>0.6787</td>\n",
        "<td> (826.0/1217.0)</td></tr>\n",
        "<tr><td>YES</td>\n",
        "<td>161.0</td>\n",
        "<td>1313.0</td>\n",
        "<td>0.1092</td>\n",
        "<td> (161.0/1474.0)</td></tr>\n",
        "<tr><td>Total</td>\n",
        "<td>552.0</td>\n",
        "<td>2139.0</td>\n",
        "<td>0.7879</td>\n",
        "<td> (0.7879/2691.0)</td></tr></table></div>"
       ],
       "metadata": {},
       "output_type": "display_data",
       "text": [
        "       NO    YES    Error    Rate\n",
        "-----  ----  -----  -------  ---------------\n",
        "NO     391   826    0.6787   (826.0/1217.0)\n",
        "YES    161   1313   0.1092   (161.0/1474.0)\n",
        "Total  552   2139   0.7879   (0.7879/2691.0)"
       ]
      },
      {
       "output_type": "stream",
       "stream": "stdout",
       "text": [
        "\n"
       ]
      }
     ],
     "prompt_number": 9
    },
    {
     "cell_type": "code",
     "collapsed": false,
     "input": [
      "# ROC for test set\n",
      "print('GBM Precision: {0}'.format(gbm_perf.precision()))\n",
      "print('GBM Accuracy: {0}'.format(gbm_perf.accuracy()))\n",
      "print('GBM AUC: {0}'.format(gbm_perf.auc()))\n",
      "print\n",
      "print('GLM Precision: {0}'.format(glm_perf.precision()))\n",
      "print('GLM Accuracy: {0}'.format(glm_perf.accuracy()))\n",
      "print('GLM AUC: {0}'.format(glm_perf.auc()))"
     ],
     "language": "python",
     "metadata": {},
     "outputs": [
      {
       "output_type": "stream",
       "stream": "stdout",
       "text": [
        "GBM Precision: [[0.6780965253938488, 0.8472222222222222]]\n",
        "GBM Accuracy: [[0.5222965963143628, 0.6577480490523968]]\n",
        "GBM AUC: 0.692409878597\n",
        "\n",
        "GLM Precision: [[0.8872372387438643, 1.0]]\n",
        "GLM Accuracy: [[0.5406149213176982, 0.6558900037160906]]\n",
        "GLM AUC: 0.69739355066\n"
       ]
      }
     ],
     "prompt_number": 10
    }
   ],
   "metadata": {}
  }
 ]
}
